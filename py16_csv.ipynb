{
  "nbformat": 4,
  "nbformat_minor": 0,
  "metadata": {
    "colab": {
      "provenance": [],
      "include_colab_link": true
    },
    "kernelspec": {
      "name": "python3",
      "display_name": "Python 3"
    },
    "language_info": {
      "name": "python"
    }
  },
  "cells": [
    {
      "cell_type": "markdown",
      "metadata": {
        "id": "view-in-github",
        "colab_type": "text"
      },
      "source": [
        "<a href=\"https://colab.research.google.com/github/ByeonJuHwan/PythonStudy/blob/main/py16_csv.ipynb\" target=\"_parent\"><img src=\"https://colab.research.google.com/assets/colab-badge.svg\" alt=\"Open In Colab\"/></a>"
      ]
    },
    {
      "cell_type": "markdown",
      "source": [
        "* Colab 연결.\n",
        "* Google Drive 마운트(연결).\n",
        "* csv_exam.csv 파일을 Google Drive의 lab_python 폴더에 업로드."
      ],
      "metadata": {
        "id": "Nl6WD5ZHz_ZY"
      }
    },
    {
      "cell_type": "code",
      "source": [
        "from google.colab import drive\n",
        "drive.mount('/content/drive')"
      ],
      "metadata": {
        "colab": {
          "base_uri": "https://localhost:8080/"
        },
        "id": "S_VS6wga_Ky_",
        "outputId": "ddc7f264-388a-4a59-fbc8-e8330296c9e8"
      },
      "execution_count": null,
      "outputs": [
        {
          "output_type": "stream",
          "name": "stdout",
          "text": [
            "Mounted at /content/drive\n"
          ]
        }
      ]
    },
    {
      "cell_type": "markdown",
      "source": [
        "\n",
        "1. csv_exam.csv 파일을 읽기 모드로 오픈\n",
        "1. 파일의 첫번째 줄은 (컬럼 이름이기 때문에) 읽고 아무 동작 없이 건너뜀.\n",
        "1. 파일의 두번째 줄부터 마지막 줄까지 반복:\n",
        "    * 각 줄에서 읽은 내용을 쉼표(,)로 구분한 리스트들을 저장하는 리스트를 만듦.\n",
        "    ```\n",
        "    [['1', '1', '50', '98' , '50'], ['2', '1', '60', '97', '60'], ...]\n",
        "    ```\n",
        "1. 2차원 리스트의 모든 값들을 숫자로 변환.\n",
        "    ```\n",
        "    [[1, 1, 50, 98 , 50], [2, 1, 60, 97, 60], ...]\n",
        "    ```\n",
        "1. 2차원 리스트에서 수학 점수들로만 이루어진 1차원 리스트를 만듦.\n",
        "    ```\n",
        "    [50, 60, 45, ...]\n",
        "    ```\n",
        "1. 수학 점수의 평균, 최댓값, 최솟값을 찾음.\n",
        "1. 1반 학생들의 수학 점수의 총점, 평균, 최댓값, 최솟값 찾음.\n"
      ],
      "metadata": {
        "id": "Gh8x_ktHzsog"
      }
    },
    {
      "cell_type": "code",
      "source": [
        "dir_path = '/content/drive/MyDrive/Colab Notebooks/lab-python/csv_exam.csv'"
      ],
      "metadata": {
        "colab": {
          "base_uri": "https://localhost:8080/",
          "height": 35
        },
        "id": "Vu1R768l_8mm",
        "outputId": "37fd64e0-433b-48ff-dc7b-a4046dd25cad"
      },
      "execution_count": null,
      "outputs": [
        {
          "output_type": "execute_result",
          "data": {
            "text/plain": [
              "'/content/drive/MyDrive/Colab Notebooks/lab-python/csv_exam.csv/csv_exam.csv'"
            ],
            "application/vnd.google.colaboratory.intrinsic+json": {
              "type": "string"
            }
          },
          "metadata": {},
          "execution_count": 6
        }
      ]
    },
    {
      "cell_type": "code",
      "execution_count": null,
      "metadata": {
        "id": "YVUAdlq3znkk",
        "colab": {
          "base_uri": "https://localhost:8080/"
        },
        "outputId": "552a6fef-aece-4c64-88fb-badf9a8183eb"
      },
      "outputs": [
        {
          "output_type": "stream",
          "name": "stdout",
          "text": [
            "[['1', '1', '50', '98', '50'], ['2', '1', '60', '97', '60'], ['3', '1', '45', '86', '78'], ['4', '1', '30', '98', '58'], ['5', '2', '25', '80', '65'], ['6', '2', '50', '89', '98'], ['7', '2', '80', '90', '45'], ['8', '2', '90', '78', '25'], ['9', '3', '20', '98', '15'], ['10', '3', '50', '98', '45'], ['11', '3', '65', '65', '65'], ['12', '3', '45', '85', '32'], ['13', '4', '46', '98', '65'], ['14', '4', '48', '87', '12'], ['15', '4', '75', '56', '78'], ['16', '4', '58', '98', '65'], ['17', '5', '65', '68', '98'], ['18', '5', '80', '78', '90'], ['19', '5', '89', '68', '87'], ['20', '5', '78', '83', '58']]\n",
            "[[1, 1, 50, 98, 50], [2, 1, 60, 97, 60], [3, 1, 45, 86, 78], [4, 1, 30, 98, 58], [5, 2, 25, 80, 65], [6, 2, 50, 89, 98], [7, 2, 80, 90, 45], [8, 2, 90, 78, 25], [9, 3, 20, 98, 15], [10, 3, 50, 98, 45], [11, 3, 65, 65, 65], [12, 3, 45, 85, 32], [13, 4, 46, 98, 65], [14, 4, 48, 87, 12], [15, 4, 75, 56, 78], [16, 4, 58, 98, 65], [17, 5, 65, 68, 98], [18, 5, 80, 78, 90], [19, 5, 89, 68, 87], [20, 5, 78, 83, 58]]\n",
            "[50, 60, 45, 30, 25, 50, 80, 90, 20, 50, 65, 45, 46, 48, 75, 58, 65, 80, 89, 78]\n",
            "[20, 25, 30, 45, 45, 46, 48, 50, 50, 50, 58, 60, 65, 65, 75, 78, 80, 80, 89, 90]\n",
            "평균 = 57.45\n",
            "최솟값 = 20\n",
            "최댓값 = 90\n",
            "[50, 60, 45, 30]\n",
            "1반의평균 = 46.25\n",
            "1반의 수학 최솟값 = 30\n",
            "1반의 수학 최댓값 = 60\n"
          ]
        }
      ],
      "source": [
        "array = [] # 2번째 줄부터 마지막줄까지 넣을 배열\n",
        "math = [] # 수학만을 담을 리스트\n",
        "ave = 0 # 평균을 담음\n",
        "max = 0\n",
        "min = 0\n",
        "with open(dir_path, mode='r') as f:\n",
        "    a = []\n",
        "    for line in f: \n",
        "        array.append(line.strip().split(','))\n",
        "    del array[0] # 1번행 삭제\n",
        "    print(array)\n",
        "    for x in range(len(array)):\n",
        "        array[x] = list(map(int,array[x]))\n",
        "        a = array[x]\n",
        "        math.append(a[2]) # 수학점수를 넣음\n",
        "    print(array)\n",
        "    print(math)\n",
        "    math.sort() # 오름차순 정렬\n",
        "    print(math)\n",
        "    ave = sum(math)/len(math)\n",
        "    print(f'수학 평균 = {ave}')\n",
        "    min = math[0]\n",
        "    print(f'수학 최솟값 = {min}')\n",
        "    max = math[-1]\n",
        "    print(f'수학 최댓값 = {max}')\n",
        "\n",
        "    # 위에서부터 1~4번째값이 1반학생\n",
        "    array = array[:4]\n",
        "    math = [] # math 초기화\n",
        "    for x in range(len(array)):\n",
        "        a = array[x]\n",
        "        math.append(a[2])\n",
        "    print(math) # 1반학생들만의 수학점수\n",
        "    math.sort() # 오름차순 정렬\n",
        "    ave = sum(math)/len(math)\n",
        "    print(f'1반의평균 = {ave}')\n",
        "    min = math[0]\n",
        "    print(f'1반의 수학 최솟값 = {min}')\n",
        "    max = math[-1]\n",
        "    print(f'1반의 수학 최댓값 = {max}')"
      ]
    }
  ]
}