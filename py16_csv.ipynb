{
  "nbformat": 4,
  "nbformat_minor": 0,
  "metadata": {
    "colab": {
      "provenance": [],
      "include_colab_link": true
    },
    "kernelspec": {
      "name": "python3",
      "display_name": "Python 3"
    },
    "language_info": {
      "name": "python"
    }
  },
  "cells": [
    {
      "cell_type": "markdown",
      "metadata": {
        "id": "view-in-github",
        "colab_type": "text"
      },
      "source": [
        "<a href=\"https://colab.research.google.com/github/ByeonJuHwan/PythonStudy/blob/main/py16_csv.ipynb\" target=\"_parent\"><img src=\"https://colab.research.google.com/assets/colab-badge.svg\" alt=\"Open In Colab\"/></a>"
      ]
    },
    {
      "cell_type": "markdown",
      "source": [
        "* Colab 연결.\n",
        "* Google Drive 마운트(연결).\n",
        "* csv_exam.csv 파일을 Google Drive의 lab_python 폴더에 업로드."
      ],
      "metadata": {
        "id": "Nl6WD5ZHz_ZY"
      }
    },
    {
      "cell_type": "code",
      "source": [
        "from google.colab import drive\n",
        "drive.mount('/content/drive')"
      ],
      "metadata": {
        "colab": {
          "base_uri": "https://localhost:8080/"
        },
        "id": "S_VS6wga_Ky_",
        "outputId": "9601a074-8fae-4478-ca02-b64e15b2c4df"
      },
      "execution_count": 5,
      "outputs": [
        {
          "output_type": "stream",
          "name": "stdout",
          "text": [
            "Drive already mounted at /content/drive; to attempt to forcibly remount, call drive.mount(\"/content/drive\", force_remount=True).\n"
          ]
        }
      ]
    },
    {
      "cell_type": "markdown",
      "source": [
        "\n",
        "1. csv_exam.csv 파일을 읽기 모드로 오픈\n",
        "1. 파일의 첫번째 줄은 (컬럼 이름이기 때문에) 읽고 아무 동작 없이 건너뜀.\n",
        "1. 파일의 두번째 줄부터 마지막 줄까지 반복:\n",
        "    * 각 줄에서 읽은 내용을 쉼표(,)로 구분한 리스트들을 저장하는 리스트를 만듦.\n",
        "    ```\n",
        "    [['1', '1', '50', '98' , '50'], ['2', '1', '60', '97', '60'], ...]\n",
        "    ```\n",
        "1. 2차원 리스트의 모든 값들을 숫자로 변환.\n",
        "    ```\n",
        "    [[1, 1, 50, 98 , 50], [2, 1, 60, 97, 60], ...]\n",
        "    ```\n",
        "1. 2차원 리스트에서 수학 점수들로만 이루어진 1차원 리스트를 만듦.\n",
        "    ```\n",
        "    [50, 60, 45, ...]\n",
        "    ```\n",
        "1. 수학 점수의 평균, 최댓값, 최솟값을 찾음.\n",
        "1. 1반 학생들의 수학 점수의 총점, 평균, 최댓값, 최솟값 찾음.\n"
      ],
      "metadata": {
        "id": "Gh8x_ktHzsog"
      }
    },
    {
      "cell_type": "code",
      "source": [
        "dir_path = '/content/drive/MyDrive/Colab Notebooks/lab-python/csv_exam.csv'"
      ],
      "metadata": {
        "id": "Vu1R768l_8mm"
      },
      "execution_count": 6,
      "outputs": []
    },
    {
      "cell_type": "code",
      "execution_count": 7,
      "metadata": {
        "id": "YVUAdlq3znkk",
        "colab": {
          "base_uri": "https://localhost:8080/"
        },
        "outputId": "f29fed18-760f-4c25-ad49-f0c7de84e087"
      },
      "outputs": [
        {
          "output_type": "stream",
          "name": "stdout",
          "text": [
            "[['1', '1', '50', '98', '50'], ['2', '1', '60', '97', '60'], ['3', '1', '45', '86', '78'], ['4', '1', '30', '98', '58'], ['5', '2', '25', '80', '65'], ['6', '2', '50', '89', '98'], ['7', '2', '80', '90', '45'], ['8', '2', '90', '78', '25'], ['9', '3', '20', '98', '15'], ['10', '3', '50', '98', '45'], ['11', '3', '65', '65', '65'], ['12', '3', '45', '85', '32'], ['13', '4', '46', '98', '65'], ['14', '4', '48', '87', '12'], ['15', '4', '75', '56', '78'], ['16', '4', '58', '98', '65'], ['17', '5', '65', '68', '98'], ['18', '5', '80', '78', '90'], ['19', '5', '89', '68', '87'], ['20', '5', '78', '83', '58']]\n",
            "[[1, 1, 50, 98, 50], [2, 1, 60, 97, 60], [3, 1, 45, 86, 78], [4, 1, 30, 98, 58], [5, 2, 25, 80, 65], [6, 2, 50, 89, 98], [7, 2, 80, 90, 45], [8, 2, 90, 78, 25], [9, 3, 20, 98, 15], [10, 3, 50, 98, 45], [11, 3, 65, 65, 65], [12, 3, 45, 85, 32], [13, 4, 46, 98, 65], [14, 4, 48, 87, 12], [15, 4, 75, 56, 78], [16, 4, 58, 98, 65], [17, 5, 65, 68, 98], [18, 5, 80, 78, 90], [19, 5, 89, 68, 87], [20, 5, 78, 83, 58]]\n",
            "[50, 60, 45, 30, 25, 50, 80, 90, 20, 50, 65, 45, 46, 48, 75, 58, 65, 80, 89, 78]\n",
            "[20, 25, 30, 45, 45, 46, 48, 50, 50, 50, 58, 60, 65, 65, 75, 78, 80, 80, 89, 90]\n",
            "수학 평균 = 57.45\n",
            "수학 최솟값 = 20\n",
            "수학 최댓값 = 90\n",
            "[50, 60, 45, 30]\n",
            "1반의평균 = 46.25\n",
            "1반의 수학 최솟값 = 30\n",
            "1반의 수학 최댓값 = 60\n"
          ]
        }
      ],
      "source": [
        "array = [] # 2번째 줄부터 마지막줄까지 넣을 배열\n",
        "math = [] # 수학만을 담을 리스트\n",
        "ave = 0 # 평균을 담음\n",
        "max = 0\n",
        "min = 0\n",
        "with open(dir_path, mode='r') as f:\n",
        "    a = []\n",
        "    for line in f: \n",
        "        array.append(line.strip().split(','))\n",
        "    del array[0] # 1번행 삭제\n",
        "    print(array)\n",
        "    for x in range(len(array)):\n",
        "        array[x] = list(map(int,array[x]))\n",
        "        a = array[x]\n",
        "        math.append(a[2]) # 수학점수를 넣음\n",
        "    print(array)\n",
        "    print(math)\n",
        "    math.sort() # 오름차순 정렬\n",
        "    print(math)\n",
        "    ave = sum(math)/len(math)\n",
        "    print(f'수학 평균 = {ave}')\n",
        "    min = math[0]\n",
        "    print(f'수학 최솟값 = {min}')\n",
        "    max = math[-1]\n",
        "    print(f'수학 최댓값 = {max}')\n",
        "\n",
        "    # 위에서부터 1~4번째값이 1반학생\n",
        "    array = array[:4]\n",
        "    math = [] # math 초기화\n",
        "    for x in range(len(array)):\n",
        "        a = array[x]\n",
        "        math.append(a[2])\n",
        "    print(math) # 1반학생들만의 수학점수\n",
        "    math.sort() # 오름차순 정렬\n",
        "    ave = sum(math)/len(math)\n",
        "    print(f'1반의평균 = {ave}')\n",
        "    min = math[0]\n",
        "    print(f'1반의 수학 최솟값 = {min}')\n",
        "    max = math[-1]\n",
        "    print(f'1반의 수학 최댓값 = {max}')"
      ]
    },
    {
      "cell_type": "markdown",
      "source": [
        "# 강의 풀이"
      ],
      "metadata": {
        "id": "kYHeUAXCqYFe"
      }
    },
    {
      "cell_type": "code",
      "source": [
        "# CSV 파일이 저장된 경로\n",
        "file = '/content/drive/MyDrive/Colab Notebooks/lab-python/csv_exam.csv'"
      ],
      "metadata": {
        "id": "s4SotARUqVUW"
      },
      "execution_count": 9,
      "outputs": []
    },
    {
      "cell_type": "code",
      "source": [
        "exam = []  # CSV 파일의 데이터를 저장할 리스트"
      ],
      "metadata": {
        "id": "Rn9Lb5Oeqaol"
      },
      "execution_count": 10,
      "outputs": []
    },
    {
      "cell_type": "code",
      "source": [
        "with open(file) as f:\n",
        "    f.readline()  # 파일의 첫번째 줄은 컬럼 이름이므로 읽고 건너뜀.\n",
        "    for line in f:\n",
        "        # print(line.strip().split(sep=','))\n",
        "        exam.append(line.strip().split(sep=','))\n",
        "\n",
        "exam  # 1차원 리스트 20개를 저장하는 2차원 리스트"
      ],
      "metadata": {
        "colab": {
          "base_uri": "https://localhost:8080/"
        },
        "id": "jMV8ypSBq8i-",
        "outputId": "c1bfec9c-2f9d-49fe-fd13-5d5897a8fcfb"
      },
      "execution_count": 11,
      "outputs": [
        {
          "output_type": "execute_result",
          "data": {
            "text/plain": [
              "[['1', '1', '50', '98', '50'],\n",
              " ['2', '1', '60', '97', '60'],\n",
              " ['3', '1', '45', '86', '78'],\n",
              " ['4', '1', '30', '98', '58'],\n",
              " ['5', '2', '25', '80', '65'],\n",
              " ['6', '2', '50', '89', '98'],\n",
              " ['7', '2', '80', '90', '45'],\n",
              " ['8', '2', '90', '78', '25'],\n",
              " ['9', '3', '20', '98', '15'],\n",
              " ['10', '3', '50', '98', '45'],\n",
              " ['11', '3', '65', '65', '65'],\n",
              " ['12', '3', '45', '85', '32'],\n",
              " ['13', '4', '46', '98', '65'],\n",
              " ['14', '4', '48', '87', '12'],\n",
              " ['15', '4', '75', '56', '78'],\n",
              " ['16', '4', '58', '98', '65'],\n",
              " ['17', '5', '65', '68', '98'],\n",
              " ['18', '5', '80', '78', '90'],\n",
              " ['19', '5', '89', '68', '87'],\n",
              " ['20', '5', '78', '83', '58']]"
            ]
          },
          "metadata": {},
          "execution_count": 11
        }
      ]
    },
    {
      "cell_type": "code",
      "source": [
        "# list-comprehension\n",
        "with open(file) as f:\n",
        "    f.readline()  # 첫번째 줄은 읽고 건너뜀.\n",
        "    exam = [line.strip().split(sep=',') for line in f]"
      ],
      "metadata": {
        "id": "_kKSjXYJrG--"
      },
      "execution_count": 12,
      "outputs": []
    },
    {
      "cell_type": "code",
      "source": [
        "exam"
      ],
      "metadata": {
        "colab": {
          "base_uri": "https://localhost:8080/"
        },
        "id": "7Wam0wnYrI_H",
        "outputId": "3756a2d4-0b52-4ed4-d32e-d844bd3afcfe"
      },
      "execution_count": 13,
      "outputs": [
        {
          "output_type": "execute_result",
          "data": {
            "text/plain": [
              "[['1', '1', '50', '98', '50'],\n",
              " ['2', '1', '60', '97', '60'],\n",
              " ['3', '1', '45', '86', '78'],\n",
              " ['4', '1', '30', '98', '58'],\n",
              " ['5', '2', '25', '80', '65'],\n",
              " ['6', '2', '50', '89', '98'],\n",
              " ['7', '2', '80', '90', '45'],\n",
              " ['8', '2', '90', '78', '25'],\n",
              " ['9', '3', '20', '98', '15'],\n",
              " ['10', '3', '50', '98', '45'],\n",
              " ['11', '3', '65', '65', '65'],\n",
              " ['12', '3', '45', '85', '32'],\n",
              " ['13', '4', '46', '98', '65'],\n",
              " ['14', '4', '48', '87', '12'],\n",
              " ['15', '4', '75', '56', '78'],\n",
              " ['16', '4', '58', '98', '65'],\n",
              " ['17', '5', '65', '68', '98'],\n",
              " ['18', '5', '80', '78', '90'],\n",
              " ['19', '5', '89', '68', '87'],\n",
              " ['20', '5', '78', '83', '58']]"
            ]
          },
          "metadata": {},
          "execution_count": 13
        }
      ]
    },
    {
      "cell_type": "code",
      "source": [
        "exam2 = []  # exam의 문자열 데이터를 숫자로 변환한 값들을 저장할 리스트\n",
        "for row in exam:\n",
        "    row_num = []  # 숫자들을 저장할 1차원 리스트\n",
        "    for x in row:\n",
        "        row_num.append(int(x))  # 문자열을 int 타입으로 변환해서 리스트에 추가\n",
        "    exam2.append(row_num)  # 1차원 리스트를 2차원 리스트에 추가\n",
        "\n",
        "exam2"
      ],
      "metadata": {
        "colab": {
          "base_uri": "https://localhost:8080/"
        },
        "id": "Tx2hG2mArJrD",
        "outputId": "c3493bfa-a1bf-447c-b82b-0c2661889033"
      },
      "execution_count": 15,
      "outputs": [
        {
          "output_type": "execute_result",
          "data": {
            "text/plain": [
              "[[1, 1, 50, 98, 50],\n",
              " [2, 1, 60, 97, 60],\n",
              " [3, 1, 45, 86, 78],\n",
              " [4, 1, 30, 98, 58],\n",
              " [5, 2, 25, 80, 65],\n",
              " [6, 2, 50, 89, 98],\n",
              " [7, 2, 80, 90, 45],\n",
              " [8, 2, 90, 78, 25],\n",
              " [9, 3, 20, 98, 15],\n",
              " [10, 3, 50, 98, 45],\n",
              " [11, 3, 65, 65, 65],\n",
              " [12, 3, 45, 85, 32],\n",
              " [13, 4, 46, 98, 65],\n",
              " [14, 4, 48, 87, 12],\n",
              " [15, 4, 75, 56, 78],\n",
              " [16, 4, 58, 98, 65],\n",
              " [17, 5, 65, 68, 98],\n",
              " [18, 5, 80, 78, 90],\n",
              " [19, 5, 89, 68, 87],\n",
              " [20, 5, 78, 83, 58]]"
            ]
          },
          "metadata": {},
          "execution_count": 15
        }
      ]
    },
    {
      "cell_type": "code",
      "source": [
        "exam2 = []\n",
        "for row in exam:\n",
        "    row_num = [int(x) for x in row]\n",
        "    exam2.append(row_num)\n",
        "\n",
        "exam2"
      ],
      "metadata": {
        "colab": {
          "base_uri": "https://localhost:8080/"
        },
        "id": "jjM29jc8rQjb",
        "outputId": "0cf269bf-9e11-4465-daca-6042165c2b1f"
      },
      "execution_count": 16,
      "outputs": [
        {
          "output_type": "execute_result",
          "data": {
            "text/plain": [
              "[[1, 1, 50, 98, 50],\n",
              " [2, 1, 60, 97, 60],\n",
              " [3, 1, 45, 86, 78],\n",
              " [4, 1, 30, 98, 58],\n",
              " [5, 2, 25, 80, 65],\n",
              " [6, 2, 50, 89, 98],\n",
              " [7, 2, 80, 90, 45],\n",
              " [8, 2, 90, 78, 25],\n",
              " [9, 3, 20, 98, 15],\n",
              " [10, 3, 50, 98, 45],\n",
              " [11, 3, 65, 65, 65],\n",
              " [12, 3, 45, 85, 32],\n",
              " [13, 4, 46, 98, 65],\n",
              " [14, 4, 48, 87, 12],\n",
              " [15, 4, 75, 56, 78],\n",
              " [16, 4, 58, 98, 65],\n",
              " [17, 5, 65, 68, 98],\n",
              " [18, 5, 80, 78, 90],\n",
              " [19, 5, 89, 68, 87],\n",
              " [20, 5, 78, 83, 58]]"
            ]
          },
          "metadata": {},
          "execution_count": 16
        }
      ]
    },
    {
      "cell_type": "code",
      "source": [
        "exam2 = [[int(x) for x in row] \n",
        "         for row in exam]\n",
        "exam2"
      ],
      "metadata": {
        "colab": {
          "base_uri": "https://localhost:8080/"
        },
        "id": "lwMpnuaGrR0_",
        "outputId": "896051c9-6152-475b-ce4d-a64bb4cafa38"
      },
      "execution_count": 17,
      "outputs": [
        {
          "output_type": "execute_result",
          "data": {
            "text/plain": [
              "[[1, 1, 50, 98, 50],\n",
              " [2, 1, 60, 97, 60],\n",
              " [3, 1, 45, 86, 78],\n",
              " [4, 1, 30, 98, 58],\n",
              " [5, 2, 25, 80, 65],\n",
              " [6, 2, 50, 89, 98],\n",
              " [7, 2, 80, 90, 45],\n",
              " [8, 2, 90, 78, 25],\n",
              " [9, 3, 20, 98, 15],\n",
              " [10, 3, 50, 98, 45],\n",
              " [11, 3, 65, 65, 65],\n",
              " [12, 3, 45, 85, 32],\n",
              " [13, 4, 46, 98, 65],\n",
              " [14, 4, 48, 87, 12],\n",
              " [15, 4, 75, 56, 78],\n",
              " [16, 4, 58, 98, 65],\n",
              " [17, 5, 65, 68, 98],\n",
              " [18, 5, 80, 78, 90],\n",
              " [19, 5, 89, 68, 87],\n",
              " [20, 5, 78, 83, 58]]"
            ]
          },
          "metadata": {},
          "execution_count": 17
        }
      ]
    },
    {
      "cell_type": "code",
      "source": [
        "test = ['1', '2']\n",
        "for i, x in enumerate(test):\n",
        "    test[i] = int(x)\n",
        "test"
      ],
      "metadata": {
        "colab": {
          "base_uri": "https://localhost:8080/"
        },
        "id": "xjtlAglnrbh1",
        "outputId": "268aad82-dbbb-42dc-eb06-a8e04df9715a"
      },
      "execution_count": 18,
      "outputs": [
        {
          "output_type": "execute_result",
          "data": {
            "text/plain": [
              "[1, 2]"
            ]
          },
          "metadata": {},
          "execution_count": 18
        }
      ]
    },
    {
      "cell_type": "code",
      "source": [
        "#math = [] # 수학 점수들만 저장할 (1차원) 리스트\n",
        "#for row in exam2: # 2차원 리스트에서 1차원 리스트를 순서대로 반복하면서\n",
        "#    math.append(row[2]) # 수학점수(1차원 리스트의 인덱스 2번 원소를) 리스트에 추가.\n",
        "\n",
        "math = [row[2] for row in exam2]\n",
        "print(math)"
      ],
      "metadata": {
        "colab": {
          "base_uri": "https://localhost:8080/"
        },
        "id": "o5k6RCfLrc8z",
        "outputId": "3fb00992-b2f7-461f-e569-631c09d32447"
      },
      "execution_count": 21,
      "outputs": [
        {
          "output_type": "stream",
          "name": "stdout",
          "text": [
            "[50, 60, 45, 30, 25, 50, 80, 90, 20, 50, 65, 45, 46, 48, 75, 58, 65, 80, 89, 78]\n"
          ]
        }
      ]
    },
    {
      "cell_type": "code",
      "source": [
        "sum(math)/len(math)"
      ],
      "metadata": {
        "colab": {
          "base_uri": "https://localhost:8080/"
        },
        "id": "wkfTUuF8sfM2",
        "outputId": "d76459de-260a-45bf-c337-126cd711103c"
      },
      "execution_count": 22,
      "outputs": [
        {
          "output_type": "execute_result",
          "data": {
            "text/plain": [
              "57.45"
            ]
          },
          "metadata": {},
          "execution_count": 22
        }
      ]
    },
    {
      "cell_type": "code",
      "source": [
        "math_class1 = [] \n",
        "for row in exam2: # 2차원 리스트에서 순서대로 1차원 리스트를 반복하면서\n",
        "    if row[1] == 1: # class 값이 1이면\n",
        "        math_class1.append(row[2]) # 수학 점수를 리스트에 추가\n",
        "math_class1"
      ],
      "metadata": {
        "colab": {
          "base_uri": "https://localhost:8080/"
        },
        "id": "PY7_s32luDmY",
        "outputId": "4607a736-f752-4151-dcbf-443e5d7ecce4"
      },
      "execution_count": 25,
      "outputs": [
        {
          "output_type": "execute_result",
          "data": {
            "text/plain": [
              "[50, 60, 45, 30]"
            ]
          },
          "metadata": {},
          "execution_count": 25
        }
      ]
    },
    {
      "cell_type": "code",
      "source": [
        "math_class1 = [row[2] for row in exam2 if row[1]==1]\n",
        "math_class1"
      ],
      "metadata": {
        "colab": {
          "base_uri": "https://localhost:8080/"
        },
        "id": "_YNQee6nvndu",
        "outputId": "0a4297ea-b320-4194-fcb3-9159c2c97b14"
      },
      "execution_count": 27,
      "outputs": [
        {
          "output_type": "execute_result",
          "data": {
            "text/plain": [
              "[50, 60, 45, 30]"
            ]
          },
          "metadata": {},
          "execution_count": 27
        }
      ]
    }
  ]
}