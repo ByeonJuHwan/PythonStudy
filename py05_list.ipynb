{
  "nbformat": 4,
  "nbformat_minor": 0,
  "metadata": {
    "colab": {
      "provenance": [],
      "authorship_tag": "ABX9TyNuuj9SEa/SCvAyUm+Ogwku",
      "include_colab_link": true
    },
    "kernelspec": {
      "name": "python3",
      "display_name": "Python 3"
    },
    "language_info": {
      "name": "python"
    }
  },
  "cells": [
    {
      "cell_type": "markdown",
      "metadata": {
        "id": "view-in-github",
        "colab_type": "text"
      },
      "source": [
        "<a href=\"https://colab.research.google.com/github/ByeonJuHwan/PythonStudy/blob/main/py05_list.ipynb\" target=\"_parent\"><img src=\"https://colab.research.google.com/assets/colab-badge.svg\" alt=\"Open In Colab\"/></a>"
      ]
    },
    {
      "cell_type": "markdown",
      "source": [
        "# List(리스트)\n",
        "\n",
        "list : 여러개의 값들을 하나의 변수에 저장하기 위한 데이터 타입.\n",
        "\n",
        "* element(원소, 요소): 리스트에 저장되는 각각의 값.\n",
        "* index(인덱스) : 리스트에 원소들이 저장된 위치.\n",
        "    * 리스트의 인덱스는 **0**부터 시작\n",
        "    * 리스트의 마지막 인덱스는 **(원소 개수 -1)**\n",
        "* 리스트는 원소들을 추가/삭제/변경할 수 있음.\n",
        "    * `tuple`과 다른점!"
      ],
      "metadata": {
        "id": "fXPuVnaxXagc"
      }
    },
    {
      "cell_type": "code",
      "execution_count": 4,
      "metadata": {
        "id": "zhP87TBbXTQB",
        "colab": {
          "base_uri": "https://localhost:8080/"
        },
        "outputId": "a50e2284-515d-4a74-ce0e-a94ddbb86009"
      },
      "outputs": [
        {
          "output_type": "stream",
          "name": "stdout",
          "text": [
            "[1, 2, 3, 10, 20, 30]\n"
          ]
        }
      ],
      "source": [
        "# 숫자들을 저장하는 리스트\n",
        "numbers = [1,2,3,10,20,30]\n",
        "print(numbers)"
      ]
    },
    {
      "cell_type": "markdown",
      "source": [
        "## indexing\n",
        "\n",
        "인덱스를 사용해서 리스트에서 원소를 참조하는 방법."
      ],
      "metadata": {
        "id": "gVQW2A7iZUET"
      }
    },
    {
      "cell_type": "code",
      "source": [
        "numbers[0] # 리스트의 첫번째 원소 값"
      ],
      "metadata": {
        "colab": {
          "base_uri": "https://localhost:8080/"
        },
        "id": "V78mgnIoZqax",
        "outputId": "840da777-fe36-45fc-957a-9b45e7598464"
      },
      "execution_count": 5,
      "outputs": [
        {
          "output_type": "execute_result",
          "data": {
            "text/plain": [
              "1"
            ]
          },
          "metadata": {},
          "execution_count": 5
        }
      ]
    },
    {
      "cell_type": "code",
      "source": [
        "numbers[5]# 리스트의 마지막 원소 값"
      ],
      "metadata": {
        "colab": {
          "base_uri": "https://localhost:8080/"
        },
        "id": "sb7vKkE0ZuQe",
        "outputId": "d48f65ef-1d94-4e6c-d45b-a4970d30ff0c"
      },
      "execution_count": 6,
      "outputs": [
        {
          "output_type": "execute_result",
          "data": {
            "text/plain": [
              "30"
            ]
          },
          "metadata": {},
          "execution_count": 6
        }
      ]
    },
    {
      "cell_type": "code",
      "source": [
        "numbers[-1]"
      ],
      "metadata": {
        "colab": {
          "base_uri": "https://localhost:8080/"
        },
        "id": "9lYhj3VtZ40y",
        "outputId": "f48b7104-bbec-4f67-b2d8-ccbe114766a2"
      },
      "execution_count": 7,
      "outputs": [
        {
          "output_type": "execute_result",
          "data": {
            "text/plain": [
              "30"
            ]
          },
          "metadata": {},
          "execution_count": 7
        }
      ]
    },
    {
      "cell_type": "markdown",
      "source": [
        "## slicing\n",
        "\n",
        "인덱스를 사용해서 리스트의 부분집합(리스트)를 잘라내는 방법.\n",
        "\n",
        "```\n",
        "list[start:end]\n",
        "```\n",
        "\n",
        "* start <= index < end 범위의 인덱스 위치의 원소들을 잘라냄.\n",
        "* start를 생략한 경우에는 첫번째 원소부터 잘라냄. `list[:10`과 `list[0:10]`은 동일.\n",
        "* end를 생략한 경우에는 마지막 원소까지 잘라냄.\n",
        "* 리스트를 slicing한 결과는 또다른 새로운 리스트!\n",
        "\n",
        "\n"
      ],
      "metadata": {
        "id": "3xMj33e2bL4z"
      }
    },
    {
      "cell_type": "code",
      "source": [
        "# 리스트 numbers에서 첫번째 원소부터 순서대로 3개 잘라냄\n",
        "numbers[:3]"
      ],
      "metadata": {
        "colab": {
          "base_uri": "https://localhost:8080/"
        },
        "id": "K38ybH4htmjr",
        "outputId": "2e3aa4c8-db77-47c6-ddfb-4fa171548006"
      },
      "execution_count": 8,
      "outputs": [
        {
          "output_type": "execute_result",
          "data": {
            "text/plain": [
              "[1, 2, 3]"
            ]
          },
          "metadata": {},
          "execution_count": 8
        }
      ]
    },
    {
      "cell_type": "code",
      "source": [
        "# 리스트 numbers에서 끝에서 3개의 원소를 잘라냄\n",
        "numbers[-3:]"
      ],
      "metadata": {
        "colab": {
          "base_uri": "https://localhost:8080/"
        },
        "id": "JFwn8LajtrC3",
        "outputId": "abd4daef-c76c-4cb4-804e-e23773c1fb38"
      },
      "execution_count": 9,
      "outputs": [
        {
          "output_type": "execute_result",
          "data": {
            "text/plain": [
              "[10, 20, 30]"
            ]
          },
          "metadata": {},
          "execution_count": 9
        }
      ]
    },
    {
      "cell_type": "code",
      "source": [
        "print(numbers[0:1])\n",
        "print(numbers[0])"
      ],
      "metadata": {
        "colab": {
          "base_uri": "https://localhost:8080/"
        },
        "id": "h-UND3l7vOdV",
        "outputId": "eed5191e-b641-42f7-cff7-f004588bb4ad"
      },
      "execution_count": 10,
      "outputs": [
        {
          "output_type": "stream",
          "name": "stdout",
          "text": [
            "[1]\n",
            "1\n"
          ]
        }
      ]
    },
    {
      "cell_type": "markdown",
      "source": [
        "# 문자열\n",
        "\n",
        "문자열 : 문자들의 리스트. indexing, slicing을 사용할 수 있음."
      ],
      "metadata": {
        "id": "aTM1ou30v-aR"
      }
    },
    {
      "cell_type": "code",
      "source": [
        "message = '안녕하세요, 파이썬!' # 11개의 문자들을 원소로 갖는 문자열"
      ],
      "metadata": {
        "id": "JHkSUxLuwF_d"
      },
      "execution_count": 11,
      "outputs": []
    },
    {
      "cell_type": "code",
      "source": [
        "message[0] # 문자열의 첫번째 글자"
      ],
      "metadata": {
        "colab": {
          "base_uri": "https://localhost:8080/",
          "height": 35
        },
        "id": "-x4pWgUWwWTq",
        "outputId": "18c1138e-732d-463f-e8b2-98b0f27d1337"
      },
      "execution_count": 12,
      "outputs": [
        {
          "output_type": "execute_result",
          "data": {
            "text/plain": [
              "'안'"
            ],
            "application/vnd.google.colaboratory.intrinsic+json": {
              "type": "string"
            }
          },
          "metadata": {},
          "execution_count": 12
        }
      ]
    },
    {
      "cell_type": "code",
      "source": [
        "message[10] # 문자열의 마지막 글자"
      ],
      "metadata": {
        "colab": {
          "base_uri": "https://localhost:8080/",
          "height": 35
        },
        "id": "xl9vKbg9wZzb",
        "outputId": "470e34af-97d6-4691-be70-2b9babf44e28"
      },
      "execution_count": 13,
      "outputs": [
        {
          "output_type": "execute_result",
          "data": {
            "text/plain": [
              "'!'"
            ],
            "application/vnd.google.colaboratory.intrinsic+json": {
              "type": "string"
            }
          },
          "metadata": {},
          "execution_count": 13
        }
      ]
    },
    {
      "cell_type": "code",
      "source": [
        "message[-1]"
      ],
      "metadata": {
        "colab": {
          "base_uri": "https://localhost:8080/",
          "height": 35
        },
        "id": "bHh7bTedwppU",
        "outputId": "106cbd35-d72d-4fae-a666-caf986d3426c"
      },
      "execution_count": 14,
      "outputs": [
        {
          "output_type": "execute_result",
          "data": {
            "text/plain": [
              "'!'"
            ],
            "application/vnd.google.colaboratory.intrinsic+json": {
              "type": "string"
            }
          },
          "metadata": {},
          "execution_count": 14
        }
      ]
    },
    {
      "cell_type": "code",
      "source": [
        "message[:3] # 앞에서 3글자"
      ],
      "metadata": {
        "colab": {
          "base_uri": "https://localhost:8080/",
          "height": 35
        },
        "id": "hJBoi5yvwsgh",
        "outputId": "92fe2a89-e88f-40c7-a6c5-f34a6b89a9ea"
      },
      "execution_count": 15,
      "outputs": [
        {
          "output_type": "execute_result",
          "data": {
            "text/plain": [
              "'안녕하'"
            ],
            "application/vnd.google.colaboratory.intrinsic+json": {
              "type": "string"
            }
          },
          "metadata": {},
          "execution_count": 15
        }
      ]
    },
    {
      "cell_type": "code",
      "source": [
        "message[-3:] # 뒤에서 3글자"
      ],
      "metadata": {
        "colab": {
          "base_uri": "https://localhost:8080/",
          "height": 35
        },
        "id": "_C0zb61ZwwyR",
        "outputId": "6ecab409-75b8-4e43-f430-31ca9377a1b4"
      },
      "execution_count": 16,
      "outputs": [
        {
          "output_type": "execute_result",
          "data": {
            "text/plain": [
              "'이썬!'"
            ],
            "application/vnd.google.colaboratory.intrinsic+json": {
              "type": "string"
            }
          },
          "metadata": {},
          "execution_count": 16
        }
      ]
    },
    {
      "cell_type": "code",
      "source": [
        "# 문자열 + 문자열\n",
        "'Hello' + 'Python'"
      ],
      "metadata": {
        "colab": {
          "base_uri": "https://localhost:8080/",
          "height": 35
        },
        "id": "McpVDthrxT30",
        "outputId": "a6d94564-4cd5-4472-8536-894ee23f251c"
      },
      "execution_count": 17,
      "outputs": [
        {
          "output_type": "execute_result",
          "data": {
            "text/plain": [
              "'HelloPython'"
            ],
            "application/vnd.google.colaboratory.intrinsic+json": {
              "type": "string"
            }
          },
          "metadata": {},
          "execution_count": 17
        }
      ]
    },
    {
      "cell_type": "code",
      "source": [
        "# 문자열 + 정수 또는 정수 * 문자열\n",
        "'Hello' * 3"
      ],
      "metadata": {
        "colab": {
          "base_uri": "https://localhost:8080/",
          "height": 35
        },
        "id": "8z3__GYMxbhR",
        "outputId": "b6c1b5ab-854c-40a6-a513-b0f09a49d4d3"
      },
      "execution_count": 18,
      "outputs": [
        {
          "output_type": "execute_result",
          "data": {
            "text/plain": [
              "'HelloHelloHello'"
            ],
            "application/vnd.google.colaboratory.intrinsic+json": {
              "type": "string"
            }
          },
          "metadata": {},
          "execution_count": 18
        }
      ]
    },
    {
      "cell_type": "markdown",
      "source": [
        "# list의 산술 연산\n",
        "\n",
        "* `list + list`\n",
        "* `list * 정수` 또는 `list * 정수`"
      ],
      "metadata": {
        "id": "sm6JnZ-pxy3B"
      }
    },
    {
      "cell_type": "code",
      "source": [
        "[1,2,3] + [4,5,6]"
      ],
      "metadata": {
        "colab": {
          "base_uri": "https://localhost:8080/"
        },
        "id": "YdeteWc0yAAd",
        "outputId": "1a8691f6-fbac-4736-bb78-5fc0f7b1c827"
      },
      "execution_count": 19,
      "outputs": [
        {
          "output_type": "execute_result",
          "data": {
            "text/plain": [
              "[1, 2, 3, 4, 5, 6]"
            ]
          },
          "metadata": {},
          "execution_count": 19
        }
      ]
    },
    {
      "cell_type": "code",
      "source": [
        "3*[1,2,3]"
      ],
      "metadata": {
        "colab": {
          "base_uri": "https://localhost:8080/"
        },
        "id": "ZLBte8YzyEDV",
        "outputId": "3f910be0-07ff-45a8-b5f3-83f2bbbf63e0"
      },
      "execution_count": 20,
      "outputs": [
        {
          "output_type": "execute_result",
          "data": {
            "text/plain": [
              "[1, 2, 3, 1, 2, 3, 1, 2, 3]"
            ]
          },
          "metadata": {},
          "execution_count": 20
        }
      ]
    },
    {
      "cell_type": "markdown",
      "source": [
        "# list 객체의 기능 (메서드)\n",
        "\n",
        "* `list.append(arg)` : 리스트의 가장 마지막에 새로운 원소(value)를 추가.\n",
        "* `list.insert(index, value)` : 리스트의 index 위치에 value를 추가.\n",
        "* `list.extend(iterable)` : list1 + list2\n",
        "* `list.remove(value)` : 리스트에서 처음 등장하는 value를 삭제.\n",
        "* `list.pop(index)` : 리스트에서 index 위치에 있는 원소를 삭제.\n",
        "* `list.clear()` : 리스트의 모든 원소를 삭제."
      ],
      "metadata": {
        "id": "SpCMGkdOyXnB"
      }
    },
    {
      "cell_type": "code",
      "source": [
        "list1 = [1,2,3,4,5]"
      ],
      "metadata": {
        "id": "DCATI4oVz-g5"
      },
      "execution_count": 21,
      "outputs": []
    },
    {
      "cell_type": "code",
      "source": [
        "list1.append(10)"
      ],
      "metadata": {
        "id": "dTgzZtzP0AeV"
      },
      "execution_count": 22,
      "outputs": []
    },
    {
      "cell_type": "code",
      "source": [
        "list1"
      ],
      "metadata": {
        "colab": {
          "base_uri": "https://localhost:8080/"
        },
        "id": "BTxE-BUV0C8J",
        "outputId": "d6f45b4c-eb17-49e3-c230-d297a9a2201b"
      },
      "execution_count": 23,
      "outputs": [
        {
          "output_type": "execute_result",
          "data": {
            "text/plain": [
              "[1, 2, 3, 4, 5, 10]"
            ]
          },
          "metadata": {},
          "execution_count": 23
        }
      ]
    },
    {
      "cell_type": "code",
      "source": [
        "list1.extend([100,200,300])"
      ],
      "metadata": {
        "id": "lrfCaZdG0RZ8"
      },
      "execution_count": 24,
      "outputs": []
    },
    {
      "cell_type": "code",
      "source": [
        "list1"
      ],
      "metadata": {
        "colab": {
          "base_uri": "https://localhost:8080/"
        },
        "id": "iXLLtDQ60lRC",
        "outputId": "e105a397-b38c-4676-f93d-cc55436cbcdd"
      },
      "execution_count": 25,
      "outputs": [
        {
          "output_type": "execute_result",
          "data": {
            "text/plain": [
              "[1, 2, 3, 4, 5, 10, 100, 200, 300]"
            ]
          },
          "metadata": {},
          "execution_count": 25
        }
      ]
    },
    {
      "cell_type": "code",
      "source": [
        "list1.append([1,2,3,4,5])"
      ],
      "metadata": {
        "id": "RdmAwIKY1AWe"
      },
      "execution_count": 26,
      "outputs": []
    },
    {
      "cell_type": "code",
      "source": [
        "list1"
      ],
      "metadata": {
        "colab": {
          "base_uri": "https://localhost:8080/"
        },
        "id": "mejaEEpQ1Cce",
        "outputId": "07f20912-3c6d-497b-910a-85a0fd4c5e9f"
      },
      "execution_count": 27,
      "outputs": [
        {
          "output_type": "execute_result",
          "data": {
            "text/plain": [
              "[1, 2, 3, 4, 5, 10, 100, 200, 300, [1, 2, 3, 4, 5]]"
            ]
          },
          "metadata": {},
          "execution_count": 27
        }
      ]
    },
    {
      "cell_type": "code",
      "source": [
        "list1.clear()"
      ],
      "metadata": {
        "id": "K7puTMXI1C4i"
      },
      "execution_count": 28,
      "outputs": []
    },
    {
      "cell_type": "code",
      "source": [
        "list1"
      ],
      "metadata": {
        "id": "r7fUA6Xw1dQz",
        "outputId": "7ac9addc-6e9e-4807-cf16-e00d97247c01",
        "colab": {
          "base_uri": "https://localhost:8080/"
        }
      },
      "execution_count": 29,
      "outputs": [
        {
          "output_type": "execute_result",
          "data": {
            "text/plain": [
              "[]"
            ]
          },
          "metadata": {},
          "execution_count": 29
        }
      ]
    },
    {
      "cell_type": "markdown",
      "source": [
        "# list와 for반복문"
      ],
      "metadata": {
        "id": "MVPjRgvz1vpx"
      }
    },
    {
      "cell_type": "code",
      "source": [
        "for x in '안녕하세요':\n",
        "    print(x)"
      ],
      "metadata": {
        "colab": {
          "base_uri": "https://localhost:8080/"
        },
        "id": "cqkzZyNu1yBO",
        "outputId": "cbefdb56-9170-4fb4-caf3-38bf01b54658"
      },
      "execution_count": 30,
      "outputs": [
        {
          "output_type": "stream",
          "name": "stdout",
          "text": [
            "안\n",
            "녕\n",
            "하\n",
            "세\n",
            "요\n"
          ]
        }
      ]
    },
    {
      "cell_type": "code",
      "source": [
        "numbers = [1,3,10,20]\n",
        "for x in numbers:\n",
        "    print(x)"
      ],
      "metadata": {
        "colab": {
          "base_uri": "https://localhost:8080/"
        },
        "id": "21f9conR2EO6",
        "outputId": "7a4af7bf-1fc8-4493-83c6-5d5e7344d471"
      },
      "execution_count": 31,
      "outputs": [
        {
          "output_type": "stream",
          "name": "stdout",
          "text": [
            "1\n",
            "3\n",
            "10\n",
            "20\n"
          ]
        }
      ]
    },
    {
      "cell_type": "code",
      "source": [
        "for i, v in enumerate(numbers):\n",
        "    print(i, ' : ', v)"
      ],
      "metadata": {
        "colab": {
          "base_uri": "https://localhost:8080/"
        },
        "id": "kILdYKEq2xyQ",
        "outputId": "66a5f332-bde8-47a1-a1fa-2778250c9a23"
      },
      "execution_count": 32,
      "outputs": [
        {
          "output_type": "stream",
          "name": "stdout",
          "text": [
            "0  :  1\n",
            "1  :  3\n",
            "2  :  10\n",
            "3  :  20\n"
          ]
        }
      ]
    },
    {
      "cell_type": "markdown",
      "source": [
        " 파이썬에서 난수 생성 : `ramdom` 모듈을 import하고 ,random모듈의 함수를 사용."
      ],
      "metadata": {
        "id": "O44aJfEN7vwh"
      }
    },
    {
      "cell_type": "code",
      "source": [
        "import random"
      ],
      "metadata": {
        "id": "FAr3q8uO75dV"
      },
      "execution_count": 33,
      "outputs": []
    },
    {
      "cell_type": "code",
      "source": [
        "random.random() # [0,1) 0 <= x < 1 범위의 실수 난수 1개를 리턴."
      ],
      "metadata": {
        "colab": {
          "base_uri": "https://localhost:8080/"
        },
        "id": "Hk_WGDhv77KD",
        "outputId": "54429c1b-c0e7-45c6-c158-bfe26e31ba02"
      },
      "execution_count": 34,
      "outputs": [
        {
          "output_type": "execute_result",
          "data": {
            "text/plain": [
              "0.3425519061900384"
            ]
          },
          "metadata": {},
          "execution_count": 34
        }
      ]
    },
    {
      "cell_type": "code",
      "source": [
        "random.randrange(10) # [0, 10) 범위의 정수 난수 1개를 리턴."
      ],
      "metadata": {
        "colab": {
          "base_uri": "https://localhost:8080/"
        },
        "id": "FNImuVnU83gK",
        "outputId": "08d879a3-4fe2-43ad-e181-8a4829ad3a45"
      },
      "execution_count": 35,
      "outputs": [
        {
          "output_type": "execute_result",
          "data": {
            "text/plain": [
              "8"
            ]
          },
          "metadata": {},
          "execution_count": 35
        }
      ]
    },
    {
      "cell_type": "code",
      "source": [
        "random.randint(0,2) # [0,2] 범위의 정수 난수 1개를 리턴."
      ],
      "metadata": {
        "id": "MqUqVrVw9muf",
        "colab": {
          "base_uri": "https://localhost:8080/"
        },
        "outputId": "39a6a32a-4ee9-410e-a965-b5acaed084d2"
      },
      "execution_count": 36,
      "outputs": [
        {
          "output_type": "execute_result",
          "data": {
            "text/plain": [
              "1"
            ]
          },
          "metadata": {},
          "execution_count": 36
        }
      ]
    },
    {
      "cell_type": "markdown",
      "source": [
        "Exercises"
      ],
      "metadata": {
        "id": "JKgN5_aT-AIp"
      }
    },
    {
      "cell_type": "markdown",
      "source": [
        "## Ex 1.\n",
        "\n",
        "1. 빈 리스트를 생성\n",
        "2. `[1,10]` 1이상 10 이하의 정수 난수 5개를 저장.\n",
        "3. 리스트의 모든 정수들의 합을 출력.\n",
        "4. 리스트의 모든 정수들의 평균을 출력."
      ],
      "metadata": {
        "id": "4HJjE6ZF-GxR"
      }
    },
    {
      "cell_type": "code",
      "source": [
        "a=[random.randint(1,10) for _ in range(5)]\n",
        "print(f'리스트의 합 = {sum(a)}')\n",
        "avg = sum(a)/len(a)\n",
        "print(f'리스트의 평균 = {sum(a)/len(a)}')"
      ],
      "metadata": {
        "colab": {
          "base_uri": "https://localhost:8080/"
        },
        "id": "qX-HNR19-Zil",
        "outputId": "4cd7ddc3-9168-4ff1-add7-6187c93bb2ce"
      },
      "execution_count": 37,
      "outputs": [
        {
          "output_type": "stream",
          "name": "stdout",
          "text": [
            "리스트의 합 = 31\n",
            "리스트의 평균 = 6.2\n"
          ]
        }
      ]
    },
    {
      "cell_type": "markdown",
      "source": [
        "## EX 2.\n",
        "\n",
        "1. 빈 리스트(numbers)생성.\n",
        "1. 10 이상, 100 미만의 정수 난수 10 개를 numbers 에 저장.\n",
        "1. numbers에서 짝수들만 선택해서 evens 리스트를 만듦.\n",
        "1. numbers에서 홀수들만 선택해서 odds 리스트를 만듦."
      ],
      "metadata": {
        "id": "F4BQ2vXc-Z_i"
      }
    },
    {
      "cell_type": "code",
      "source": [
        "numbers = [random.randrange(10,100) for _ in range(10)]\n",
        "print(numbers)\n",
        "evens=[x for x in numbers if x%2==0]\n",
        "odds = [x for x in numbers if x%2==1]\n",
        "print(evens)\n",
        "odds    "
      ],
      "metadata": {
        "colab": {
          "base_uri": "https://localhost:8080/"
        },
        "id": "13DWMIA-_N6y",
        "outputId": "e17da2a0-72a2-40be-ac39-664427fc278d"
      },
      "execution_count": 38,
      "outputs": [
        {
          "output_type": "stream",
          "name": "stdout",
          "text": [
            "[71, 48, 48, 51, 14, 63, 35, 75, 24, 92]\n",
            "[48, 48, 14, 24, 92]\n"
          ]
        },
        {
          "output_type": "execute_result",
          "data": {
            "text/plain": [
              "[71, 51, 63, 35, 75]"
            ]
          },
          "metadata": {},
          "execution_count": 38
        }
      ]
    },
    {
      "cell_type": "markdown",
      "source": [
        "## Ex 3.\n",
        "\n",
        "1. 빈리스트 (numbers) 를 만듦.\n",
        "1. -10 이상 10 이하인 범위의 정수 난수 10개를 numbers에 저장.\n",
        "1. numbers의 원소가 양수이면 True, 그렇지 않으면 False를 저장하는 is_positive 리스트를 만듦."
      ],
      "metadata": {
        "id": "ECcNQc2X_OXw"
      }
    },
    {
      "cell_type": "code",
      "source": [
        "numbers = [random.randint(-10,10) for _ in range(10)]\n",
        "print(numbers)\n",
        "is_positive=['True' if x>=0 else 'False' for x in numbers]\n",
        "print(is_positive)"
      ],
      "metadata": {
        "colab": {
          "base_uri": "https://localhost:8080/"
        },
        "id": "GtPE1kTK_-BO",
        "outputId": "2406c626-054b-424b-bbbe-c11f6c440c12"
      },
      "execution_count": 39,
      "outputs": [
        {
          "output_type": "stream",
          "name": "stdout",
          "text": [
            "[-6, -4, -5, 2, 7, 2, 2, -1, -6, 10]\n",
            "['False', 'False', 'False', 'True', 'True', 'True', 'True', 'False', 'False', 'True']\n"
          ]
        }
      ]
    },
    {
      "cell_type": "markdown",
      "source": [
        "## Ex 4.\n",
        "\n",
        "1. gender_codes 리스트에 0 또는 1을 랜덤하게 10개를 저장.\n",
        "2. gender_codes의 값이 0이면 'Male', 그렇지 않으면 'Female' 을 저장하는 genders 리스트를 만듦."
      ],
      "metadata": {
        "id": "qWXjBKnJ_-cY"
      }
    },
    {
      "cell_type": "code",
      "source": [
        "gender_codes = [random.randint(0,1) for _ in range(10)]\n",
        "print(gender_codes)\n",
        "genders=['Male' if x == 0 else 'Female' for x in gender_codes]\n",
        "print(genders)"
      ],
      "metadata": {
        "colab": {
          "base_uri": "https://localhost:8080/"
        },
        "id": "nGT68IO9ARK6",
        "outputId": "5dbda6a1-f463-4534-a778-c94a3ee1de37"
      },
      "execution_count": 40,
      "outputs": [
        {
          "output_type": "stream",
          "name": "stdout",
          "text": [
            "[0, 0, 0, 0, 1, 1, 1, 1, 0, 0]\n",
            "['Male', 'Male', 'Male', 'Male', 'Female', 'Female', 'Female', 'Female', 'Male', 'Male']\n"
          ]
        }
      ]
    },
    {
      "cell_type": "markdown",
      "source": [
        "# list comprehension(리스트 내포)\n",
        "\n",
        "1부터 10까지 정수들을 차례로 저장하고 있는 리스트"
      ],
      "metadata": {
        "id": "FXmVGZOER1kA"
      }
    },
    {
      "cell_type": "code",
      "source": [
        "numbers = []\n",
        "for x in range(1,11):\n",
        "    numbers.append(x)\n",
        "numbers"
      ],
      "metadata": {
        "colab": {
          "base_uri": "https://localhost:8080/"
        },
        "id": "oKYMQ8XAR_z-",
        "outputId": "68cf7c6a-0224-4575-f829-b2e8686f8f2b"
      },
      "execution_count": 41,
      "outputs": [
        {
          "output_type": "execute_result",
          "data": {
            "text/plain": [
              "[1, 2, 3, 4, 5, 6, 7, 8, 9, 10]"
            ]
          },
          "metadata": {},
          "execution_count": 41
        }
      ]
    },
    {
      "cell_type": "code",
      "source": [
        "numbers=[x for x in range(1,11)]\n",
        "numbers"
      ],
      "metadata": {
        "colab": {
          "base_uri": "https://localhost:8080/"
        },
        "id": "oqyABAutSvJh",
        "outputId": "cad0ad83-596a-4389-f179-c83c542aef26"
      },
      "execution_count": 42,
      "outputs": [
        {
          "output_type": "execute_result",
          "data": {
            "text/plain": [
              "[1, 2, 3, 4, 5, 6, 7, 8, 9, 10]"
            ]
          },
          "metadata": {},
          "execution_count": 42
        }
      ]
    },
    {
      "cell_type": "markdown",
      "source": [
        "# Ex. 12월 26일 과제"
      ],
      "metadata": {
        "id": "H2V8gHpmlOln"
      }
    },
    {
      "cell_type": "code",
      "source": [
        "numbers1 = [random.randrange(0,10) for _ in range(10)]\n",
        "print(numbers1)\n",
        "numbers2 = [random.randrange(0,10) for _ in range(10)]\n",
        "print(numbers2)\n",
        "adds = [numbers1[n]+numbers2[n] for n in range(10)]\n",
        "print(adds)\n",
        "subtracts = [numbers1[n]-numbers2[n] for n in range(10)]\n",
        "print(subtracts)\n",
        "multiplications = [numbers1[n]*numbers2[n] for n in range(10)]\n",
        "multiplications"
      ],
      "metadata": {
        "colab": {
          "base_uri": "https://localhost:8080/"
        },
        "id": "p0PHqqeilcC7",
        "outputId": "31e98f5e-c9cc-44de-d32a-77611d630925"
      },
      "execution_count": 43,
      "outputs": [
        {
          "output_type": "stream",
          "name": "stdout",
          "text": [
            "[6, 0, 5, 6, 8, 6, 5, 9, 2, 2]\n",
            "[8, 2, 3, 0, 6, 2, 9, 0, 3, 5]\n",
            "[14, 2, 8, 6, 14, 8, 14, 9, 5, 7]\n",
            "[-2, -2, 2, 6, 2, 4, -4, 9, -1, -3]\n"
          ]
        },
        {
          "output_type": "execute_result",
          "data": {
            "text/plain": [
              "[48, 0, 15, 0, 48, 12, 45, 0, 6, 10]"
            ]
          },
          "metadata": {},
          "execution_count": 43
        }
      ]
    },
    {
      "cell_type": "code",
      "source": [
        "# zip()함수 사용.\n",
        "print(numbers1)\n",
        "print(numbers2)\n",
        "adds.clear()\n",
        "subtracts.clear()\n",
        "multiplications.clear()\n",
        "\n",
        "adds = [x+y for x, y in zip(numbers1,numbers2)]\n",
        "print(adds)\n",
        "subtracts = [x-y for x, y in zip(numbers1,numbers2)]\n",
        "print(subtracts)\n",
        "multiplications = [x*y for x, y in zip(numbers1,numbers2)]\n",
        "multiplications"
      ],
      "metadata": {
        "colab": {
          "base_uri": "https://localhost:8080/"
        },
        "id": "4He1YMpWFQuT",
        "outputId": "10dd3488-1482-4673-b9c1-c3d247c3cd33"
      },
      "execution_count": 46,
      "outputs": [
        {
          "output_type": "stream",
          "name": "stdout",
          "text": [
            "[6, 0, 5, 6, 8, 6, 5, 9, 2, 2]\n",
            "[8, 2, 3, 0, 6, 2, 9, 0, 3, 5]\n",
            "[14, 2, 8, 6, 14, 8, 14, 9, 5, 7]\n",
            "[-2, -2, 2, 6, 2, 4, -4, 9, -1, -3]\n"
          ]
        },
        {
          "output_type": "execute_result",
          "data": {
            "text/plain": [
              "[48, 0, 15, 0, 48, 12, 45, 0, 6, 10]"
            ]
          },
          "metadata": {},
          "execution_count": 46
        }
      ]
    }
  ]
}