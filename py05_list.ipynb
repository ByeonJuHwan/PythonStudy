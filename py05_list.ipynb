{
  "nbformat": 4,
  "nbformat_minor": 0,
  "metadata": {
    "colab": {
      "provenance": [],
      "authorship_tag": "ABX9TyNBmnRr7oljRC0jn8RgyjTU",
      "include_colab_link": true
    },
    "kernelspec": {
      "name": "python3",
      "display_name": "Python 3"
    },
    "language_info": {
      "name": "python"
    }
  },
  "cells": [
    {
      "cell_type": "markdown",
      "metadata": {
        "id": "view-in-github",
        "colab_type": "text"
      },
      "source": [
        "<a href=\"https://colab.research.google.com/github/ByeonJuHwan/PythonStudy/blob/main/py05_list.ipynb\" target=\"_parent\"><img src=\"https://colab.research.google.com/assets/colab-badge.svg\" alt=\"Open In Colab\"/></a>"
      ]
    },
    {
      "cell_type": "markdown",
      "source": [
        "# List(리스트)\n",
        "\n",
        "list : 여러개의 값들을 하나의 변수에 저장하기 위한 데이터 타입.\n",
        "\n",
        "* element(원소, 요소): 리스트에 저장되는 각각의 값.\n",
        "* index(인덱스) : 리스트에 원소들이 저장된 위치.\n",
        "    * 리스트의 인덱스는 **0**부터 시작\n",
        "    * 리스트의 마지막 인덱스는 **(원소 개수 -1)**\n",
        "* 리스트는 원소들을 추가/삭제/변경할 수 있음.\n",
        "    * `tuple`과 다른점!"
      ],
      "metadata": {
        "id": "fXPuVnaxXagc"
      }
    },
    {
      "cell_type": "code",
      "execution_count": 95,
      "metadata": {
        "id": "zhP87TBbXTQB",
        "colab": {
          "base_uri": "https://localhost:8080/"
        },
        "outputId": "a6d5bf5d-259f-428a-cb8f-5110ef172c82"
      },
      "outputs": [
        {
          "output_type": "stream",
          "name": "stdout",
          "text": [
            "[1, 2, 3, 10, 20, 30]\n"
          ]
        }
      ],
      "source": [
        "# 숫자들을 저장하는 리스트\n",
        "numbers = [1,2,3,10,20,30]\n",
        "print(numbers)"
      ]
    },
    {
      "cell_type": "markdown",
      "source": [
        "## indexing\n",
        "\n",
        "인덱스를 사용해서 리스트에서 원소를 참조하는 방법."
      ],
      "metadata": {
        "id": "gVQW2A7iZUET"
      }
    },
    {
      "cell_type": "code",
      "source": [
        "numbers[0] # 리스트의 첫번째 원소 값"
      ],
      "metadata": {
        "colab": {
          "base_uri": "https://localhost:8080/"
        },
        "id": "V78mgnIoZqax",
        "outputId": "94bbee43-3f22-407e-d309-8aa7ce2e542c"
      },
      "execution_count": 96,
      "outputs": [
        {
          "output_type": "execute_result",
          "data": {
            "text/plain": [
              "1"
            ]
          },
          "metadata": {},
          "execution_count": 96
        }
      ]
    },
    {
      "cell_type": "code",
      "source": [
        "numbers[5]# 리스트의 마지막 원소 값"
      ],
      "metadata": {
        "colab": {
          "base_uri": "https://localhost:8080/"
        },
        "id": "sb7vKkE0ZuQe",
        "outputId": "a5938d42-1727-43c4-cfba-e11d3aa9ebfb"
      },
      "execution_count": 97,
      "outputs": [
        {
          "output_type": "execute_result",
          "data": {
            "text/plain": [
              "30"
            ]
          },
          "metadata": {},
          "execution_count": 97
        }
      ]
    },
    {
      "cell_type": "code",
      "source": [
        "numbers[-1]"
      ],
      "metadata": {
        "colab": {
          "base_uri": "https://localhost:8080/"
        },
        "id": "9lYhj3VtZ40y",
        "outputId": "a870a6de-aee6-4a44-f809-f0b985b4f1ad"
      },
      "execution_count": 98,
      "outputs": [
        {
          "output_type": "execute_result",
          "data": {
            "text/plain": [
              "30"
            ]
          },
          "metadata": {},
          "execution_count": 98
        }
      ]
    },
    {
      "cell_type": "markdown",
      "source": [
        "## slicing\n",
        "\n",
        "인덱스를 사용해서 리스트의 부분집합(리스트)를 잘라내는 방법.\n",
        "\n",
        "```\n",
        "list[start:end]\n",
        "```\n",
        "\n",
        "* start <= index < end 범위의 인덱스 위치의 원소들을 잘라냄.\n",
        "* start를 생략한 경우에는 첫번째 원소부터 잘라냄. `list[:10`과 `list[0:10]`은 동일.\n",
        "* end를 생략한 경우에는 마지막 원소까지 잘라냄.\n",
        "* 리스트를 slicing한 결과는 또다른 새로운 리스트!\n",
        "\n",
        "\n"
      ],
      "metadata": {
        "id": "3xMj33e2bL4z"
      }
    },
    {
      "cell_type": "code",
      "source": [
        "# 리스트 numbers에서 첫번째 원소부터 순서대로 3개 잘라냄\n",
        "numbers[:3]"
      ],
      "metadata": {
        "colab": {
          "base_uri": "https://localhost:8080/"
        },
        "id": "K38ybH4htmjr",
        "outputId": "840cc6cb-1d2b-41a3-e2fd-924fd2e2d961"
      },
      "execution_count": 99,
      "outputs": [
        {
          "output_type": "execute_result",
          "data": {
            "text/plain": [
              "[1, 2, 3]"
            ]
          },
          "metadata": {},
          "execution_count": 99
        }
      ]
    },
    {
      "cell_type": "code",
      "source": [
        "# 리스트 numbers에서 끝에서 3개의 원소를 잘라냄\n",
        "numbers[-3:]"
      ],
      "metadata": {
        "colab": {
          "base_uri": "https://localhost:8080/"
        },
        "id": "JFwn8LajtrC3",
        "outputId": "5d0de8ea-af52-4e80-d29c-4f956c12308a"
      },
      "execution_count": 100,
      "outputs": [
        {
          "output_type": "execute_result",
          "data": {
            "text/plain": [
              "[10, 20, 30]"
            ]
          },
          "metadata": {},
          "execution_count": 100
        }
      ]
    },
    {
      "cell_type": "code",
      "source": [
        "print(numbers[0:1])\n",
        "print(numbers[0])"
      ],
      "metadata": {
        "colab": {
          "base_uri": "https://localhost:8080/"
        },
        "id": "h-UND3l7vOdV",
        "outputId": "0a97eff6-5cc1-4b1d-dc15-4c9948488e8e"
      },
      "execution_count": 101,
      "outputs": [
        {
          "output_type": "stream",
          "name": "stdout",
          "text": [
            "[1]\n",
            "1\n"
          ]
        }
      ]
    },
    {
      "cell_type": "markdown",
      "source": [
        "# 문자열\n",
        "\n",
        "문자열 : 문자들의 리스트. indexing, slicing을 사용할 수 있음."
      ],
      "metadata": {
        "id": "aTM1ou30v-aR"
      }
    },
    {
      "cell_type": "code",
      "source": [
        "message = '안녕하세요, 파이썬!' # 11개의 문자들을 원소로 갖는 문자열"
      ],
      "metadata": {
        "id": "JHkSUxLuwF_d"
      },
      "execution_count": 102,
      "outputs": []
    },
    {
      "cell_type": "code",
      "source": [
        "message[0] # 문자열의 첫번째 글자"
      ],
      "metadata": {
        "colab": {
          "base_uri": "https://localhost:8080/",
          "height": 35
        },
        "id": "-x4pWgUWwWTq",
        "outputId": "029bca64-2f93-46c1-e395-e7047a3282c9"
      },
      "execution_count": 103,
      "outputs": [
        {
          "output_type": "execute_result",
          "data": {
            "text/plain": [
              "'안'"
            ],
            "application/vnd.google.colaboratory.intrinsic+json": {
              "type": "string"
            }
          },
          "metadata": {},
          "execution_count": 103
        }
      ]
    },
    {
      "cell_type": "code",
      "source": [
        "message[10] # 문자열의 마지막 글자"
      ],
      "metadata": {
        "colab": {
          "base_uri": "https://localhost:8080/",
          "height": 35
        },
        "id": "xl9vKbg9wZzb",
        "outputId": "bdb200b1-2eea-4347-868a-30f2e4ea6dd8"
      },
      "execution_count": 104,
      "outputs": [
        {
          "output_type": "execute_result",
          "data": {
            "text/plain": [
              "'!'"
            ],
            "application/vnd.google.colaboratory.intrinsic+json": {
              "type": "string"
            }
          },
          "metadata": {},
          "execution_count": 104
        }
      ]
    },
    {
      "cell_type": "code",
      "source": [
        "message[-1]"
      ],
      "metadata": {
        "colab": {
          "base_uri": "https://localhost:8080/",
          "height": 35
        },
        "id": "bHh7bTedwppU",
        "outputId": "9ad2f3a4-fce8-41b5-94f6-0156cab785c8"
      },
      "execution_count": 105,
      "outputs": [
        {
          "output_type": "execute_result",
          "data": {
            "text/plain": [
              "'!'"
            ],
            "application/vnd.google.colaboratory.intrinsic+json": {
              "type": "string"
            }
          },
          "metadata": {},
          "execution_count": 105
        }
      ]
    },
    {
      "cell_type": "code",
      "source": [
        "message[:3] # 앞에서 3글자"
      ],
      "metadata": {
        "colab": {
          "base_uri": "https://localhost:8080/",
          "height": 35
        },
        "id": "hJBoi5yvwsgh",
        "outputId": "b26957e0-a330-4a5f-f54a-dce71fe6f5db"
      },
      "execution_count": 106,
      "outputs": [
        {
          "output_type": "execute_result",
          "data": {
            "text/plain": [
              "'안녕하'"
            ],
            "application/vnd.google.colaboratory.intrinsic+json": {
              "type": "string"
            }
          },
          "metadata": {},
          "execution_count": 106
        }
      ]
    },
    {
      "cell_type": "code",
      "source": [
        "message[-3:] # 뒤에서 3글자"
      ],
      "metadata": {
        "colab": {
          "base_uri": "https://localhost:8080/",
          "height": 35
        },
        "id": "_C0zb61ZwwyR",
        "outputId": "7d1c51f2-be9f-478f-f477-8b69621368fd"
      },
      "execution_count": 107,
      "outputs": [
        {
          "output_type": "execute_result",
          "data": {
            "text/plain": [
              "'이썬!'"
            ],
            "application/vnd.google.colaboratory.intrinsic+json": {
              "type": "string"
            }
          },
          "metadata": {},
          "execution_count": 107
        }
      ]
    },
    {
      "cell_type": "code",
      "source": [
        "# 문자열 + 문자열\n",
        "'Hello' + 'Python'"
      ],
      "metadata": {
        "colab": {
          "base_uri": "https://localhost:8080/",
          "height": 35
        },
        "id": "McpVDthrxT30",
        "outputId": "53dff922-6986-43d6-c62f-e4fd88c70606"
      },
      "execution_count": 108,
      "outputs": [
        {
          "output_type": "execute_result",
          "data": {
            "text/plain": [
              "'HelloPython'"
            ],
            "application/vnd.google.colaboratory.intrinsic+json": {
              "type": "string"
            }
          },
          "metadata": {},
          "execution_count": 108
        }
      ]
    },
    {
      "cell_type": "code",
      "source": [
        "# 문자열 + 정수 또는 정수 * 문자열\n",
        "'Hello' * 3"
      ],
      "metadata": {
        "colab": {
          "base_uri": "https://localhost:8080/",
          "height": 35
        },
        "id": "8z3__GYMxbhR",
        "outputId": "f3a7eb17-cace-41d5-ff7a-8ee4c9033b2f"
      },
      "execution_count": 109,
      "outputs": [
        {
          "output_type": "execute_result",
          "data": {
            "text/plain": [
              "'HelloHelloHello'"
            ],
            "application/vnd.google.colaboratory.intrinsic+json": {
              "type": "string"
            }
          },
          "metadata": {},
          "execution_count": 109
        }
      ]
    },
    {
      "cell_type": "markdown",
      "source": [
        "# list의 산술 연산\n",
        "\n",
        "* `list + list`\n",
        "* `list * 정수` 또는 `list * 정수`"
      ],
      "metadata": {
        "id": "sm6JnZ-pxy3B"
      }
    },
    {
      "cell_type": "code",
      "source": [
        "[1,2,3] + [4,5,6]"
      ],
      "metadata": {
        "colab": {
          "base_uri": "https://localhost:8080/"
        },
        "id": "YdeteWc0yAAd",
        "outputId": "6713558e-cb4e-4eaa-d42f-51e786af509b"
      },
      "execution_count": 110,
      "outputs": [
        {
          "output_type": "execute_result",
          "data": {
            "text/plain": [
              "[1, 2, 3, 4, 5, 6]"
            ]
          },
          "metadata": {},
          "execution_count": 110
        }
      ]
    },
    {
      "cell_type": "code",
      "source": [
        "3*[1,2,3]"
      ],
      "metadata": {
        "colab": {
          "base_uri": "https://localhost:8080/"
        },
        "id": "ZLBte8YzyEDV",
        "outputId": "5deee76a-b25e-40b0-db07-22f042a313c0"
      },
      "execution_count": 111,
      "outputs": [
        {
          "output_type": "execute_result",
          "data": {
            "text/plain": [
              "[1, 2, 3, 1, 2, 3, 1, 2, 3]"
            ]
          },
          "metadata": {},
          "execution_count": 111
        }
      ]
    },
    {
      "cell_type": "markdown",
      "source": [
        "# list 객체의 기능 (메서드)\n",
        "\n",
        "* `list.append(arg)` : 리스트의 가장 마지막에 새로운 원소(value)를 추가.\n",
        "* `list.insert(index, value)` : 리스트의 index 위치에 value를 추가.\n",
        "* `list.extend(iterable)` : list1 + list2\n",
        "* `list.remove(value)` : 리스트에서 처음 등장하는 value를 삭제.\n",
        "* `list.pop(index)` : 리스트에서 index 위치에 있는 원소를 삭제.\n",
        "* `list.clear()` : 리스트의 모든 원소를 삭제."
      ],
      "metadata": {
        "id": "SpCMGkdOyXnB"
      }
    },
    {
      "cell_type": "code",
      "source": [
        "list1 = [1,2,3,4,5]"
      ],
      "metadata": {
        "id": "DCATI4oVz-g5"
      },
      "execution_count": 112,
      "outputs": []
    },
    {
      "cell_type": "code",
      "source": [
        "list1.append(10)"
      ],
      "metadata": {
        "id": "dTgzZtzP0AeV"
      },
      "execution_count": 113,
      "outputs": []
    },
    {
      "cell_type": "code",
      "source": [
        "list1"
      ],
      "metadata": {
        "colab": {
          "base_uri": "https://localhost:8080/"
        },
        "id": "BTxE-BUV0C8J",
        "outputId": "6fb889f8-77ba-48e3-e737-ac3d437b6d41"
      },
      "execution_count": 114,
      "outputs": [
        {
          "output_type": "execute_result",
          "data": {
            "text/plain": [
              "[1, 2, 3, 4, 5, 10]"
            ]
          },
          "metadata": {},
          "execution_count": 114
        }
      ]
    },
    {
      "cell_type": "code",
      "source": [
        "list1.extend([100,200,300])"
      ],
      "metadata": {
        "id": "lrfCaZdG0RZ8"
      },
      "execution_count": 115,
      "outputs": []
    },
    {
      "cell_type": "code",
      "source": [
        "list1"
      ],
      "metadata": {
        "colab": {
          "base_uri": "https://localhost:8080/"
        },
        "id": "iXLLtDQ60lRC",
        "outputId": "eda60d9e-d8e6-461b-bf9d-a847cbe38814"
      },
      "execution_count": 116,
      "outputs": [
        {
          "output_type": "execute_result",
          "data": {
            "text/plain": [
              "[1, 2, 3, 4, 5, 10, 100, 200, 300]"
            ]
          },
          "metadata": {},
          "execution_count": 116
        }
      ]
    },
    {
      "cell_type": "code",
      "source": [
        "list1.append([1,2,3,4,5])"
      ],
      "metadata": {
        "id": "RdmAwIKY1AWe"
      },
      "execution_count": 117,
      "outputs": []
    },
    {
      "cell_type": "code",
      "source": [
        "list1"
      ],
      "metadata": {
        "colab": {
          "base_uri": "https://localhost:8080/"
        },
        "id": "mejaEEpQ1Cce",
        "outputId": "2aba8e69-db02-4a54-9f12-cad702efd018"
      },
      "execution_count": 118,
      "outputs": [
        {
          "output_type": "execute_result",
          "data": {
            "text/plain": [
              "[1, 2, 3, 4, 5, 10, 100, 200, 300, [1, 2, 3, 4, 5]]"
            ]
          },
          "metadata": {},
          "execution_count": 118
        }
      ]
    },
    {
      "cell_type": "code",
      "source": [
        "list1.clear()"
      ],
      "metadata": {
        "id": "K7puTMXI1C4i"
      },
      "execution_count": 119,
      "outputs": []
    },
    {
      "cell_type": "code",
      "source": [
        "list1"
      ],
      "metadata": {
        "id": "r7fUA6Xw1dQz",
        "outputId": "8a3e874c-f297-43c9-a91c-fbd3d4527ed4",
        "colab": {
          "base_uri": "https://localhost:8080/"
        }
      },
      "execution_count": 120,
      "outputs": [
        {
          "output_type": "execute_result",
          "data": {
            "text/plain": [
              "[]"
            ]
          },
          "metadata": {},
          "execution_count": 120
        }
      ]
    },
    {
      "cell_type": "markdown",
      "source": [
        "# list와 for반복문"
      ],
      "metadata": {
        "id": "MVPjRgvz1vpx"
      }
    },
    {
      "cell_type": "code",
      "source": [
        "for x in '안녕하세요':\n",
        "    print(x)"
      ],
      "metadata": {
        "colab": {
          "base_uri": "https://localhost:8080/"
        },
        "id": "cqkzZyNu1yBO",
        "outputId": "2ffe9909-4fe4-46c1-e538-b576dd3c20f9"
      },
      "execution_count": 121,
      "outputs": [
        {
          "output_type": "stream",
          "name": "stdout",
          "text": [
            "안\n",
            "녕\n",
            "하\n",
            "세\n",
            "요\n"
          ]
        }
      ]
    },
    {
      "cell_type": "code",
      "source": [
        "numbers = [1,3,10,20]\n",
        "for x in numbers:\n",
        "    print(x)"
      ],
      "metadata": {
        "colab": {
          "base_uri": "https://localhost:8080/"
        },
        "id": "21f9conR2EO6",
        "outputId": "fddb3840-e817-4993-ffd1-5bd1d9440db2"
      },
      "execution_count": 122,
      "outputs": [
        {
          "output_type": "stream",
          "name": "stdout",
          "text": [
            "1\n",
            "3\n",
            "10\n",
            "20\n"
          ]
        }
      ]
    },
    {
      "cell_type": "code",
      "source": [
        "for i, v in enumerate(numbers):\n",
        "    print(i, ' : ', v)"
      ],
      "metadata": {
        "colab": {
          "base_uri": "https://localhost:8080/"
        },
        "id": "kILdYKEq2xyQ",
        "outputId": "47323315-cc3c-4191-9447-9d5c9db6c232"
      },
      "execution_count": 123,
      "outputs": [
        {
          "output_type": "stream",
          "name": "stdout",
          "text": [
            "0  :  1\n",
            "1  :  3\n",
            "2  :  10\n",
            "3  :  20\n"
          ]
        }
      ]
    },
    {
      "cell_type": "markdown",
      "source": [
        " 파이썬에서 난수 생성 : `ramdom` 모듈을 import하고 ,random모듈의 함수를 사용."
      ],
      "metadata": {
        "id": "O44aJfEN7vwh"
      }
    },
    {
      "cell_type": "code",
      "source": [
        "import random"
      ],
      "metadata": {
        "id": "FAr3q8uO75dV"
      },
      "execution_count": 124,
      "outputs": []
    },
    {
      "cell_type": "code",
      "source": [
        "random.random() # [0,1) 0 <= x < 1 범위의 실수 난수 1개를 리턴."
      ],
      "metadata": {
        "colab": {
          "base_uri": "https://localhost:8080/"
        },
        "id": "Hk_WGDhv77KD",
        "outputId": "715ed934-527d-4f67-98ac-946eb3f66816"
      },
      "execution_count": 125,
      "outputs": [
        {
          "output_type": "execute_result",
          "data": {
            "text/plain": [
              "0.8932116246757769"
            ]
          },
          "metadata": {},
          "execution_count": 125
        }
      ]
    },
    {
      "cell_type": "code",
      "source": [
        "random.randrange(10) # [0, 10) 범위의 정수 난수 1개를 리턴."
      ],
      "metadata": {
        "colab": {
          "base_uri": "https://localhost:8080/"
        },
        "id": "FNImuVnU83gK",
        "outputId": "695ad5d3-0994-4cff-bf94-a84bde321bf5"
      },
      "execution_count": 126,
      "outputs": [
        {
          "output_type": "execute_result",
          "data": {
            "text/plain": [
              "4"
            ]
          },
          "metadata": {},
          "execution_count": 126
        }
      ]
    },
    {
      "cell_type": "code",
      "source": [
        "random.randint(0,2) # [0,2] 범위의 정수 난수 1개를 리턴."
      ],
      "metadata": {
        "id": "MqUqVrVw9muf",
        "outputId": "6ad45af3-0c80-4180-ad88-d0e841d2694d",
        "colab": {
          "base_uri": "https://localhost:8080/"
        }
      },
      "execution_count": 127,
      "outputs": [
        {
          "output_type": "execute_result",
          "data": {
            "text/plain": [
              "0"
            ]
          },
          "metadata": {},
          "execution_count": 127
        }
      ]
    },
    {
      "cell_type": "markdown",
      "source": [
        "Exercises"
      ],
      "metadata": {
        "id": "JKgN5_aT-AIp"
      }
    },
    {
      "cell_type": "markdown",
      "source": [
        "## Ex 1.\n",
        "\n",
        "1. 빈 리스트를 생성\n",
        "2. `[1,10]` 1이상 10 이하의 정수 난수 5개를 저장.\n",
        "3. 리스트의 모든 정수들의 합을 출력.\n",
        "4. 리스트의 모든 정수들의 평균을 출력."
      ],
      "metadata": {
        "id": "4HJjE6ZF-GxR"
      }
    },
    {
      "cell_type": "code",
      "source": [
        "a=[random.randint(1,10) for _ in range(5)]\n",
        "print(f'리스트의 합 = {sum(a)}')\n",
        "avg = sum(a)/len(a)\n",
        "print(f'리스트의 평균 = {sum(a)/len(a)}')"
      ],
      "metadata": {
        "colab": {
          "base_uri": "https://localhost:8080/"
        },
        "id": "qX-HNR19-Zil",
        "outputId": "3318c4f5-841a-4c2d-f7b0-9263c03aa125"
      },
      "execution_count": 128,
      "outputs": [
        {
          "output_type": "stream",
          "name": "stdout",
          "text": [
            "리스트의 합 = 30\n",
            "리스트의 평균 = 6.0\n"
          ]
        }
      ]
    },
    {
      "cell_type": "markdown",
      "source": [
        "## EX 2.\n",
        "\n",
        "1. 빈 리스트(numbers)생성.\n",
        "1. 10 이상, 100 미만의 정수 난수 10 개를 numbers 에 저장.\n",
        "1. numbers에서 짝수들만 선택해서 evens 리스트를 만듦.\n",
        "1. numbers에서 홀수들만 선택해서 odds 리스트를 만듦."
      ],
      "metadata": {
        "id": "F4BQ2vXc-Z_i"
      }
    },
    {
      "cell_type": "code",
      "source": [
        "numbers = [random.randrange(10,100) for _ in range(10)]\n",
        "print(numbers)\n",
        "evens=[x for x in numbers if x%2==0]\n",
        "odds = [x for x in numbers if x%2==1]\n",
        "print(evens)\n",
        "odds    "
      ],
      "metadata": {
        "colab": {
          "base_uri": "https://localhost:8080/"
        },
        "id": "13DWMIA-_N6y",
        "outputId": "1f10797e-d04d-4808-c222-51c16917d6f2"
      },
      "execution_count": 129,
      "outputs": [
        {
          "output_type": "stream",
          "name": "stdout",
          "text": [
            "[17, 67, 36, 28, 73, 38, 32, 65, 60, 15]\n",
            "[36, 28, 38, 32, 60]\n"
          ]
        },
        {
          "output_type": "execute_result",
          "data": {
            "text/plain": [
              "[17, 67, 73, 65, 15]"
            ]
          },
          "metadata": {},
          "execution_count": 129
        }
      ]
    },
    {
      "cell_type": "markdown",
      "source": [
        "## Ex 3.\n",
        "\n",
        "1. 빈리스트 (numbers) 를 만듦.\n",
        "1. -10 이상 10 이하인 범위의 정수 난수 10개를 numbers에 저장.\n",
        "1. numbers의 원소가 양수이면 True, 그렇지 않으면 False를 저장하는 is_positive 리스트를 만듦."
      ],
      "metadata": {
        "id": "ECcNQc2X_OXw"
      }
    },
    {
      "cell_type": "code",
      "source": [
        "numbers = [random.randint(-10,10) for _ in range(10)]\n",
        "print(numbers)\n",
        "is_positive=['True' if x>=0 else 'False' for x in numbers]\n",
        "print(is_positive)"
      ],
      "metadata": {
        "colab": {
          "base_uri": "https://localhost:8080/"
        },
        "id": "GtPE1kTK_-BO",
        "outputId": "2623e10a-734a-49a6-d389-40e4680679d7"
      },
      "execution_count": 130,
      "outputs": [
        {
          "output_type": "stream",
          "name": "stdout",
          "text": [
            "[-3, 4, -6, -1, 4, 7, 2, 6, -10, -2]\n",
            "['False', 'True', 'False', 'False', 'True', 'True', 'True', 'True', 'False', 'False']\n"
          ]
        }
      ]
    },
    {
      "cell_type": "markdown",
      "source": [
        "## Ex 4.\n",
        "\n",
        "1. gender_codes 리스트에 0 또는 1을 랜덤하게 10개를 저장.\n",
        "2. gender_codes의 값이 0이면 'Male', 그렇지 않으면 'Female' 을 저장하는 genders 리스트를 만듦."
      ],
      "metadata": {
        "id": "qWXjBKnJ_-cY"
      }
    },
    {
      "cell_type": "code",
      "source": [
        "gender_codes = [random.randint(0,1) for _ in range(10)]\n",
        "print(gender_codes)\n",
        "genders=['Male' if x == 0 else 'Female' for x in gender_codes]\n",
        "print(genders)"
      ],
      "metadata": {
        "colab": {
          "base_uri": "https://localhost:8080/"
        },
        "id": "nGT68IO9ARK6",
        "outputId": "0f919f5e-6960-4517-8ab5-a7fa6b4721bf"
      },
      "execution_count": 131,
      "outputs": [
        {
          "output_type": "stream",
          "name": "stdout",
          "text": [
            "[1, 0, 0, 1, 0, 0, 0, 0, 0, 1]\n",
            "['Female', 'Male', 'Male', 'Female', 'Male', 'Male', 'Male', 'Male', 'Male', 'Female']\n"
          ]
        }
      ]
    },
    {
      "cell_type": "markdown",
      "source": [
        "# list comprehension(리스트 내포)\n",
        "\n",
        "1부터 10까지 정수들을 차례로 저장하고 있는 리스트"
      ],
      "metadata": {
        "id": "FXmVGZOER1kA"
      }
    },
    {
      "cell_type": "code",
      "source": [
        "numbers = []\n",
        "for x in range(1,11):\n",
        "    numbers.append(x)\n",
        "numbers"
      ],
      "metadata": {
        "colab": {
          "base_uri": "https://localhost:8080/"
        },
        "id": "oKYMQ8XAR_z-",
        "outputId": "2156ea8d-8b7a-470d-ae71-d0c46cc2fe1c"
      },
      "execution_count": 132,
      "outputs": [
        {
          "output_type": "execute_result",
          "data": {
            "text/plain": [
              "[1, 2, 3, 4, 5, 6, 7, 8, 9, 10]"
            ]
          },
          "metadata": {},
          "execution_count": 132
        }
      ]
    },
    {
      "cell_type": "code",
      "source": [
        "numbers=[x for x in range(1,11)]\n",
        "numbers"
      ],
      "metadata": {
        "colab": {
          "base_uri": "https://localhost:8080/"
        },
        "id": "oqyABAutSvJh",
        "outputId": "7bac8f73-dfbd-4cde-829a-73ed2a8c0bf0"
      },
      "execution_count": 133,
      "outputs": [
        {
          "output_type": "execute_result",
          "data": {
            "text/plain": [
              "[1, 2, 3, 4, 5, 6, 7, 8, 9, 10]"
            ]
          },
          "metadata": {},
          "execution_count": 133
        }
      ]
    },
    {
      "cell_type": "markdown",
      "source": [
        "# Ex. 12월 26일 과제"
      ],
      "metadata": {
        "id": "H2V8gHpmlOln"
      }
    },
    {
      "cell_type": "code",
      "source": [
        "numbers1 = [random.randrange(0,10) for _ in range(10)]\n",
        "print(numbers1)\n",
        "numbers2 = [random.randrange(0,10) for _ in range(10)]\n",
        "print(numbers2)\n",
        "adds = [numbers1[n]+numbers2[n] for n in range(10)]\n",
        "print(adds)\n",
        "subtracts = [numbers1[n]-numbers2[n] for n in range(10)]\n",
        "print(subtracts)\n",
        "multiplications = [numbers1[n]*numbers2[n] for n in range(10)]\n",
        "multiplications"
      ],
      "metadata": {
        "colab": {
          "base_uri": "https://localhost:8080/"
        },
        "id": "p0PHqqeilcC7",
        "outputId": "7069448a-ce5a-4140-a96c-a914baded9b1"
      },
      "execution_count": 134,
      "outputs": [
        {
          "output_type": "stream",
          "name": "stdout",
          "text": [
            "[1, 0, 3, 1, 7, 8, 7, 6, 6, 5]\n",
            "[0, 8, 6, 5, 1, 1, 9, 0, 0, 0]\n",
            "[1, 8, 9, 6, 8, 9, 16, 6, 6, 5]\n",
            "[1, -8, -3, -4, 6, 7, -2, 6, 6, 5]\n"
          ]
        },
        {
          "output_type": "execute_result",
          "data": {
            "text/plain": [
              "[0, 0, 18, 5, 7, 8, 63, 0, 0, 0]"
            ]
          },
          "metadata": {},
          "execution_count": 134
        }
      ]
    }
  ]
}