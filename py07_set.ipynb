{
  "nbformat": 4,
  "nbformat_minor": 0,
  "metadata": {
    "colab": {
      "provenance": [],
      "authorship_tag": "ABX9TyMuWGzLsb3diAzBx/x0dVDG",
      "include_colab_link": true
    },
    "kernelspec": {
      "name": "python3",
      "display_name": "Python 3"
    },
    "language_info": {
      "name": "python"
    }
  },
  "cells": [
    {
      "cell_type": "markdown",
      "metadata": {
        "id": "view-in-github",
        "colab_type": "text"
      },
      "source": [
        "<a href=\"https://colab.research.google.com/github/ByeonJuHwan/PythonStudy/blob/main/py07_set.ipynb\" target=\"_parent\"><img src=\"https://colab.research.google.com/assets/colab-badge.svg\" alt=\"Open In Colab\"/></a>"
      ]
    },
    {
      "cell_type": "markdown",
      "source": [
        "# set(집합)\n",
        "\n",
        "* 중복된 데이터를 허용하지 않음 : `{1,2,2,3,3,3} = {1,2,3}`\n",
        "* 데이터 저장 순서가 없음. = `{3,2,1} = {1,2,3}`\n",
        "    * 인덱스가 없음 -> indexing, slicing 기능을 제공하지 않음."
      ],
      "metadata": {
        "id": "IByYk9FRe-iQ"
      }
    },
    {
      "cell_type": "code",
      "execution_count": 9,
      "metadata": {
        "colab": {
          "base_uri": "https://localhost:8080/"
        },
        "id": "_dko6oIMevKo",
        "outputId": "4a43f02f-169b-4fc9-9c3a-6fc5fe6a0f59"
      },
      "outputs": [
        {
          "output_type": "execute_result",
          "data": {
            "text/plain": [
              "{1, 2, 3}"
            ]
          },
          "metadata": {},
          "execution_count": 9
        }
      ],
      "source": [
        "s = {1,2,2,3,3,3,}\n",
        "s"
      ]
    },
    {
      "cell_type": "markdown",
      "source": [
        "set 객체는 list, tuple 객체와 같은 방법으로 for 반복문을 사용할수 있음."
      ],
      "metadata": {
        "id": "DvjUGop3gImQ"
      }
    },
    {
      "cell_type": "code",
      "source": [
        "for x in s:\n",
        "    print(x, end=', ')"
      ],
      "metadata": {
        "colab": {
          "base_uri": "https://localhost:8080/"
        },
        "id": "noM-ide5gNFo",
        "outputId": "90000297-107b-4ceb-e6e8-7f01f29f5297"
      },
      "execution_count": 10,
      "outputs": [
        {
          "output_type": "stream",
          "name": "stdout",
          "text": [
            "1, 2, 3, "
          ]
        }
      ]
    },
    {
      "cell_type": "markdown",
      "source": [
        "set의 기능(메서드)"
      ],
      "metadata": {
        "id": "bS4Lu35Mgdt_"
      }
    },
    {
      "cell_type": "code",
      "source": [
        "s.add(3) # set에 원소 추가\n",
        "s"
      ],
      "metadata": {
        "colab": {
          "base_uri": "https://localhost:8080/"
        },
        "id": "mEDXlQJ0gf6Q",
        "outputId": "bad46be9-1f56-417f-dc0a-3dc106ab0869"
      },
      "execution_count": 11,
      "outputs": [
        {
          "output_type": "execute_result",
          "data": {
            "text/plain": [
              "{1, 2, 3}"
            ]
          },
          "metadata": {},
          "execution_count": 11
        }
      ]
    },
    {
      "cell_type": "code",
      "source": [
        "s.remove(3) # set에서 원소 삭제\n",
        "s"
      ],
      "metadata": {
        "colab": {
          "base_uri": "https://localhost:8080/"
        },
        "id": "Oq8CY3Wyg2p2",
        "outputId": "8436dfb5-729e-4785-a517-0ffd6bd6f3e3"
      },
      "execution_count": 12,
      "outputs": [
        {
          "output_type": "execute_result",
          "data": {
            "text/plain": [
              "{1, 2}"
            ]
          },
          "metadata": {},
          "execution_count": 12
        }
      ]
    },
    {
      "cell_type": "code",
      "source": [
        "s1 = {1,2,3,4}\n",
        "s2 = {2,3,5,6}\n",
        "print(s1.union(s2)) # 합집합\n",
        "print(s1.intersection(s2)) # 교집합\n",
        "print(s1.difference(s2)) # 차집합"
      ],
      "metadata": {
        "colab": {
          "base_uri": "https://localhost:8080/"
        },
        "id": "RFOMhURdhm3A",
        "outputId": "e190823e-8f0f-4f24-8b54-084856b337db"
      },
      "execution_count": 14,
      "outputs": [
        {
          "output_type": "stream",
          "name": "stdout",
          "text": [
            "{1, 2, 3, 4, 5, 6}\n",
            "{2, 3}\n",
            "{1, 4}\n"
          ]
        }
      ]
    },
    {
      "cell_type": "code",
      "source": [
        "print(s1 | s2) # 합집합 연산자\n",
        "print(s1 & s2) # 교집합 연산자\n",
        "print(s1 - s2) # 차집합 연산자"
      ],
      "metadata": {
        "colab": {
          "base_uri": "https://localhost:8080/"
        },
        "id": "B75-Ip7LiWOI",
        "outputId": "4ef6ce0a-c51e-4930-b831-79e0ca79eaea"
      },
      "execution_count": 15,
      "outputs": [
        {
          "output_type": "stream",
          "name": "stdout",
          "text": [
            "{1, 2, 3, 4, 5, 6}\n",
            "{2, 3}\n"
          ]
        },
        {
          "output_type": "execute_result",
          "data": {
            "text/plain": [
              "<function print>"
            ]
          },
          "metadata": {},
          "execution_count": 15
        }
      ]
    }
  ]
}