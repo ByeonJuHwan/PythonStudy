{
  "nbformat": 4,
  "nbformat_minor": 0,
  "metadata": {
    "colab": {
      "provenance": [],
      "toc_visible": true,
      "authorship_tag": "ABX9TyPJzKj+4v1/9cvY1MPxG9vp",
      "include_colab_link": true
    },
    "kernelspec": {
      "name": "python3",
      "display_name": "Python 3"
    },
    "language_info": {
      "name": "python"
    }
  },
  "cells": [
    {
      "cell_type": "markdown",
      "metadata": {
        "id": "view-in-github",
        "colab_type": "text"
      },
      "source": [
        "<a href=\"https://colab.research.google.com/github/ByeonJuHwan/PythonStudy/blob/main/py01_intro.ipynb\" target=\"_parent\"><img src=\"https://colab.research.google.com/assets/colab-badge.svg\" alt=\"Open In Colab\"/></a>"
      ]
    },
    {
      "cell_type": "markdown",
      "source": [
        "# Python 버전 확인"
      ],
      "metadata": {
        "id": "syF7fZD0arWq"
      }
    },
    {
      "cell_type": "code",
      "execution_count": null,
      "metadata": {
        "id": "gO4OyKV3Z63c",
        "colab": {
          "base_uri": "https://localhost:8080/"
        },
        "outputId": "66858ad6-04e3-40b2-bed4-46f63662ba31"
      },
      "outputs": [
        {
          "output_type": "stream",
          "name": "stdout",
          "text": [
            "Python 3.8.16\n"
          ]
        }
      ],
      "source": [
        "!python --version"
      ]
    },
    {
      "cell_type": "markdown",
      "source": [
        "# `print` 함수"
      ],
      "metadata": {
        "id": "uaNvvV9NkG2x"
      }
    },
    {
      "cell_type": "code",
      "source": [
        "print('안녕 , 파이썬!')"
      ],
      "metadata": {
        "colab": {
          "base_uri": "https://localhost:8080/"
        },
        "id": "Hqe81oWdkirp",
        "outputId": "1cbf5dcb-03ca-4224-d98d-9a6d73e7bf49"
      },
      "execution_count": null,
      "outputs": [
        {
          "output_type": "stream",
          "name": "stdout",
          "text": [
            "안녕 , 파이썬!\n"
          ]
        }
      ]
    },
    {
      "cell_type": "code",
      "source": [
        "print('hello', 'python', '안녕', '파이썬')"
      ],
      "metadata": {
        "colab": {
          "base_uri": "https://localhost:8080/"
        },
        "id": "bl9dxpoQmC02",
        "outputId": "855d34b8-d5cd-47e0-85a4-aad6e772a6ea"
      },
      "execution_count": null,
      "outputs": [
        {
          "output_type": "stream",
          "name": "stdout",
          "text": [
            "hello python 안녕 파이썬\n"
          ]
        }
      ]
    },
    {
      "cell_type": "markdown",
      "source": [
        "`print()` 함수에 여려개의 argument를 전달하면, argument들을 공백으로 연결해서 한 줄에 출력함."
      ],
      "metadata": {
        "id": "xmcDHR_lm4PR"
      }
    },
    {
      "cell_type": "code",
      "source": [
        "print('hello', 'python', sep='::')"
      ],
      "metadata": {
        "colab": {
          "base_uri": "https://localhost:8080/"
        },
        "id": "sTGD1f5hnMCz",
        "outputId": "966e538e-46d5-4f2b-b195-f7bd88e4d053"
      },
      "execution_count": null,
      "outputs": [
        {
          "output_type": "stream",
          "name": "stdout",
          "text": [
            "hello::python\n"
          ]
        }
      ]
    },
    {
      "cell_type": "markdown",
      "source": [
        "## `format()` 메서드를 사용한 출력"
      ],
      "metadata": {
        "id": "2R2jNn0Fn6iw"
      }
    },
    {
      "cell_type": "code",
      "source": [
        "print('{} + {} + {}'.format(1,2,3))"
      ],
      "metadata": {
        "colab": {
          "base_uri": "https://localhost:8080/"
        },
        "id": "-elUZeUFocTy",
        "outputId": "df4f5866-118e-4733-ce15-21a93f6c6421"
      },
      "execution_count": null,
      "outputs": [
        {
          "output_type": "stream",
          "name": "stdout",
          "text": [
            "1 + 2 + 3\n"
          ]
        }
      ]
    },
    {
      "cell_type": "code",
      "source": [
        "print('{x} + {y} + {z}'.format(x=1, y=2, z=3))"
      ],
      "metadata": {
        "colab": {
          "base_uri": "https://localhost:8080/"
        },
        "id": "kVeRA4ZVo5Ys",
        "outputId": "fa4c00db-0596-4d2e-a6d7-f2c62a7a4f6b"
      },
      "execution_count": null,
      "outputs": [
        {
          "output_type": "stream",
          "name": "stdout",
          "text": [
            "1 + 2 + 3\n"
          ]
        }
      ]
    },
    {
      "cell_type": "markdown",
      "source": [
        "## formatted string을 사용한 출력\n",
        "\n",
        "Python 3.6 이상 버전에서만 사용 가능."
      ],
      "metadata": {
        "id": "2QsRuejRpeoS"
      }
    },
    {
      "cell_type": "code",
      "source": [
        "a = 10\n",
        "b = 20"
      ],
      "metadata": {
        "id": "mdZb4XGMpx5z"
      },
      "execution_count": null,
      "outputs": []
    },
    {
      "cell_type": "code",
      "source": [
        "print(f'{a} + {b} = {a+b}')"
      ],
      "metadata": {
        "colab": {
          "base_uri": "https://localhost:8080/"
        },
        "id": "iEIJ4mBQqELp",
        "outputId": "e623d0d1-8bb2-4da9-f0f1-d415b4e80970"
      },
      "execution_count": null,
      "outputs": [
        {
          "output_type": "stream",
          "name": "stdout",
          "text": [
            "10 + 20 = 30\n"
          ]
        }
      ]
    },
    {
      "cell_type": "markdown",
      "source": [
        "# 코드 셀 실행 방법\n",
        "\n",
        "* 코드셀 왼쪽의 실행 버튼 클릭\n",
        "* Ctrl + Enter : 현재 포커스가 있는 셀을 실행.\n",
        "* Shift + Enter : 현재 포커스가 있는 셀을 실행하고, 그 다음 셀로 포커스를 이동.\n",
        "    * 현재 셀 아래에 다음 셀이 없는 경우에는 새로운 코드 셀을 생성.\n",
        "* 런타임 메뉴"
      ],
      "metadata": {
        "id": "2Nvs5uyFu8UI"
      }
    }
  ]
}