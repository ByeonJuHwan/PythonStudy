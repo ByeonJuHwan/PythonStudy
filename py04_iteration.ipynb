{
  "nbformat": 4,
  "nbformat_minor": 0,
  "metadata": {
    "colab": {
      "provenance": [],
      "authorship_tag": "ABX9TyMaSEPL1Wtcm1umhi1WuvOC",
      "include_colab_link": true
    },
    "kernelspec": {
      "name": "python3",
      "display_name": "Python 3"
    },
    "language_info": {
      "name": "python"
    }
  },
  "cells": [
    {
      "cell_type": "markdown",
      "metadata": {
        "id": "view-in-github",
        "colab_type": "text"
      },
      "source": [
        "<a href=\"https://colab.research.google.com/github/ByeonJuHwan/PythonStudy/blob/main/py04_iteration.ipynb\" target=\"_parent\"><img src=\"https://colab.research.google.com/assets/colab-badge.svg\" alt=\"Open In Colab\"/></a>"
      ]
    },
    {
      "cell_type": "markdown",
      "source": [
        "\n",
        "# for 반복문\n",
        "\n",
        "```\n",
        "for 변수 in iterable_type:\n",
        "    반복해서 실행할 코드 블록\n",
        "```\n",
        "\n",
        "*  iterable_type: 반복가능한 타입의 객체\n",
        "    * range, list, tuple, dict, set, str, ...\n",
        "* `range` 함수\n",
        "    * `range(stop)` :\n",
        "        * 0 <= x < stop 범위의 1씩 증가하는 정수들을 생성.\n",
        "    * `range(start, stop)` :\n",
        "        * start <= x < stop 범위의 1씩 증가하는 정수들을 생성.\n",
        "    * `range(start, stop, step)` :\n",
        "        * step > 0 경우 : start <= x < stop 범위의 step 만큼씩 증가하는 정수들을 생성.\n",
        "        * stop < 0 경우 : start >= x > stop 범위의 stop 만큼씩 감소하는 정수들을 생성."
      ],
      "metadata": {
        "id": "oK4ClsCtGdrd"
      }
    },
    {
      "cell_type": "code",
      "source": [
        "for x in range(5): # 0 <= x <5\n",
        "    print(x, end=' ')"
      ],
      "metadata": {
        "colab": {
          "base_uri": "https://localhost:8080/"
        },
        "id": "oS3I1L6JIYcu",
        "outputId": "3ede75a6-a3f1-4fa4-c1d5-9c0ce8737b68"
      },
      "execution_count": 26,
      "outputs": [
        {
          "output_type": "stream",
          "name": "stdout",
          "text": [
            "0 1 2 3 4 "
          ]
        }
      ]
    },
    {
      "cell_type": "code",
      "source": [
        "for x in range(1, 6): # 1<= x <6\n",
        "    print(x, end=' ')"
      ],
      "metadata": {
        "colab": {
          "base_uri": "https://localhost:8080/"
        },
        "id": "nO4Fb433Iz87",
        "outputId": "fb632acf-9b0a-43a5-facb-444ea34d28ad"
      },
      "execution_count": 27,
      "outputs": [
        {
          "output_type": "stream",
          "name": "stdout",
          "text": [
            "1 2 3 4 5 "
          ]
        }
      ]
    },
    {
      "cell_type": "code",
      "source": [
        "for x in range(1, 10, 2): # 1<= x <10\n",
        "    print(x, end =' ')"
      ],
      "metadata": {
        "colab": {
          "base_uri": "https://localhost:8080/"
        },
        "id": "dl7hgueDI7fL",
        "outputId": "5c78b057-0070-44f2-899d-38936f7d2e42"
      },
      "execution_count": 28,
      "outputs": [
        {
          "output_type": "stream",
          "name": "stdout",
          "text": [
            "1 3 5 7 9 "
          ]
        }
      ]
    },
    {
      "cell_type": "code",
      "source": [
        "for x in range(10,0,-2): # 10 >= x > 0\n",
        "    print(x, end=' ')"
      ],
      "metadata": {
        "colab": {
          "base_uri": "https://localhost:8080/"
        },
        "id": "YjitcAmCJWsl",
        "outputId": "63ebca9b-81cd-46c0-a6e6-8df375c66e0e"
      },
      "execution_count": 29,
      "outputs": [
        {
          "output_type": "stream",
          "name": "stdout",
          "text": [
            "10 8 6 4 2 "
          ]
        }
      ]
    },
    {
      "cell_type": "markdown",
      "source": [
        "# 중첩 반복문"
      ],
      "metadata": {
        "id": "E-SpNL7_Kl_U"
      }
    },
    {
      "cell_type": "code",
      "source": [
        "# 구구단 2단부터 9단까지 출력\n",
        "\n",
        "for x in range(2,10):\n",
        "    for y in range(1,10):\n",
        "        print(f'{x} x {y} = {x * y}')\n",
        "    print('----------')"
      ],
      "metadata": {
        "id": "5CqIDU-wKoXk"
      },
      "execution_count": null,
      "outputs": []
    },
    {
      "cell_type": "markdown",
      "source": [
        "## break와 continue\n",
        "\n",
        "* `break` : iteration 을 종료하고 , break가 포함된 가장 가까운 반복문을 빠져나옴.\n",
        "* `continue` : 반복문 내부의 실행을 멈추고, 그 다음 iteration을 계속함."
      ],
      "metadata": {
        "id": "4cAemcoUMSCk"
      }
    },
    {
      "cell_type": "code",
      "source": [
        "for x in range(5):\n",
        "    if x == 2:\n",
        "        break\n",
        "    print(x, end=' ')"
      ],
      "metadata": {
        "colab": {
          "base_uri": "https://localhost:8080/"
        },
        "id": "VV1WHGfVMxrE",
        "outputId": "9661654b-a2c2-4560-f72a-0e2ad7f35532"
      },
      "execution_count": 31,
      "outputs": [
        {
          "output_type": "stream",
          "name": "stdout",
          "text": [
            "0 1 "
          ]
        }
      ]
    },
    {
      "cell_type": "code",
      "source": [
        "for x in range(2,10):\n",
        "    for y in range(1,10):\n",
        "        if x < y:\n",
        "            break\n",
        "        print(f'{x} x {y} = {x * y}')\n",
        "    print('----------')"
      ],
      "metadata": {
        "id": "0TiPy8q-OHvr"
      },
      "execution_count": null,
      "outputs": []
    },
    {
      "cell_type": "code",
      "source": [
        "for x in range(2,10):\n",
        "    for y in range(1,x+1):\n",
        "        print(f'{x} x {y} = {x * y}')\n",
        "    print('----------')"
      ],
      "metadata": {
        "id": "zToS3acdTpk0"
      },
      "execution_count": null,
      "outputs": []
    },
    {
      "cell_type": "markdown",
      "source": [
        "# while 반복문\n",
        "\n",
        "```\n",
        "[초기화 문장]\n",
        "while 조건식:\n",
        "    조건식이 참일 때 실행할 코드 블록.\n",
        "    [조건을 변경할 수 있는 문장]\n",
        "```"
      ],
      "metadata": {
        "id": "4rC1i0mbUOKU"
      }
    },
    {
      "cell_type": "code",
      "source": [
        "x=1\n",
        "while x<=5:\n",
        "    print('*' * x)\n",
        "    x+=1"
      ],
      "metadata": {
        "colab": {
          "base_uri": "https://localhost:8080/"
        },
        "id": "ZSOoeGdvUmYr",
        "outputId": "ef1523df-14d9-49ad-e98b-f29a5cd41e3c"
      },
      "execution_count": 34,
      "outputs": [
        {
          "output_type": "stream",
          "name": "stdout",
          "text": [
            "*\n",
            "**\n",
            "***\n",
            "****\n",
            "*****\n"
          ]
        }
      ]
    },
    {
      "cell_type": "code",
      "source": [
        "# 1 이상 10 미만의 홀수들을 한줄에 출력\n",
        "x=1\n",
        "while x<10:\n",
        "    print(x, end=' ')\n",
        "    x+=2"
      ],
      "metadata": {
        "colab": {
          "base_uri": "https://localhost:8080/"
        },
        "id": "8lKXsdGjWP36",
        "outputId": "afa5878b-c765-4b8f-c98c-115e1ab04b55"
      },
      "execution_count": 35,
      "outputs": [
        {
          "output_type": "stream",
          "name": "stdout",
          "text": [
            "1 3 5 7 9 "
          ]
        }
      ]
    }
  ]
}