{
  "nbformat": 4,
  "nbformat_minor": 0,
  "metadata": {
    "colab": {
      "provenance": [],
      "authorship_tag": "ABX9TyNMEVuBbB10vFTSMELX6W3d",
      "include_colab_link": true
    },
    "kernelspec": {
      "name": "python3",
      "display_name": "Python 3"
    },
    "language_info": {
      "name": "python"
    }
  },
  "cells": [
    {
      "cell_type": "markdown",
      "metadata": {
        "id": "view-in-github",
        "colab_type": "text"
      },
      "source": [
        "<a href=\"https://colab.research.google.com/github/ByeonJuHwan/PythonStudy/blob/main/py13_string.ipynb\" target=\"_parent\"><img src=\"https://colab.research.google.com/assets/colab-badge.svg\" alt=\"Open In Colab\"/></a>"
      ]
    },
    {
      "cell_type": "markdown",
      "source": [
        "# `str` 클래스의 메서드\n",
        "\n",
        "* `str` 클래스의 메서드들은 원본 문자열을 변경하지 않음!\n",
        "* 원본 문자열은 변환한 새로운 문자열을 리턴함.\n"
      ],
      "metadata": {
        "id": "li9xv6b8KC0h"
      }
    },
    {
      "cell_type": "code",
      "execution_count": 1,
      "metadata": {
        "id": "nD95-Aj0KAaz"
      },
      "outputs": [],
      "source": [
        "s = '안녕하세요. hello, pyTHON! 12345'"
      ]
    },
    {
      "cell_type": "code",
      "source": [
        "s.upper()"
      ],
      "metadata": {
        "colab": {
          "base_uri": "https://localhost:8080/",
          "height": 35
        },
        "id": "iHc-ZUWkLlDs",
        "outputId": "54ea7493-094c-468f-fef9-0a123d1992c1"
      },
      "execution_count": 2,
      "outputs": [
        {
          "output_type": "execute_result",
          "data": {
            "text/plain": [
              "'안녕하세요. HELLO, PYTHON! 12345'"
            ],
            "application/vnd.google.colaboratory.intrinsic+json": {
              "type": "string"
            }
          },
          "metadata": {},
          "execution_count": 2
        }
      ]
    },
    {
      "cell_type": "code",
      "source": [
        "s.capitalize() # 문자열의 첫글자만 대문자로, 나머지는 소문자로 변경."
      ],
      "metadata": {
        "colab": {
          "base_uri": "https://localhost:8080/",
          "height": 35
        },
        "id": "sXIuMVt3Lmwq",
        "outputId": "13163355-6b10-4b94-907d-9efbbbc10419"
      },
      "execution_count": 4,
      "outputs": [
        {
          "output_type": "execute_result",
          "data": {
            "text/plain": [
              "'안녕하세요. hello, python! 12345'"
            ],
            "application/vnd.google.colaboratory.intrinsic+json": {
              "type": "string"
            }
          },
          "metadata": {},
          "execution_count": 4
        }
      ]
    },
    {
      "cell_type": "code",
      "source": [
        "s = 'hello, pyTHON! 12345'"
      ],
      "metadata": {
        "id": "zbVQKKvDLo1h"
      },
      "execution_count": 5,
      "outputs": []
    },
    {
      "cell_type": "code",
      "source": [
        "s.capitalize()"
      ],
      "metadata": {
        "colab": {
          "base_uri": "https://localhost:8080/",
          "height": 35
        },
        "id": "jMlf57I-MTH8",
        "outputId": "861332cc-40f1-4441-c2f1-d6be7d40c1ba"
      },
      "execution_count": 7,
      "outputs": [
        {
          "output_type": "execute_result",
          "data": {
            "text/plain": [
              "'Hello, python! 12345'"
            ],
            "application/vnd.google.colaboratory.intrinsic+json": {
              "type": "string"
            }
          },
          "metadata": {},
          "execution_count": 7
        }
      ]
    },
    {
      "cell_type": "code",
      "source": [
        "s.count('h')"
      ],
      "metadata": {
        "colab": {
          "base_uri": "https://localhost:8080/"
        },
        "id": "O-SB5v3lMhmf",
        "outputId": "9b362089-c262-4f0b-d432-51226b06b0f9"
      },
      "execution_count": 9,
      "outputs": [
        {
          "output_type": "execute_result",
          "data": {
            "text/plain": [
              "1"
            ]
          },
          "metadata": {},
          "execution_count": 9
        }
      ]
    },
    {
      "cell_type": "code",
      "source": [
        "url = \"https://www.google.com\"\n",
        "url.startswith('ttp')"
      ],
      "metadata": {
        "colab": {
          "base_uri": "https://localhost:8080/"
        },
        "id": "Bs96nNmjMinK",
        "outputId": "98824fcf-e204-49b8-8c26-9841078cc6c2"
      },
      "execution_count": 12,
      "outputs": [
        {
          "output_type": "execute_result",
          "data": {
            "text/plain": [
              "False"
            ]
          },
          "metadata": {},
          "execution_count": 12
        }
      ]
    },
    {
      "cell_type": "code",
      "source": [
        "phone='010-000-000'"
      ],
      "metadata": {
        "id": "QocmM6ygM_UM"
      },
      "execution_count": 13,
      "outputs": []
    },
    {
      "cell_type": "code",
      "source": [
        "phone.split(sep='-')"
      ],
      "metadata": {
        "colab": {
          "base_uri": "https://localhost:8080/"
        },
        "id": "l15IB1fEOhNT",
        "outputId": "9cac1fa2-0608-4f76-d920-638cdd6dd5c5"
      },
      "execution_count": 15,
      "outputs": [
        {
          "output_type": "execute_result",
          "data": {
            "text/plain": [
              "['010', '000', '000']"
            ]
          },
          "metadata": {},
          "execution_count": 15
        }
      ]
    },
    {
      "cell_type": "code",
      "source": [
        "sentence = 'hello python \\t 안녕하세요 \\n Java'\n",
        "print(sentence)"
      ],
      "metadata": {
        "colab": {
          "base_uri": "https://localhost:8080/"
        },
        "id": "-Mrh65zLOkzn",
        "outputId": "e5108585-87df-4d4f-f8a0-fc5a990f6e6e"
      },
      "execution_count": 17,
      "outputs": [
        {
          "output_type": "stream",
          "name": "stdout",
          "text": [
            "hello python \t 안녕하세요 \n",
            " Java\n"
          ]
        }
      ]
    },
    {
      "cell_type": "code",
      "source": [
        "sentence.split() \n",
        "# 파리미터 sep=None인 경우, 공백(whitespace: 스페이스, 탭, 줄바꿈)을 기준으로 자름."
      ],
      "metadata": {
        "colab": {
          "base_uri": "https://localhost:8080/"
        },
        "id": "ZNcE-Ik_PBw8",
        "outputId": "3c6cb4d0-3ee8-483e-e090-c632fb40001c"
      },
      "execution_count": 18,
      "outputs": [
        {
          "output_type": "execute_result",
          "data": {
            "text/plain": [
              "['hello', 'python', '안녕하세요', 'Java']"
            ]
          },
          "metadata": {},
          "execution_count": 18
        }
      ]
    },
    {
      "cell_type": "code",
      "source": [
        "# CSV(comma-seperated-values) 파일 : 데이터들이 comma(,)로 구분된 형식의 파일.\n",
        "csv = '100,scott,200,scott@oracle.com,1234.56,IT,2022-12-29'\n",
        "csv.split(',') #문자열 -> 문자열 리스트"
      ],
      "metadata": {
        "colab": {
          "base_uri": "https://localhost:8080/"
        },
        "id": "eZUpSkMXPJnT",
        "outputId": "8ca1b5fd-1304-4240-f744-22319fbad44b"
      },
      "execution_count": 20,
      "outputs": [
        {
          "output_type": "execute_result",
          "data": {
            "text/plain": [
              "['100', 'scott', '200', 'scott@oracle.com', '1234.56', 'IT', '2022-12-29']"
            ]
          },
          "metadata": {},
          "execution_count": 20
        }
      ]
    },
    {
      "cell_type": "code",
      "source": [
        "'/'.join(['2022','12','29'])"
      ],
      "metadata": {
        "colab": {
          "base_uri": "https://localhost:8080/",
          "height": 35
        },
        "id": "--R440nrRAVx",
        "outputId": "33a34e1d-54c5-4fa2-b860-bd6c0698436a"
      },
      "execution_count": 22,
      "outputs": [
        {
          "output_type": "execute_result",
          "data": {
            "text/plain": [
              "'2022/12/29'"
            ],
            "application/vnd.google.colaboratory.intrinsic+json": {
              "type": "string"
            }
          },
          "metadata": {},
          "execution_count": 22
        }
      ]
    },
    {
      "cell_type": "code",
      "source": [
        "s='                  Hello phthon!          안녕하세요...        '\n",
        "print(s)\n",
        "print(s.lstrip())\n",
        "print(s.rstrip())\n",
        "print(s.strip()) # 문자열의 왼쪽/오른쪽 끝에 있는 공백들을 지움."
      ],
      "metadata": {
        "colab": {
          "base_uri": "https://localhost:8080/"
        },
        "id": "GAEldbNdRbZc",
        "outputId": "6b2b96cf-287b-459c-db4a-2c5fb035c349"
      },
      "execution_count": 24,
      "outputs": [
        {
          "output_type": "stream",
          "name": "stdout",
          "text": [
            "                  Hello phthon!          안녕하세요...        \n",
            "Hello phthon!          안녕하세요...        \n",
            "                  Hello phthon!          안녕하세요...\n",
            "Hello phthon!          안녕하세요...\n"
          ]
        }
      ]
    },
    {
      "cell_type": "code",
      "source": [
        "s = '100::scott::scott@test.com::It::2022-12-29'\n",
        "s.replace('::',', ')"
      ],
      "metadata": {
        "colab": {
          "base_uri": "https://localhost:8080/",
          "height": 35
        },
        "id": "Ot6-S0S5Ss29",
        "outputId": "fe5fb4a9-7b1a-470f-8b50-0924cc5a8d79"
      },
      "execution_count": 27,
      "outputs": [
        {
          "output_type": "execute_result",
          "data": {
            "text/plain": [
              "'100, scott, scott@test.com, It, 2022-12-29'"
            ],
            "application/vnd.google.colaboratory.intrinsic+json": {
              "type": "string"
            }
          },
          "metadata": {},
          "execution_count": 27
        }
      ]
    }
  ]
}