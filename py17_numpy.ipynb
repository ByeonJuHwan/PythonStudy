{
  "nbformat": 4,
  "nbformat_minor": 0,
  "metadata": {
    "colab": {
      "provenance": [],
      "authorship_tag": "ABX9TyMUe0qXq6wiqejt4Ni3pcpC",
      "include_colab_link": true
    },
    "kernelspec": {
      "name": "python3",
      "display_name": "Python 3"
    },
    "language_info": {
      "name": "python"
    }
  },
  "cells": [
    {
      "cell_type": "markdown",
      "metadata": {
        "id": "view-in-github",
        "colab_type": "text"
      },
      "source": [
        "<a href=\"https://colab.research.google.com/github/ByeonJuHwan/PythonStudy/blob/main/py17_numpy.ipynb\" target=\"_parent\"><img src=\"https://colab.research.google.com/assets/colab-badge.svg\" alt=\"Open In Colab\"/></a>"
      ]
    },
    {
      "cell_type": "markdown",
      "source": [
        "# 데이터 분석 패키지 \n",
        "\n",
        "* NumPy: 다차원 배열(n-dimensional array)을 다루는 패키지. 머신 러닝에서 중요하게 사용됨.\n",
        "* pandas: 시리즈(Series)와 데이터 프레임(DataFrame)을 다루는 패키지. 데이터 분석에서 기본으로 사용하는 패키지.\n",
        "* matplotlib : 데이터 시각화(그래프).\n",
        "* seaborn: 데이터 시각화.\n",
        "\n",
        "Google Colab에는 데이터 분석과 머신 러닝에 필요한 대부분의 패키지들이 이미 설치되어 있음.\n"
      ],
      "metadata": {
        "id": "3DCxNHBo4y4-"
      }
    },
    {
      "cell_type": "code",
      "execution_count": 153,
      "metadata": {
        "id": "dvm6X_N34vEq"
      },
      "outputs": [],
      "source": [
        "import numpy as np\n",
        "import pandas as pd\n",
        "import matplotlib\n",
        "import seaborn as sns"
      ]
    },
    {
      "cell_type": "code",
      "source": [
        "print('Numpy version:',np.__version__)\n",
        "print('pandas version:',pd.__version__)\n",
        "print('matplotlib version:',matplotlib.__version__)\n",
        "print('seaborn version:',sns.__version__)"
      ],
      "metadata": {
        "colab": {
          "base_uri": "https://localhost:8080/"
        },
        "id": "J3VUHv3E7lXw",
        "outputId": "f34559ea-b3e6-4b70-afef-be633f2f6792"
      },
      "execution_count": 154,
      "outputs": [
        {
          "output_type": "stream",
          "name": "stdout",
          "text": [
            "Numpy version: 1.21.6\n",
            "pandas version: 1.3.5\n",
            "matplotlib version: 3.2.2\n",
            "seaborn version: 0.11.2\n"
          ]
        }
      ]
    },
    {
      "cell_type": "markdown",
      "source": [
        "# Pyton `list` class\n",
        "\n",
        "* 여러개의 값들을 저장할 수 있는 데이터 타입\n",
        "* 인덱스를 기반으로 값들을 저장, 참조.\n",
        "    * indexing: 인덱스로 원하는 위치의 값을 참조, 변경\n",
        "    * slicing: `[start:end)` 인덱스 범위의 값들로 이루어진 부분집합(리스트)를 잘라냄.\n",
        "* `list + list` : extend. 2개의 리스트를 이어붙여서 하나의 리스트로 만듦.\n",
        "* `list*int, int*list`: 리스트의 원소들을 정수만큼 반복해서 복제."
      ],
      "metadata": {
        "id": "Ypo0Z6yc8KEb"
      }
    },
    {
      "cell_type": "code",
      "source": [
        "list1 = [1,2,3,4,5]\n",
        "list2 = [10,20,30,40,50]"
      ],
      "metadata": {
        "id": "jjqy1V1J9lml"
      },
      "execution_count": 155,
      "outputs": []
    },
    {
      "cell_type": "code",
      "source": [
        "# indexing\n",
        "print(list1[0])\n",
        "print(list1[-1],list1[4])"
      ],
      "metadata": {
        "colab": {
          "base_uri": "https://localhost:8080/"
        },
        "id": "6A7dSISA9p-4",
        "outputId": "f33fd479-61fd-449a-c867-8e181760e260"
      },
      "execution_count": 156,
      "outputs": [
        {
          "output_type": "stream",
          "name": "stdout",
          "text": [
            "1\n",
            "5 5\n"
          ]
        }
      ]
    },
    {
      "cell_type": "code",
      "source": [
        "# slicing\n",
        "print(list1[:3]) # list1[0:3]\n",
        "print(list1[-3:], list1[2:],list1[2:5])"
      ],
      "metadata": {
        "colab": {
          "base_uri": "https://localhost:8080/"
        },
        "id": "ouJQrRgt96E4",
        "outputId": "5cb01abf-54f2-42aa-e005-b49759fc0de9"
      },
      "execution_count": 157,
      "outputs": [
        {
          "output_type": "stream",
          "name": "stdout",
          "text": [
            "[1, 2, 3]\n",
            "[3, 4, 5] [3, 4, 5] [3, 4, 5]\n"
          ]
        }
      ]
    },
    {
      "cell_type": "code",
      "source": [
        "list1 + list2"
      ],
      "metadata": {
        "colab": {
          "base_uri": "https://localhost:8080/"
        },
        "id": "ETFvUB27-mBq",
        "outputId": "575a192e-f66e-4ad6-c3ce-6a207a0d5ec0"
      },
      "execution_count": 158,
      "outputs": [
        {
          "output_type": "execute_result",
          "data": {
            "text/plain": [
              "[1, 2, 3, 4, 5, 10, 20, 30, 40, 50]"
            ]
          },
          "metadata": {},
          "execution_count": 158
        }
      ]
    },
    {
      "cell_type": "code",
      "source": [
        "list1.extend(list2)"
      ],
      "metadata": {
        "id": "uLM-dnWM-saF"
      },
      "execution_count": 159,
      "outputs": []
    },
    {
      "cell_type": "code",
      "source": [
        "list1"
      ],
      "metadata": {
        "colab": {
          "base_uri": "https://localhost:8080/"
        },
        "id": "Q4lQO2Tj-uPl",
        "outputId": "3931bb56-9cfb-42b6-899a-86f69431e3c1"
      },
      "execution_count": 160,
      "outputs": [
        {
          "output_type": "execute_result",
          "data": {
            "text/plain": [
              "[1, 2, 3, 4, 5, 10, 20, 30, 40, 50]"
            ]
          },
          "metadata": {},
          "execution_count": 160
        }
      ]
    },
    {
      "cell_type": "code",
      "source": [
        "list2*2"
      ],
      "metadata": {
        "colab": {
          "base_uri": "https://localhost:8080/"
        },
        "id": "MiH9HwbA-68a",
        "outputId": "0de7e40e-902c-4a3f-dc92-30960b450047"
      },
      "execution_count": 161,
      "outputs": [
        {
          "output_type": "execute_result",
          "data": {
            "text/plain": [
              "[10, 20, 30, 40, 50, 10, 20, 30, 40, 50]"
            ]
          },
          "metadata": {},
          "execution_count": 161
        }
      ]
    },
    {
      "cell_type": "code",
      "source": [
        "list1 = [1,2,3]\n",
        "list2 = [4,5,6]\n",
        "\n",
        "# 같은 인덱스(위치)의 원소들끼리 덧셈\n",
        "[x+y for x,y in zip(list1,list2)]"
      ],
      "metadata": {
        "colab": {
          "base_uri": "https://localhost:8080/"
        },
        "id": "w8q_B4bN-72N",
        "outputId": "e77a9cb1-f80c-4e26-f5a7-4a6ab8b5ea6f"
      },
      "execution_count": 162,
      "outputs": [
        {
          "output_type": "execute_result",
          "data": {
            "text/plain": [
              "[5, 7, 9]"
            ]
          },
          "metadata": {},
          "execution_count": 162
        }
      ]
    },
    {
      "cell_type": "markdown",
      "source": [
        "# Numpy\n",
        "\n",
        "* Numerical Python\n",
        "* 배열(`ndarray`)을 쉽고 빠르게 연산 (`+,*,-,/,...) 을 할 수 있는 라이브러리.\n",
        "* NumPy 패키지의 함수 또는 메서드들은 대부분 반복문의 기능을 가지고 있음.\n",
        "* `np.ndarray` 클래스 : NumPy 패키지의 기본 타입 클래스. n차원 배열. (n-dimensional array).\n",
        "* `ndarray`는 같은 인덱스(위치)의 원소들끼리(element-wise) 연산을 수행."
      ],
      "metadata": {
        "id": "iqONz9NzAWKM"
      }
    },
    {
      "cell_type": "code",
      "source": [
        "array1 = np.array([1,2,3])"
      ],
      "metadata": {
        "id": "TSUBAj6YBc33"
      },
      "execution_count": 163,
      "outputs": []
    },
    {
      "cell_type": "code",
      "source": [
        "type(array1)"
      ],
      "metadata": {
        "colab": {
          "base_uri": "https://localhost:8080/"
        },
        "id": "cEYNZNAGBmvi",
        "outputId": "8d2088ae-9272-4da0-af3b-c24914b48914"
      },
      "execution_count": 164,
      "outputs": [
        {
          "output_type": "execute_result",
          "data": {
            "text/plain": [
              "numpy.ndarray"
            ]
          },
          "metadata": {},
          "execution_count": 164
        }
      ]
    },
    {
      "cell_type": "code",
      "source": [
        "print(array1) # print 함수는 __str__ 메서드이용"
      ],
      "metadata": {
        "colab": {
          "base_uri": "https://localhost:8080/"
        },
        "id": "t3y2RxdwBoXe",
        "outputId": "8f0dabdd-771e-49c7-913d-94b5f9177195"
      },
      "execution_count": 165,
      "outputs": [
        {
          "output_type": "stream",
          "name": "stdout",
          "text": [
            "[1 2 3]\n"
          ]
        }
      ]
    },
    {
      "cell_type": "code",
      "source": [
        "array1 # expression 출력은 __repr__ 메서드 이용"
      ],
      "metadata": {
        "colab": {
          "base_uri": "https://localhost:8080/"
        },
        "id": "wa9Ln2YtBya7",
        "outputId": "6bee7831-f00a-4833-e7b5-ffaaa03b9671"
      },
      "execution_count": 166,
      "outputs": [
        {
          "output_type": "execute_result",
          "data": {
            "text/plain": [
              "array([1, 2, 3])"
            ]
          },
          "metadata": {},
          "execution_count": 166
        }
      ]
    },
    {
      "cell_type": "code",
      "source": [
        "array2 = np.array([10,20,30])"
      ],
      "metadata": {
        "id": "pkWqh_O6CTt0"
      },
      "execution_count": 167,
      "outputs": []
    },
    {
      "cell_type": "code",
      "source": [
        "# ndarray()의 사칙연산 : element-wise 연산\n",
        "print(array1+array2)\n",
        "print(array1-array2)\n",
        "print(array1*array2)\n",
        "print(array1/array2)"
      ],
      "metadata": {
        "colab": {
          "base_uri": "https://localhost:8080/"
        },
        "id": "1a-oMagbCZAg",
        "outputId": "95760ec6-e04f-4cb5-c8a3-7eaedfb0cee9"
      },
      "execution_count": 168,
      "outputs": [
        {
          "output_type": "stream",
          "name": "stdout",
          "text": [
            "[11 22 33]\n",
            "[ -9 -18 -27]\n",
            "[10 40 90]\n",
            "[0.1 0.1 0.1]\n"
          ]
        }
      ]
    },
    {
      "cell_type": "markdown",
      "source": [
        "## `ndarray` 속성들"
      ],
      "metadata": {
        "id": "HhZdIuvgUk7V"
      }
    },
    {
      "cell_type": "code",
      "source": [
        "print(array1) # ndarray\n",
        "print('ndim :', array1.ndim) # 차원(dimension) : 축(axis) 의 개수\n",
        "print('size :', array1.size) # 크기(원소의 개수)\n",
        "print('shape :', array1.shape) # 각 차원에서의 원소 개수, 각 축을 따라서 있는 원소의 개수.\n",
        "print('dtytpe :', array1.dtype) # 데이터 타입 - ndarray는 한가지 타입의 값들만 저장."
      ],
      "metadata": {
        "colab": {
          "base_uri": "https://localhost:8080/"
        },
        "id": "pTTgnEvzCcwn",
        "outputId": "147f3aea-f707-49d5-b17c-71be1c8fbdb6"
      },
      "execution_count": 169,
      "outputs": [
        {
          "output_type": "stream",
          "name": "stdout",
          "text": [
            "[1 2 3]\n",
            "ndim : 1\n",
            "size : 3\n",
            "shape : (3,)\n",
            "dtytpe : int64\n"
          ]
        }
      ]
    },
    {
      "cell_type": "markdown",
      "source": [
        "* Python 숫자 타입:정수(int), 실수(float)\n",
        "* np 숫자 타입:\n",
        "    * 정수(int 8, int 16, int 32, int 64, ...)\n",
        "    * 실수(float16, float32, float64, ...)"
      ],
      "metadata": {
        "id": "UxTMcHuKXRfd"
      }
    },
    {
      "cell_type": "markdown",
      "source": [
        "## 2차원 `ndarray`\n"
      ],
      "metadata": {
        "id": "hoep5zGyYF6m"
      }
    },
    {
      "cell_type": "code",
      "source": [
        "array_2d = np.array([[1,2,3,4,],[5,6,7,8],[9,10,11,12]])"
      ],
      "metadata": {
        "id": "iuYwUb78VFiL"
      },
      "execution_count": 170,
      "outputs": []
    },
    {
      "cell_type": "code",
      "source": [
        "print(array_2d)"
      ],
      "metadata": {
        "colab": {
          "base_uri": "https://localhost:8080/"
        },
        "id": "dCQtlWDNYglN",
        "outputId": "ddec8864-dba6-4d98-8fe6-c1266178752e"
      },
      "execution_count": 171,
      "outputs": [
        {
          "output_type": "stream",
          "name": "stdout",
          "text": [
            "[[ 1  2  3  4]\n",
            " [ 5  6  7  8]\n",
            " [ 9 10 11 12]]\n"
          ]
        }
      ]
    },
    {
      "cell_type": "code",
      "source": [
        "print('ndim:', array_2d.ndim)\n",
        "print('size :', array_2d.size) \n",
        "print('shape :', array_2d.shape) \n",
        "print('dtytpe :', array_2d.dtype)"
      ],
      "metadata": {
        "colab": {
          "base_uri": "https://localhost:8080/"
        },
        "id": "bLFj18PwZF1V",
        "outputId": "144b41c8-5523-42c8-fb75-e2ef462ea8f3"
      },
      "execution_count": 172,
      "outputs": [
        {
          "output_type": "stream",
          "name": "stdout",
          "text": [
            "ndim: 2\n",
            "size : 12\n",
            "shape : (3, 4)\n",
            "dtytpe : int64\n"
          ]
        }
      ]
    },
    {
      "cell_type": "markdown",
      "source": [
        "# `ndarray` 객체 생성 함수"
      ],
      "metadata": {
        "id": "NEtS0fcUbWJN"
      }
    },
    {
      "cell_type": "markdown",
      "source": [
        "`np.array(object,dtype=None,...)`\n",
        "\n",
        "* object: 배열과 비슷한 객체들(list,tuple,set,dict,ndarray, ...). ndarray를 생성하기 위한 데이터."
      ],
      "metadata": {
        "id": "Moie6dwbbcm9"
      }
    },
    {
      "cell_type": "code",
      "source": [
        "# 0이상 10 이하 (11미만)의 짝수들로 이루어진 ndarray\n",
        "evens = np.array([2*x for x in range(6)])\n",
        "print(evens)"
      ],
      "metadata": {
        "colab": {
          "base_uri": "https://localhost:8080/"
        },
        "id": "WW2LLIiibYYK",
        "outputId": "9d238cba-719e-451e-f6b2-1a1358021317"
      },
      "execution_count": 173,
      "outputs": [
        {
          "output_type": "stream",
          "name": "stdout",
          "text": [
            "[ 0  2  4  6  8 10]\n"
          ]
        }
      ]
    },
    {
      "cell_type": "markdown",
      "source": [
        "`np.arange(start,end,step)`\n",
        "\n",
        "* `range(start, end, stop)` 함수 사용법과 같음.\n",
        "* 1차원 배열을 생성"
      ],
      "metadata": {
        "id": "cmo93bD8iFt9"
      }
    },
    {
      "cell_type": "code",
      "source": [
        "evens = np.arange(0,11,2)\n",
        "print(evens)"
      ],
      "metadata": {
        "colab": {
          "base_uri": "https://localhost:8080/"
        },
        "id": "g9DR-fyTeNp-",
        "outputId": "4f3b2c97-b0d1-40b0-c230-f649b1aabb51"
      },
      "execution_count": 174,
      "outputs": [
        {
          "output_type": "stream",
          "name": "stdout",
          "text": [
            "[ 0  2  4  6  8 10]\n"
          ]
        }
      ]
    },
    {
      "cell_type": "markdown",
      "source": [
        "`np.reshape(array,shape)` 함수\n",
        "\n",
        "`np.ndarray.reshape(shape)` 메서드"
      ],
      "metadata": {
        "id": "SGftPwvvi7DM"
      }
    },
    {
      "cell_type": "code",
      "source": [
        "arr = np.arange(12) # 0이상 12미만 범위의 정수들로 이루어진 1차원 배열\n",
        "print(arr)"
      ],
      "metadata": {
        "colab": {
          "base_uri": "https://localhost:8080/"
        },
        "id": "-IBJ7n4pi6De",
        "outputId": "868dc4b1-b0a8-451f-daa2-c002e784844a"
      },
      "execution_count": 175,
      "outputs": [
        {
          "output_type": "stream",
          "name": "stdout",
          "text": [
            "[ 0  1  2  3  4  5  6  7  8  9 10 11]\n"
          ]
        }
      ]
    },
    {
      "cell_type": "code",
      "source": [
        "arr2 = np.reshape(arr,(3,4)) # (12,) -> (3,4) 모양 변환.\n",
        "print(arr2)"
      ],
      "metadata": {
        "colab": {
          "base_uri": "https://localhost:8080/"
        },
        "id": "hoOvZ_bXkN7q",
        "outputId": "7d3c35f0-bac6-40fe-b8ad-5016f167dc0e"
      },
      "execution_count": 176,
      "outputs": [
        {
          "output_type": "stream",
          "name": "stdout",
          "text": [
            "[[ 0  1  2  3]\n",
            " [ 4  5  6  7]\n",
            " [ 8  9 10 11]]\n"
          ]
        }
      ]
    },
    {
      "cell_type": "code",
      "source": [
        "arr.reshape((3,4)) # 메서드 호출"
      ],
      "metadata": {
        "colab": {
          "base_uri": "https://localhost:8080/"
        },
        "id": "s82nTlANk6xI",
        "outputId": "1e3cffec-3247-4f13-de5e-d4c74c97cbc6"
      },
      "execution_count": 177,
      "outputs": [
        {
          "output_type": "execute_result",
          "data": {
            "text/plain": [
              "array([[ 0,  1,  2,  3],\n",
              "       [ 4,  5,  6,  7],\n",
              "       [ 8,  9, 10, 11]])"
            ]
          },
          "metadata": {},
          "execution_count": 177
        }
      ]
    },
    {
      "cell_type": "code",
      "source": [
        "np.arange(12).reshape(3,4) # 함수 호출 결과에서 메서드 호출"
      ],
      "metadata": {
        "colab": {
          "base_uri": "https://localhost:8080/"
        },
        "id": "Uf_kHZbYlw1X",
        "outputId": "8ca266da-3216-4040-921a-89b97fdd9295"
      },
      "execution_count": 178,
      "outputs": [
        {
          "output_type": "execute_result",
          "data": {
            "text/plain": [
              "array([[ 0,  1,  2,  3],\n",
              "       [ 4,  5,  6,  7],\n",
              "       [ 8,  9, 10, 11]])"
            ]
          },
          "metadata": {},
          "execution_count": 178
        }
      ]
    },
    {
      "cell_type": "markdown",
      "source": [
        "`np.random.rand(d0,d1,d2, ...)` 함수\n",
        "\n",
        "* `[0,1)` 범위의 균등분포를 따르는 난수들로 이루어진 ndarray를 만듦.\n",
        "* `d0,d1,d2, ...`: ndarray에서 각 차원의 (각 출을 따라서 있는) 원소의 개수."
      ],
      "metadata": {
        "id": "IRuw7OPsmQUV"
      }
    },
    {
      "cell_type": "code",
      "source": [
        "np.random.rand(5)"
      ],
      "metadata": {
        "colab": {
          "base_uri": "https://localhost:8080/"
        },
        "id": "dP55Df7Ym5cD",
        "outputId": "4be051f5-16ee-4aa5-c3a1-17d623bb888f"
      },
      "execution_count": 179,
      "outputs": [
        {
          "output_type": "execute_result",
          "data": {
            "text/plain": [
              "array([0.34710962, 0.77006665, 0.97619671, 0.78046282, 0.42096585])"
            ]
          },
          "metadata": {},
          "execution_count": 179
        }
      ]
    },
    {
      "cell_type": "code",
      "source": [
        "np.random.rand(4,3)"
      ],
      "metadata": {
        "colab": {
          "base_uri": "https://localhost:8080/"
        },
        "id": "pcsmH5A2nKgi",
        "outputId": "3b647408-d3c4-4c65-d458-84ff71dcde06"
      },
      "execution_count": 180,
      "outputs": [
        {
          "output_type": "execute_result",
          "data": {
            "text/plain": [
              "array([[0.85461125, 0.1805651 , 0.85674233],\n",
              "       [0.02106805, 0.90247338, 0.93568418],\n",
              "       [0.93872531, 0.47630319, 0.24492101],\n",
              "       [0.78309698, 0.80409129, 0.85992137]])"
            ]
          },
          "metadata": {},
          "execution_count": 180
        }
      ]
    },
    {
      "cell_type": "markdown",
      "source": [
        "`np.random.rand(d0,d1,d2,...)` 함수\n",
        "\n",
        "* 평균이 0이고 표준편차가 1인 표준 정규분포를 따르는 난수들의 배열을 만듦.\n",
        "* `d0,d1,d2, ...`: ndarray의 각 축을 따라서 있는 원소들의 개수.\n"
      ],
      "metadata": {
        "id": "7OdiauNxnms3"
      }
    },
    {
      "cell_type": "code",
      "source": [
        "np.random.randn(5)"
      ],
      "metadata": {
        "colab": {
          "base_uri": "https://localhost:8080/"
        },
        "id": "DI40ohfsnlwZ",
        "outputId": "e95b9153-bfe2-4f17-ac3c-667ae8de87ea"
      },
      "execution_count": 181,
      "outputs": [
        {
          "output_type": "execute_result",
          "data": {
            "text/plain": [
              "array([-0.14290483,  0.19318524, -0.80566671, -0.77073185,  0.2356006 ])"
            ]
          },
          "metadata": {},
          "execution_count": 181
        }
      ]
    },
    {
      "cell_type": "code",
      "source": [
        "np.random.randn(3,4)"
      ],
      "metadata": {
        "colab": {
          "base_uri": "https://localhost:8080/"
        },
        "id": "5bMKfUONoudf",
        "outputId": "5662178d-626f-4a7d-c43e-edb9393e93d3"
      },
      "execution_count": 182,
      "outputs": [
        {
          "output_type": "execute_result",
          "data": {
            "text/plain": [
              "array([[ 1.7744505 , -1.73802387, -1.08942431, -0.9413249 ],\n",
              "       [-0.00626617,  0.34265776,  0.27843535,  0.18591616],\n",
              "       [ 0.85179526, -1.44986367, -0.9383899 ,  0.37747583]])"
            ]
          },
          "metadata": {},
          "execution_count": 182
        }
      ]
    },
    {
      "cell_type": "markdown",
      "source": [
        "`np.random.randint(low,high,size,dtype)` 함수\n",
        "\n",
        "* `[low,high]` 범위의 균등 분포를 따르는 정수 난수들의 배열 만듦.\n",
        "* `size`: ndarray의 *모양(shape)*. 정수 또는 정수들의 typle.\n",
        "* dtype : ndarray 원소의 데이터 타입."
      ],
      "metadata": {
        "id": "bkHC7rd0pBH9"
      }
    },
    {
      "cell_type": "code",
      "source": [
        "np.random.randint(0,10,size=5)"
      ],
      "metadata": {
        "colab": {
          "base_uri": "https://localhost:8080/"
        },
        "id": "98KBqHEFp4Pf",
        "outputId": "a8e6901d-2d2b-4af2-de40-fb935d413e6c"
      },
      "execution_count": 183,
      "outputs": [
        {
          "output_type": "execute_result",
          "data": {
            "text/plain": [
              "array([9, 2, 3, 3, 8])"
            ]
          },
          "metadata": {},
          "execution_count": 183
        }
      ]
    },
    {
      "cell_type": "code",
      "source": [
        "np.random.randint(0,10,size=(4,3))"
      ],
      "metadata": {
        "colab": {
          "base_uri": "https://localhost:8080/"
        },
        "id": "JrLJcQQNqB5l",
        "outputId": "0dc0b81f-4db7-40a5-b925-f94501ad9bb6"
      },
      "execution_count": 184,
      "outputs": [
        {
          "output_type": "execute_result",
          "data": {
            "text/plain": [
              "array([[4, 0, 0],\n",
              "       [6, 0, 2],\n",
              "       [4, 3, 2],\n",
              "       [9, 7, 1]])"
            ]
          },
          "metadata": {},
          "execution_count": 184
        }
      ]
    },
    {
      "cell_type": "markdown",
      "source": [
        "# `ndarray`를 사용한 수학 그래프"
      ],
      "metadata": {
        "id": "DiAVLSsiqYy3"
      }
    },
    {
      "cell_type": "code",
      "source": [
        " x = np.arange(-2,2,step=0.001)\n",
        " print(x)"
      ],
      "metadata": {
        "colab": {
          "base_uri": "https://localhost:8080/"
        },
        "id": "rUtq9FP8qXXy",
        "outputId": "c28fb3d3-186d-4a3a-d083-cf038891bf65"
      },
      "execution_count": 185,
      "outputs": [
        {
          "output_type": "stream",
          "name": "stdout",
          "text": [
            "[-2.    -1.999 -1.998 ...  1.997  1.998  1.999]\n"
          ]
        }
      ]
    },
    {
      "cell_type": "code",
      "source": [
        "y = x**2\n",
        "print(y)"
      ],
      "metadata": {
        "colab": {
          "base_uri": "https://localhost:8080/"
        },
        "id": "9FGf3a1HrMe9",
        "outputId": "7f3f71fb-9909-4f0c-a405-21e6983790ea"
      },
      "execution_count": 186,
      "outputs": [
        {
          "output_type": "stream",
          "name": "stdout",
          "text": [
            "[4.       3.996001 3.992004 ... 3.988009 3.992004 3.996001]\n"
          ]
        }
      ]
    },
    {
      "cell_type": "code",
      "source": [
        "import matplotlib.pyplot as plt # matplotlib.pyplot 모듈을 plt 이름으로 임포트"
      ],
      "metadata": {
        "id": "nHcpW1ndrjgz"
      },
      "execution_count": 187,
      "outputs": []
    },
    {
      "cell_type": "code",
      "source": [
        "plt.plot(x,y)\n",
        "plt.grid()\n",
        "plt.show()"
      ],
      "metadata": {
        "colab": {
          "base_uri": "https://localhost:8080/",
          "height": 265
        },
        "id": "Jl4CuQ72rw1E",
        "outputId": "ac3d152d-db4a-4866-cc6f-109aae2378df"
      },
      "execution_count": 188,
      "outputs": [
        {
          "output_type": "display_data",
          "data": {
            "text/plain": [
              "<Figure size 432x288 with 1 Axes>"
            ],
            "image/png": "[encoded data removed]"
          },
          "metadata": {
            "needs_background": "light"
          }
        }
      ]
    },
    {
      "cell_type": "markdown",
      "source": [
        "# `ndarray 인덱스`"
      ],
      "metadata": {
        "id": "e5qND3WiyA9r"
      }
    },
    {
      "cell_type": "markdown",
      "source": [
        "## indexing, slicing"
      ],
      "metadata": {
        "id": "pd97V1DvyEdj"
      }
    },
    {
      "cell_type": "code",
      "source": [
        "arr = np.arange(10)\n",
        "print(arr)"
      ],
      "metadata": {
        "colab": {
          "base_uri": "https://localhost:8080/"
        },
        "id": "qGNjSgxLyDOR",
        "outputId": "fef2b927-c8a9-4799-8c10-8fd4f620a86e"
      },
      "execution_count": 189,
      "outputs": [
        {
          "output_type": "stream",
          "name": "stdout",
          "text": [
            "[0 1 2 3 4 5 6 7 8 9]\n"
          ]
        }
      ]
    },
    {
      "cell_type": "code",
      "source": [
        "# indexing\n",
        "print(arr[0]) # 1차원 배열의 첫번째 원소\n",
        "print(arr[9]) # 배열의 마지막 원소\n",
        "print(arr[-1]) # ndarry도 리스트와 마찬가지로 음수 인덱스를 사용할 수 있다."
      ],
      "metadata": {
        "colab": {
          "base_uri": "https://localhost:8080/"
        },
        "id": "udXNg9kjyJ5I",
        "outputId": "edaa5668-a8ca-45a9-ee79-11016a109611"
      },
      "execution_count": 192,
      "outputs": [
        {
          "output_type": "stream",
          "name": "stdout",
          "text": [
            "0\n",
            "9\n",
            "9\n"
          ]
        }
      ]
    },
    {
      "cell_type": "code",
      "source": [
        "# slicing\n",
        "print(arr[0:3]) # 배열에서 첫 3개의 원소를 잘라냄.\n",
        "print(arr[:3])\n",
        "print(arr[-3:]) # 종료 인덱스를 생략하면 마지막 원소까지 잘라냄"
      ],
      "metadata": {
        "colab": {
          "base_uri": "https://localhost:8080/"
        },
        "id": "wSvFySzuyzNB",
        "outputId": "a6a4e0a5-d446-40ba-b408-cca7236a7470"
      },
      "execution_count": 195,
      "outputs": [
        {
          "output_type": "stream",
          "name": "stdout",
          "text": [
            "[0 1 2]\n",
            "[0 1 2]\n",
            "[7 8 9]\n"
          ]
        }
      ]
    },
    {
      "cell_type": "code",
      "source": [
        "# ndarray를 slicing 한 결과는 ndarray!\n",
        "print(arr[:1]) # slicing -> ndarray\n",
        "print(arr[0]) # indexing "
      ],
      "metadata": {
        "colab": {
          "base_uri": "https://localhost:8080/"
        },
        "id": "Kl-v66bRzUhN",
        "outputId": "c22da353-dc3e-4435-c8f2-adcc96ba0433"
      },
      "execution_count": 197,
      "outputs": [
        {
          "output_type": "stream",
          "name": "stdout",
          "text": [
            "[0]\n",
            "0\n"
          ]
        }
      ]
    },
    {
      "cell_type": "markdown",
      "source": [
        "## fancy indexing\n",
        "\n",
        "* 배열과 비슷한 객체(ndarray, list, tuple, set , ...)를 사용해서 원하는 원소들을 참조(indexing)하는 방법.\n",
        "* fancy indexing의 결과는 ndarray."
      ],
      "metadata": {
        "id": "aohMjWc_zzfr"
      }
    },
    {
      "cell_type": "code",
      "source": [
        "np.random.seed(100) # 난수 만드는 순서를 고정.\n",
        "arr = np.random.randint(100, size=10)\n",
        "print(arr)"
      ],
      "metadata": {
        "colab": {
          "base_uri": "https://localhost:8080/"
        },
        "id": "B6LelcLfzyve",
        "outputId": "a1a54f29-ce32-4718-b814-f5cc74281d5a"
      },
      "execution_count": 201,
      "outputs": [
        {
          "output_type": "stream",
          "name": "stdout",
          "text": [
            "[ 8 24 67 87 79 48 10 94 52 98]\n"
          ]
        }
      ]
    },
    {
      "cell_type": "code",
      "source": [
        "arr[[0,2,4,9]] # ndarray[array-like]"
      ],
      "metadata": {
        "colab": {
          "base_uri": "https://localhost:8080/"
        },
        "id": "Nk43Cjv21EYH",
        "outputId": "0a34e917-4013-41b1-d744-43661b30e3e1"
      },
      "execution_count": 203,
      "outputs": [
        {
          "output_type": "execute_result",
          "data": {
            "text/plain": [
              "array([ 8, 67, 79, 98])"
            ]
          },
          "metadata": {},
          "execution_count": 203
        }
      ]
    },
    {
      "cell_type": "code",
      "source": [
        "arr[[0]] # fancy indexing -> ndarray"
      ],
      "metadata": {
        "colab": {
          "base_uri": "https://localhost:8080/"
        },
        "id": "bnt9yFKH2EKs",
        "outputId": "36fd9858-1e03-4283-f630-1a9552682dbf"
      },
      "execution_count": 204,
      "outputs": [
        {
          "output_type": "execute_result",
          "data": {
            "text/plain": [
              "array([8])"
            ]
          },
          "metadata": {},
          "execution_count": 204
        }
      ]
    },
    {
      "cell_type": "markdown",
      "source": [
        "## boolean indexing\n",
        "\n",
        "* 논릿값(True,False)들의 배열(리스트, 튜플, ...)을 사용한 fancy indexing\n",
        "* 배열에서 조건을 만족하는 원소들로 이루어진 부분집합(ndarray)를 만듦."
      ],
      "metadata": {
        "id": "5iBUEIyc2Ztk"
      }
    },
    {
      "cell_type": "code",
      "source": [
        "print(arr)"
      ],
      "metadata": {
        "colab": {
          "base_uri": "https://localhost:8080/"
        },
        "id": "9cpd5BCl2x07",
        "outputId": "bc7fec4f-779e-4226-f814-4ab43f26fc05"
      },
      "execution_count": 206,
      "outputs": [
        {
          "output_type": "stream",
          "name": "stdout",
          "text": [
            "[ 8 24 67 87 79 48 10 94 52 98]\n"
          ]
        }
      ]
    },
    {
      "cell_type": "code",
      "source": [
        "indices = [True,False,False,True,True,True,True,False,False,True] # bool들의 리스트"
      ],
      "metadata": {
        "id": "fBP4D2eM21G9"
      },
      "execution_count": 207,
      "outputs": []
    },
    {
      "cell_type": "code",
      "source": [
        "arr[indices]"
      ],
      "metadata": {
        "colab": {
          "base_uri": "https://localhost:8080/"
        },
        "id": "JRpbRRp83QyX",
        "outputId": "8b98a389-b0b6-4867-e5a7-cd7e1918dc80"
      },
      "execution_count": 208,
      "outputs": [
        {
          "output_type": "execute_result",
          "data": {
            "text/plain": [
              "array([ 8, 87, 79, 48, 10, 98])"
            ]
          },
          "metadata": {},
          "execution_count": 208
        }
      ]
    },
    {
      "cell_type": "code",
      "source": [
        "# ndarray의 element-wise\n",
        "arr % 2 == 1"
      ],
      "metadata": {
        "colab": {
          "base_uri": "https://localhost:8080/"
        },
        "id": "o0pt0bZi3Sjk",
        "outputId": "27fc887e-8935-48fc-873f-459cf8162a5a"
      },
      "execution_count": 210,
      "outputs": [
        {
          "output_type": "execute_result",
          "data": {
            "text/plain": [
              "array([False, False,  True,  True,  True, False, False, False, False,\n",
              "       False])"
            ]
          },
          "metadata": {},
          "execution_count": 210
        }
      ]
    },
    {
      "cell_type": "code",
      "source": [
        "arr[arr %2 == 1] # 조건을 만족하는 원소들로 이루어진 부분집합(ndarray)"
      ],
      "metadata": {
        "colab": {
          "base_uri": "https://localhost:8080/"
        },
        "id": "KaZT3BUa4PV_",
        "outputId": "02ca0970-f478-410e-8add-f375a4cedd33"
      },
      "execution_count": 212,
      "outputs": [
        {
          "output_type": "execute_result",
          "data": {
            "text/plain": [
              "array([67, 87, 79])"
            ]
          },
          "metadata": {},
          "execution_count": 212
        }
      ]
    },
    {
      "cell_type": "markdown",
      "source": [
        "## 2차원 `ndarray`의 인덱스"
      ],
      "metadata": {
        "id": "bYm-Zt7N45_7"
      }
    },
    {
      "cell_type": "markdown",
      "source": [
        "### 2차원 리스트 `list`의 인덱스 사용 방법 : `list[i][j]`"
      ],
      "metadata": {
        "id": "ej17d9cf5CEC"
      }
    },
    {
      "cell_type": "code",
      "source": [
        "list_2d = [\n",
        "    [1,2,3,4],\n",
        "    [5,6,7,8],\n",
        "    [9,10,11,12]\n",
        "]"
      ],
      "metadata": {
        "id": "qkBqt_aW4_aS"
      },
      "execution_count": 213,
      "outputs": []
    },
    {
      "cell_type": "code",
      "source": [
        "list_2d[0]"
      ],
      "metadata": {
        "colab": {
          "base_uri": "https://localhost:8080/"
        },
        "id": "7nq0euts5dzr",
        "outputId": "d20e0bc1-9147-4fad-a0e8-13c25b2e33ad"
      },
      "execution_count": 215,
      "outputs": [
        {
          "output_type": "execute_result",
          "data": {
            "text/plain": [
              "[1, 2, 3, 4]"
            ]
          },
          "metadata": {},
          "execution_count": 215
        }
      ]
    },
    {
      "cell_type": "code",
      "source": [
        "list_2d[0][0]"
      ],
      "metadata": {
        "colab": {
          "base_uri": "https://localhost:8080/"
        },
        "id": "53AWNSpy5jW_",
        "outputId": "06b69149-601a-4333-d661-d62a346f686b"
      },
      "execution_count": 216,
      "outputs": [
        {
          "output_type": "execute_result",
          "data": {
            "text/plain": [
              "1"
            ]
          },
          "metadata": {},
          "execution_count": 216
        }
      ]
    },
    {
      "cell_type": "markdown",
      "source": [
        "### 2차원 `ndarray`의 인덱스 사용 방법 :\n",
        "\n",
        "* `array[i][j]`\n",
        "* `array[i,j]`"
      ],
      "metadata": {
        "id": "W-Njymt854cK"
      }
    },
    {
      "cell_type": "code",
      "source": [
        "from numpy.core.fromnumeric import shape\n",
        "arr = np.arange(1,13).reshape((3,4))\n",
        "print(arr)"
      ],
      "metadata": {
        "colab": {
          "base_uri": "https://localhost:8080/"
        },
        "id": "7wEelV916Giv",
        "outputId": "55f00369-05ce-4c0c-bcd2-c3e24373ea07"
      },
      "execution_count": 222,
      "outputs": [
        {
          "output_type": "stream",
          "name": "stdout",
          "text": [
            "[[ 1  2  3  4]\n",
            " [ 5  6  7  8]\n",
            " [ 9 10 11 12]]\n"
          ]
        }
      ]
    },
    {
      "cell_type": "code",
      "source": [
        "arr[0][0]"
      ],
      "metadata": {
        "colab": {
          "base_uri": "https://localhost:8080/"
        },
        "id": "eSKDdEl06dbc",
        "outputId": "9f359eb8-cf7c-4135-b7c2-ca2d3a5f02f9"
      },
      "execution_count": 223,
      "outputs": [
        {
          "output_type": "execute_result",
          "data": {
            "text/plain": [
              "1"
            ]
          },
          "metadata": {},
          "execution_count": 223
        }
      ]
    },
    {
      "cell_type": "code",
      "source": [
        "arr[0,0]"
      ],
      "metadata": {
        "colab": {
          "base_uri": "https://localhost:8080/"
        },
        "id": "A9FWaQM76fQN",
        "outputId": "0b9ef8f9-6f2b-45bf-d6c1-f79f1108cbbe"
      },
      "execution_count": 224,
      "outputs": [
        {
          "output_type": "execute_result",
          "data": {
            "text/plain": [
              "1"
            ]
          },
          "metadata": {},
          "execution_count": 224
        }
      ]
    },
    {
      "cell_type": "markdown",
      "source": [
        "# NumPy 통계 함수/메서드\n",
        "\n",
        "* `np.function(array)` 함수\n",
        "* `np.ndarray.method()` 메서드\n",
        "\n"
      ],
      "metadata": {
        "id": "0AWlkHq0-nLW"
      }
    },
    {
      "cell_type": "code",
      "source": [
        "np.random.seed(1)\n",
        "arr=np.random.randint(100,size=5)"
      ],
      "metadata": {
        "id": "hp90xryy6gQF"
      },
      "execution_count": 225,
      "outputs": []
    },
    {
      "cell_type": "code",
      "source": [
        "print(arr)"
      ],
      "metadata": {
        "colab": {
          "base_uri": "https://localhost:8080/"
        },
        "id": "IdqFVwm2_PHa",
        "outputId": "f8caa0eb-4c4d-400e-e97c-af98ece95d2f"
      },
      "execution_count": 227,
      "outputs": [
        {
          "output_type": "stream",
          "name": "stdout",
          "text": [
            "[37 12 72  9 75]\n"
          ]
        }
      ]
    },
    {
      "cell_type": "code",
      "source": [
        "np.sum(arr) # 함수"
      ],
      "metadata": {
        "colab": {
          "base_uri": "https://localhost:8080/"
        },
        "id": "Igt1uv7T_goG",
        "outputId": "b179f658-2e5a-427e-e625-764f360d8a36"
      },
      "execution_count": 228,
      "outputs": [
        {
          "output_type": "execute_result",
          "data": {
            "text/plain": [
              "205"
            ]
          },
          "metadata": {},
          "execution_count": 228
        }
      ]
    },
    {
      "cell_type": "code",
      "source": [
        "arr.sum() # 메서드"
      ],
      "metadata": {
        "colab": {
          "base_uri": "https://localhost:8080/"
        },
        "id": "H7Yla8H__hnM",
        "outputId": "0bd6bb7a-3dbc-4982-f63d-4529ed347c0d"
      },
      "execution_count": 229,
      "outputs": [
        {
          "output_type": "execute_result",
          "data": {
            "text/plain": [
              "205"
            ]
          },
          "metadata": {},
          "execution_count": 229
        }
      ]
    },
    {
      "cell_type": "code",
      "source": [
        "print('합계 :', np.sum(arr), arr.sum())\n",
        "print('평균 :', np.mean(arr), arr.mean())\n",
        "print('분산 :', np.var(arr), arr.var()) # variance\n",
        "print('표준편차:',np.std(arr),arr.std()) # standard deviation\n",
        "print('최댓값:',np.max(arr),arr.max())\n",
        "print('최솟값:',np.min(arr),arr.min())\n",
        "print('중앙값:',np.median(arr)) # median() 기능은 ndarray의 메서드로 제공되지 않음.\n",
        "# 중앙값: 데이터를 오름차순 정렬했을 때 가운데 있는 값."
      ],
      "metadata": {
        "colab": {
          "base_uri": "https://localhost:8080/"
        },
        "id": "kosciY40_xfE",
        "outputId": "8db8a929-0348-47da-ea27-82a338fd05d2"
      },
      "execution_count": 236,
      "outputs": [
        {
          "output_type": "stream",
          "name": "stdout",
          "text": [
            "합계 : 205 205\n",
            "평균 : 41.0 41.0\n",
            "분산 : 799.6 799.6\n",
            "표준편차: 28.27719929554552 28.27719929554552\n",
            "최댓값: 75 75\n",
            "최솟값: 9 9\n",
            "중앙값: 37.0\n"
          ]
        }
      ]
    },
    {
      "cell_type": "code",
      "source": [
        "np.sort(arr) # 배열을(오름차순) 정렬한 새로운 배열을 리턴. 원본 배열은 변경되지 않음"
      ],
      "metadata": {
        "colab": {
          "base_uri": "https://localhost:8080/"
        },
        "id": "lK5wcneAAa2X",
        "outputId": "b6155fb8-1c96-4802-ef62-073eabd38d0d"
      },
      "execution_count": 237,
      "outputs": [
        {
          "output_type": "execute_result",
          "data": {
            "text/plain": [
              "array([ 9, 12, 37, 72, 75])"
            ]
          },
          "metadata": {},
          "execution_count": 237
        }
      ]
    },
    {
      "cell_type": "code",
      "source": [
        "arr.sort() # 원본 배열을 정렬해서 변경!"
      ],
      "metadata": {
        "id": "O9CbTG5pCv9y"
      },
      "execution_count": 238,
      "outputs": []
    },
    {
      "cell_type": "code",
      "source": [
        "np.random.seed(1)\n",
        "arr = np.random.randint(100,size=5)"
      ],
      "metadata": {
        "id": "uk8UcogTDtkI"
      },
      "execution_count": 241,
      "outputs": []
    },
    {
      "cell_type": "code",
      "source": [
        "print('argmax:',np.argmax(arr), arr.argmax()) # 최댓값의 인덱스\n",
        "print('argmin:',np.argmin(arr), arr.argmin()) # 최솟값의 인덱스"
      ],
      "metadata": {
        "colab": {
          "base_uri": "https://localhost:8080/"
        },
        "id": "87jp8NApEX7D",
        "outputId": "3f65a821-3c5f-4ce8-f303-0d3fcd63b781"
      },
      "execution_count": 246,
      "outputs": [
        {
          "output_type": "stream",
          "name": "stdout",
          "text": [
            "argmax: 4 4\n",
            "argmin: 3 3\n"
          ]
        }
      ]
    },
    {
      "cell_type": "markdown",
      "source": [
        "## 2차원 배열에서의 통계 함수 / 메서드"
      ],
      "metadata": {
        "id": "4WW5ehhUFWFR"
      }
    },
    {
      "cell_type": "code",
      "source": [
        "np.random.seed(2)\n",
        "arr = np.random.randint(100,size=(3,4))\n",
        "print(arr)"
      ],
      "metadata": {
        "colab": {
          "base_uri": "https://localhost:8080/"
        },
        "id": "7HrGE80EFZM1",
        "outputId": "af0d6b92-a83e-403e-9331-a3cac61561b7"
      },
      "execution_count": 248,
      "outputs": [
        {
          "output_type": "stream",
          "name": "stdout",
          "text": [
            "[[40 15 72 22]\n",
            " [43 82 75  7]\n",
            " [34 49 95 75]]\n"
          ]
        }
      ]
    },
    {
      "cell_type": "code",
      "source": [
        "np.sum(arr) # axis = None : 축에 상관없이 모든 원소를 다 더함."
      ],
      "metadata": {
        "colab": {
          "base_uri": "https://localhost:8080/"
        },
        "id": "S75nCwZdFkcZ",
        "outputId": "b51d441e-6df1-4cbe-a02b-3907db75caf3"
      },
      "execution_count": 249,
      "outputs": [
        {
          "output_type": "execute_result",
          "data": {
            "text/plain": [
              "609"
            ]
          },
          "metadata": {},
          "execution_count": 249
        }
      ]
    },
    {
      "cell_type": "code",
      "source": [
        "arr.sum() # axis = None"
      ],
      "metadata": {
        "colab": {
          "base_uri": "https://localhost:8080/"
        },
        "id": "Wlqh7relGP2h",
        "outputId": "89a1ae20-69e0-44cb-97b3-d2a19c1e0f38"
      },
      "execution_count": 251,
      "outputs": [
        {
          "output_type": "execute_result",
          "data": {
            "text/plain": [
              "609"
            ]
          },
          "metadata": {},
          "execution_count": 251
        }
      ]
    },
    {
      "cell_type": "code",
      "source": [
        "np.sum(arr,axis=0) # 세로로 계산 row index가 증가하는 방향으로 계산"
      ],
      "metadata": {
        "colab": {
          "base_uri": "https://localhost:8080/"
        },
        "id": "tqQD9edWHWVb",
        "outputId": "32d38f2d-1319-46bd-9528-03d92f64dded"
      },
      "execution_count": 253,
      "outputs": [
        {
          "output_type": "execute_result",
          "data": {
            "text/plain": [
              "array([117, 146, 242, 104])"
            ]
          },
          "metadata": {},
          "execution_count": 253
        }
      ]
    },
    {
      "cell_type": "code",
      "source": [
        "np.sum(arr, axis=1) # 가로로 계산"
      ],
      "metadata": {
        "colab": {
          "base_uri": "https://localhost:8080/"
        },
        "id": "k0cGRsXnHY1N",
        "outputId": "a7fa8d67-686f-4587-a873-cf2d7efd5577"
      },
      "execution_count": 255,
      "outputs": [
        {
          "output_type": "execute_result",
          "data": {
            "text/plain": [
              "array([149, 207, 253])"
            ]
          },
          "metadata": {},
          "execution_count": 255
        }
      ]
    },
    {
      "cell_type": "code",
      "source": [
        "np.sum(arr,axis=1,keepdims=True)"
      ],
      "metadata": {
        "colab": {
          "base_uri": "https://localhost:8080/"
        },
        "id": "EF9GpCsVHpYs",
        "outputId": "5114cfd8-1d86-4d6e-ab09-307793d30a7b"
      },
      "execution_count": 257,
      "outputs": [
        {
          "output_type": "execute_result",
          "data": {
            "text/plain": [
              "array([[149],\n",
              "       [207],\n",
              "       [253]])"
            ]
          },
          "metadata": {},
          "execution_count": 257
        }
      ]
    },
    {
      "cell_type": "code",
      "source": [
        "np.sum(arr,axis=0,keepdims=True)"
      ],
      "metadata": {
        "colab": {
          "base_uri": "https://localhost:8080/"
        },
        "id": "J3UXI9VlIraP",
        "outputId": "72c6cb30-5ab8-4500-85d3-7e09c3bdc557"
      },
      "execution_count": 258,
      "outputs": [
        {
          "output_type": "execute_result",
          "data": {
            "text/plain": [
              "array([[117, 146, 242, 104]])"
            ]
          },
          "metadata": {},
          "execution_count": 258
        }
      ]
    }
  ]
}