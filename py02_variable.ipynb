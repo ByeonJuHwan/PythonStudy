{
  "nbformat": 4,
  "nbformat_minor": 0,
  "metadata": {
    "colab": {
      "provenance": [],
      "toc_visible": true,
      "authorship_tag": "ABX9TyOTIqunAcAwBdpGOYv1WDhk",
      "include_colab_link": true
    },
    "kernelspec": {
      "name": "python3",
      "display_name": "Python 3"
    },
    "language_info": {
      "name": "python"
    }
  },
  "cells": [
    {
      "cell_type": "markdown",
      "metadata": {
        "id": "view-in-github",
        "colab_type": "text"
      },
      "source": [
        "<a href=\"https://colab.research.google.com/github/ByeonJuHwan/PythonStudy/blob/main/py02_variable.ipynb\" target=\"_parent\"><img src=\"https://colab.research.google.com/assets/colab-badge.svg\" alt=\"Open In Colab\"/></a>"
      ]
    },
    {
      "cell_type": "markdown",
      "source": [
        "# 파이썬 자료 타입\n",
        "\n",
        "* 숫자 타입\n",
        "    * `int` : 정수\n",
        "    * `float` : 실수\n",
        "* 문자열 타입\n",
        "    * `str`\n",
        "* 논리 타입\n",
        "    * `bool` : True / False\n",
        "* 객체 타입\n",
        "\n",
        "파이썬은 변수를 선언할 때 자료 타입을 명시하지 않음! 변수의 자료 타입은 코드가 실행될 때 결정됨."
      ],
      "metadata": {
        "id": "2J6OKD1sydfj"
      }
    },
    {
      "cell_type": "code",
      "execution_count": 8,
      "metadata": {
        "colab": {
          "base_uri": "https://localhost:8080/"
        },
        "id": "XZGwMHRjxeuO",
        "outputId": "f3ac0243-7927-4e48-ca62-7c0df6c5e73e"
      },
      "outputs": [
        {
          "output_type": "stream",
          "name": "stdout",
          "text": [
            "123\n",
            "<class 'int'>\n"
          ]
        }
      ],
      "source": [
        "# 주석 (comment)\n",
        "# 변수_이름 = 값\n",
        "n = 123\n",
        "print(n)\n",
        "print(type(n)) # type(arg) : arg의 자료 타입을 리턴."
      ]
    },
    {
      "cell_type": "code",
      "source": [
        "n = 3.14\n",
        "print(type(n))"
      ],
      "metadata": {
        "colab": {
          "base_uri": "https://localhost:8080/"
        },
        "id": "86bXvnuS1Dwj",
        "outputId": "2db8b2e6-7f3d-43dc-a5a0-739cfae71b4f"
      },
      "execution_count": 9,
      "outputs": [
        {
          "output_type": "stream",
          "name": "stdout",
          "text": [
            "<class 'float'>\n"
          ]
        }
      ]
    },
    {
      "cell_type": "markdown",
      "source": [
        "식(expression) : 값, 변수, 계산식(연상), 함수 호출.\n",
        "\n",
        "문장(statement) : 코드의 최소 실행 단위.\n",
        "\n",
        "ipynb(IPython notebook) 코드셀 에서 가장 마지막 줄에 있는 문장이 식(expression)이면, 그 식을 평가한 결과를 콘솔 창에 출력해 줌. (print 함수를 사용하지 않아도 됨.) "
      ],
      "metadata": {
        "id": "Cx8rIJt31v6p"
      }
    },
    {
      "cell_type": "code",
      "source": [
        "x = 1\n",
        "y = 2\n",
        "x + y"
      ],
      "metadata": {
        "colab": {
          "base_uri": "https://localhost:8080/"
        },
        "id": "ri6q7nQu3Jzw",
        "outputId": "099df7a5-d524-483c-9ca2-5fc67916f7af"
      },
      "execution_count": 10,
      "outputs": [
        {
          "output_type": "execute_result",
          "data": {
            "text/plain": [
              "3"
            ]
          },
          "metadata": {},
          "execution_count": 10
        }
      ]
    },
    {
      "cell_type": "markdown",
      "source": [
        "## 명시적 타입 변환\n",
        "\n",
        "* `int(값)` : 값을 정수 타입으로 변환해서 리턴.\n",
        "* `float(값)` : 값을 실수 타입으로 변환해서 리턴.\n",
        "* `str(값)` : 값을 문자열로 변환해서 리턴."
      ],
      "metadata": {
        "id": "WXZb-xTc8MC6"
      }
    },
    {
      "cell_type": "code",
      "source": [
        "# colab 노트북의 콘솔에서 입력 받은 방법 : \n",
        "n = input('정수 입력>>>')"
      ],
      "metadata": {
        "colab": {
          "base_uri": "https://localhost:8080/"
        },
        "id": "QoTLF-MJ8w4l",
        "outputId": "73e43607-46be-484e-9004-f9b9720ce1f8"
      },
      "execution_count": 11,
      "outputs": [
        {
          "name": "stdout",
          "output_type": "stream",
          "text": [
            "정수 입력>>>123\n"
          ]
        }
      ]
    },
    {
      "cell_type": "code",
      "source": [
        "type(n)"
      ],
      "metadata": {
        "colab": {
          "base_uri": "https://localhost:8080/"
        },
        "id": "sTbDY6V59Rtb",
        "outputId": "25f0eb58-40c7-46ca-af4d-e3f84a5e2f28"
      },
      "execution_count": 12,
      "outputs": [
        {
          "output_type": "execute_result",
          "data": {
            "text/plain": [
              "str"
            ]
          },
          "metadata": {},
          "execution_count": 12
        }
      ]
    },
    {
      "cell_type": "code",
      "source": [
        "n = int(n) # 변수 n의 타입을 int 타입으로 변환한 후 n에 저장."
      ],
      "metadata": {
        "id": "j-371ucW9sXv"
      },
      "execution_count": 13,
      "outputs": []
    },
    {
      "cell_type": "code",
      "source": [
        "type(n)"
      ],
      "metadata": {
        "colab": {
          "base_uri": "https://localhost:8080/"
        },
        "id": "TV5HR-hI-Kz6",
        "outputId": "6d5e895b-c12c-411d-ae5d-29f088e8df4a"
      },
      "execution_count": 14,
      "outputs": [
        {
          "output_type": "execute_result",
          "data": {
            "text/plain": [
              "int"
            ]
          },
          "metadata": {},
          "execution_count": 14
        }
      ]
    },
    {
      "cell_type": "markdown",
      "source": [
        "# 산술 연산자 \n",
        "\n",
        "종류: `+, -, /, *, //, %, **`\n",
        "\n",
        "* `/` : 소수점까지 계산하는 나눗셈.\n",
        "* `//` : 몫\n",
        "* `%` : 나머지\n",
        "* `**` : 거듭 제곱"
      ],
      "metadata": {
        "id": "MsfiJ9Qp-jl6"
      }
    },
    {
      "cell_type": "code",
      "source": [
        "10 / 3"
      ],
      "metadata": {
        "colab": {
          "base_uri": "https://localhost:8080/"
        },
        "id": "49_zoDyz_j1f",
        "outputId": "5f199d48-a62d-48dd-e7e8-faa10eb9ace3"
      },
      "execution_count": 16,
      "outputs": [
        {
          "output_type": "execute_result",
          "data": {
            "text/plain": [
              "3.3333333333333335"
            ]
          },
          "metadata": {},
          "execution_count": 16
        }
      ]
    },
    {
      "cell_type": "code",
      "source": [
        "10 // 3"
      ],
      "metadata": {
        "colab": {
          "base_uri": "https://localhost:8080/"
        },
        "id": "fZwBIhtd_maK",
        "outputId": "6f595249-e34c-4dc1-c63d-1a1399d009c2"
      },
      "execution_count": 18,
      "outputs": [
        {
          "output_type": "execute_result",
          "data": {
            "text/plain": [
              "3"
            ]
          },
          "metadata": {},
          "execution_count": 18
        }
      ]
    },
    {
      "cell_type": "code",
      "source": [
        "10 % 3"
      ],
      "metadata": {
        "colab": {
          "base_uri": "https://localhost:8080/"
        },
        "id": "fVuj1LM5_n7e",
        "outputId": "c98a3352-fd8d-444a-a11f-c329d8578424"
      },
      "execution_count": 20,
      "outputs": [
        {
          "output_type": "execute_result",
          "data": {
            "text/plain": [
              "1"
            ]
          },
          "metadata": {},
          "execution_count": 20
        }
      ]
    },
    {
      "cell_type": "code",
      "source": [
        "10 ** 2"
      ],
      "metadata": {
        "colab": {
          "base_uri": "https://localhost:8080/"
        },
        "id": "aHgMFTFK_qJM",
        "outputId": "8b8473a9-5015-4552-eec0-d289ea2cbd79"
      },
      "execution_count": 23,
      "outputs": [
        {
          "output_type": "execute_result",
          "data": {
            "text/plain": [
              "100"
            ]
          },
          "metadata": {},
          "execution_count": 23
        }
      ]
    },
    {
      "cell_type": "markdown",
      "source": [
        "## 문자열(str) 타입에서 사용할 수 있는 산술 연산자.\n",
        "\n",
        "* `+` : concatenate. 문자열 이어 붙이기\n",
        "* `*` : replicate. 문자열 복제"
      ],
      "metadata": {
        "id": "Wbo3fanIAM6i"
      }
    },
    {
      "cell_type": "code",
      "source": [
        "'Hello' + 'Python'"
      ],
      "metadata": {
        "colab": {
          "base_uri": "https://localhost:8080/",
          "height": 35
        },
        "id": "Ph-ZD1F9AnEu",
        "outputId": "826cf3ed-2ffc-48b8-a616-b33ed3be3ce8"
      },
      "execution_count": 25,
      "outputs": [
        {
          "output_type": "execute_result",
          "data": {
            "text/plain": [
              "'HelloPython'"
            ],
            "application/vnd.google.colaboratory.intrinsic+json": {
              "type": "string"
            }
          },
          "metadata": {},
          "execution_count": 25
        }
      ]
    },
    {
      "cell_type": "code",
      "source": [
        "'Hello' * 5"
      ],
      "metadata": {
        "colab": {
          "base_uri": "https://localhost:8080/",
          "height": 35
        },
        "id": "kOqInpEGAt-T",
        "outputId": "6cf2598a-7c0a-48f0-b02b-8382b02428d9"
      },
      "execution_count": 26,
      "outputs": [
        {
          "output_type": "execute_result",
          "data": {
            "text/plain": [
              "'HelloHelloHelloHelloHello'"
            ],
            "application/vnd.google.colaboratory.intrinsic+json": {
              "type": "string"
            }
          },
          "metadata": {},
          "execution_count": 26
        }
      ]
    },
    {
      "cell_type": "markdown",
      "source": [
        "# 비교 연산자와 논리 연산자\n",
        "\n",
        "* 비교 연산자 : `== , !=, >, >=, <, <=`\n",
        "* 논리 연산자 : `and, or, not`"
      ],
      "metadata": {
        "id": "8vmPZu1ZBIjq"
      }
    },
    {
      "cell_type": "code",
      "source": [
        "x = 100"
      ],
      "metadata": {
        "id": "gi3rzbfbBuf6"
      },
      "execution_count": 27,
      "outputs": []
    },
    {
      "cell_type": "code",
      "source": [
        "(x>50) and (x<150)"
      ],
      "metadata": {
        "colab": {
          "base_uri": "https://localhost:8080/"
        },
        "id": "rqaUmdngBv6U",
        "outputId": "c2adeb0f-f583-4201-ac71-f19cff472316"
      },
      "execution_count": 28,
      "outputs": [
        {
          "output_type": "execute_result",
          "data": {
            "text/plain": [
              "True"
            ]
          },
          "metadata": {},
          "execution_count": 28
        }
      ]
    },
    {
      "cell_type": "code",
      "source": [
        "50 < x <150"
      ],
      "metadata": {
        "colab": {
          "base_uri": "https://localhost:8080/"
        },
        "id": "SsQ8yXzyByvR",
        "outputId": "71dda097-7f0a-4d2f-e899-e495f0704a05"
      },
      "execution_count": 29,
      "outputs": [
        {
          "output_type": "execute_result",
          "data": {
            "text/plain": [
              "True"
            ]
          },
          "metadata": {},
          "execution_count": 29
        }
      ]
    },
    {
      "cell_type": "markdown",
      "source": [
        "# Ex 1. 조건문\n",
        "\n",
        "* 3개의 정수를 입력받고 각각 변수에 저장.\n",
        "* 3개 정수의 평균을 소수점까지 계산하고 출력\n",
        "* 평균이 90 이상이면 A, 80점 이상이면 B, 70점 이상이면 C, 70점 미만이면 F를 출력."
      ],
      "metadata": {
        "id": "YNw_jiTbCu56"
      }
    },
    {
      "cell_type": "code",
      "source": [
        "a = input('점수 입력 >>>')\n",
        "a = int(a)\n",
        "b = input('점수 입력 >>>')\n",
        "b = int(b)\n",
        "c = input('점수 입력 >>>')\n",
        "c = int(c)\n",
        "\n",
        "avg = (a+b+c)/3\n",
        "print('평균 = ', avg)\n",
        "\n",
        "if avg>=90:\n",
        "    print('A')\n",
        "elif avg>= 80:\n",
        "    print('B')\n",
        "elif avg>=70:\n",
        "    print('C')\n",
        "else:\n",
        "    print('F')\n",
        "    "
      ],
      "metadata": {
        "colab": {
          "base_uri": "https://localhost:8080/"
        },
        "id": "mA9nSJhADW0S",
        "outputId": "254b0423-2325-41c7-d902-f0e3a58c0af5"
      },
      "execution_count": 40,
      "outputs": [
        {
          "output_type": "stream",
          "name": "stdout",
          "text": [
            "점수 입력 >>>70\n",
            "점수 입력 >>>72\n",
            "점수 입력 >>>73\n",
            "평균 =  71.66666666666667\n",
            "C\n"
          ]
        }
      ]
    },
    {
      "cell_type": "markdown",
      "source": [
        "# Ex 2. 반복문\n",
        "\n",
        "* 구구단 12단 (12 x 1, ... ,12 x 12) 을 출력"
      ],
      "metadata": {
        "id": "NO0W4wyXDYaZ"
      }
    },
    {
      "cell_type": "code",
      "source": [
        "for i in range(1,13):\n",
        "    print('12 x', i)"
      ],
      "metadata": {
        "colab": {
          "base_uri": "https://localhost:8080/"
        },
        "id": "Fcl1zCvaFmKT",
        "outputId": "6ef090af-d43d-427b-a124-729c5e756bbc"
      },
      "execution_count": 39,
      "outputs": [
        {
          "output_type": "stream",
          "name": "stdout",
          "text": [
            "12 x 1\n",
            "12 x 2\n",
            "12 x 3\n",
            "12 x 4\n",
            "12 x 5\n",
            "12 x 6\n",
            "12 x 7\n",
            "12 x 8\n",
            "12 x 9\n",
            "12 x 10\n",
            "12 x 11\n",
            "12 x 12\n"
          ]
        }
      ]
    }
  ]
}