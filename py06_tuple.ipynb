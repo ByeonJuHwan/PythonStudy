{
  "nbformat": 4,
  "nbformat_minor": 0,
  "metadata": {
    "colab": {
      "provenance": [],
      "authorship_tag": "ABX9TyNdSfAUWzof9x+Qi/7zDj2Y",
      "include_colab_link": true
    },
    "kernelspec": {
      "name": "python3",
      "display_name": "Python 3"
    },
    "language_info": {
      "name": "python"
    }
  },
  "cells": [
    {
      "cell_type": "markdown",
      "metadata": {
        "id": "view-in-github",
        "colab_type": "text"
      },
      "source": [
        "<a href=\"https://colab.research.google.com/github/ByeonJuHwan/PythonStudy/blob/main/py06_tuple.ipynb\" target=\"_parent\"><img src=\"https://colab.research.google.com/assets/colab-badge.svg\" alt=\"Open In Colab\"/></a>"
      ]
    },
    {
      "cell_type": "markdown",
      "source": [
        "# tuple(튜플)\n",
        "\n",
        "* 저장된 원소들을 변경할 수 없는 리스트\n",
        "* indexing, slicing \n",
        "* `append(), remove()` 와 같은 원소를 변경하는 메서드(기능)는 제공되지 않음."
      ],
      "metadata": {
        "id": "HiVxJ82bILnB"
      }
    },
    {
      "cell_type": "code",
      "execution_count": 3,
      "metadata": {
        "colab": {
          "base_uri": "https://localhost:8080/"
        },
        "id": "32rBSx52IBlh",
        "outputId": "2fa60b31-f5e4-417a-ec4a-0e129c69620f"
      },
      "outputs": [
        {
          "output_type": "execute_result",
          "data": {
            "text/plain": [
              "(1, 2, 3, 10, 20, 30)"
            ]
          },
          "metadata": {},
          "execution_count": 3
        }
      ],
      "source": [
        "numbers = (1,2,3,10,20,30)\n",
        "numbers"
      ]
    },
    {
      "cell_type": "code",
      "source": [
        "type(numbers)"
      ],
      "metadata": {
        "colab": {
          "base_uri": "https://localhost:8080/"
        },
        "id": "wpofXHcRJW9f",
        "outputId": "9cd4d787-585c-417d-ecba-a65d0d0f0d81"
      },
      "execution_count": 5,
      "outputs": [
        {
          "output_type": "execute_result",
          "data": {
            "text/plain": [
              "tuple"
            ]
          },
          "metadata": {},
          "execution_count": 5
        }
      ]
    },
    {
      "cell_type": "markdown",
      "source": [
        "# indexing\n",
        "\n",
        "인덱스를 사용해서 원소 1개를 참조하는 방법."
      ],
      "metadata": {
        "id": "RU4Gpu64JbZx"
      }
    },
    {
      "cell_type": "code",
      "source": [
        "numbers[0] # 튜플의첫번째 원소"
      ],
      "metadata": {
        "colab": {
          "base_uri": "https://localhost:8080/"
        },
        "id": "5pjA6LznJgiB",
        "outputId": "cfc1c46e-b5c9-40ae-b2b4-f3bacb21e61b"
      },
      "execution_count": 6,
      "outputs": [
        {
          "output_type": "execute_result",
          "data": {
            "text/plain": [
              "1"
            ]
          },
          "metadata": {},
          "execution_count": 6
        }
      ]
    },
    {
      "cell_type": "code",
      "source": [
        "numbers[-1] # 튜플의 마지막원소"
      ],
      "metadata": {
        "colab": {
          "base_uri": "https://localhost:8080/"
        },
        "id": "lTYI1ofgJlT3",
        "outputId": "c2329067-5e12-4bd4-ba61-da8b1ba50e73"
      },
      "execution_count": 7,
      "outputs": [
        {
          "output_type": "execute_result",
          "data": {
            "text/plain": [
              "30"
            ]
          },
          "metadata": {},
          "execution_count": 7
        }
      ]
    },
    {
      "cell_type": "code",
      "source": [
        "# 튜플에서 첫 2개 원소를 잘라내기\n",
        "numbers[:2]"
      ],
      "metadata": {
        "colab": {
          "base_uri": "https://localhost:8080/"
        },
        "id": "VRjcssLlJqZR",
        "outputId": "601fea01-338a-4e30-f3b6-185bb49a5a57"
      },
      "execution_count": 9,
      "outputs": [
        {
          "output_type": "execute_result",
          "data": {
            "text/plain": [
              "(1, 2)"
            ]
          },
          "metadata": {},
          "execution_count": 9
        }
      ]
    },
    {
      "cell_type": "code",
      "source": [
        "# 튜플에서 마지막 2개 원소를 잘라내기\n",
        "numbers[-2:]"
      ],
      "metadata": {
        "colab": {
          "base_uri": "https://localhost:8080/"
        },
        "id": "XBN0t_XkKtNu",
        "outputId": "289d3389-5427-46a0-d693-2cd7e32bca92"
      },
      "execution_count": 10,
      "outputs": [
        {
          "output_type": "execute_result",
          "data": {
            "text/plain": [
              "(20, 30)"
            ]
          },
          "metadata": {},
          "execution_count": 10
        }
      ]
    },
    {
      "cell_type": "markdown",
      "source": [
        "# decomposition(분해)"
      ],
      "metadata": {
        "id": "aQZ_1x8lK25R"
      }
    },
    {
      "cell_type": "code",
      "source": [
        "x,y,z = (1,2,3)\n",
        "x,y,z"
      ],
      "metadata": {
        "colab": {
          "base_uri": "https://localhost:8080/"
        },
        "id": "24JOix_JK9Ty",
        "outputId": "33d7bf94-dc3d-4082-ff31-81c9c005a52b"
      },
      "execution_count": 12,
      "outputs": [
        {
          "output_type": "execute_result",
          "data": {
            "text/plain": [
              "(1, 2, 3)"
            ]
          },
          "metadata": {},
          "execution_count": 12
        }
      ]
    },
    {
      "cell_type": "markdown",
      "source": [
        "# tuple 과 for 반복문"
      ],
      "metadata": {
        "id": "uuRE551kQROp"
      }
    },
    {
      "cell_type": "code",
      "source": [
        "numbers= (1,3,5,7,9)\n",
        "for x in numbers:\n",
        "    print(x,end=' ')"
      ],
      "metadata": {
        "colab": {
          "base_uri": "https://localhost:8080/"
        },
        "id": "G_SeKurmQTgQ",
        "outputId": "80b77089-e430-451d-ef4a-9391dbcc0f95"
      },
      "execution_count": 14,
      "outputs": [
        {
          "output_type": "stream",
          "name": "stdout",
          "text": [
            "1 3 5 7 9 "
          ]
        }
      ]
    },
    {
      "cell_type": "markdown",
      "source": [
        "# 2차원 리스트, 튜플"
      ],
      "metadata": {
        "id": "kR4qahPdRLJJ"
      }
    },
    {
      "cell_type": "code",
      "source": [
        "numbers=[\n",
        "    [1,2,3],[4,5,6]\n",
        "]\n",
        "numbers"
      ],
      "metadata": {
        "colab": {
          "base_uri": "https://localhost:8080/"
        },
        "id": "BTOqNMESQ5t1",
        "outputId": "3adc690e-0fb6-46df-84d2-5d3fa9d3ffeb"
      },
      "execution_count": 16,
      "outputs": [
        {
          "output_type": "execute_result",
          "data": {
            "text/plain": [
              "[[1, 2, 3], [4, 5, 6]]"
            ]
          },
          "metadata": {},
          "execution_count": 16
        }
      ]
    },
    {
      "cell_type": "code",
      "source": [
        "for row in numbers:\n",
        "    for x in row:\n",
        "        print(x, end=' ')\n",
        "    print()"
      ],
      "metadata": {
        "colab": {
          "base_uri": "https://localhost:8080/"
        },
        "id": "deGyptNuTBUO",
        "outputId": "3d5494af-a1e4-47b5-a483-89f21fe80e9b"
      },
      "execution_count": 20,
      "outputs": [
        {
          "output_type": "stream",
          "name": "stdout",
          "text": [
            "1 2 3 \n",
            "4 5 6 \n"
          ]
        }
      ]
    },
    {
      "cell_type": "markdown",
      "source": [
        "## Exercise\n",
        "\n",
        "1. 2x2 모양의 난수를 저장하는 2차원 리스트 array1을 만듦.\n",
        "1. 2x2 모양의 난수를 저장하는 2차원 리스트 array2을 만듦.\n",
        "1. array1과 array2의 같은 인덱스의 원소들끼리 뎃셈 결과를 갖는 2차원 리스트를 만듦."
      ],
      "metadata": {
        "id": "idphOurnThbo"
      }
    },
    {
      "cell_type": "code",
      "source": [
        "import random as r\n",
        "\n",
        "array1 = []\n",
        "a=[r.randrange(10) for _ in range(2)]\n",
        "b=[r.randrange(10) for _ in range(2)]\n",
        "array1.append(a)\n",
        "array1.append(b)\n",
        "for row in array1:\n",
        "    for x in row:\n",
        "        print(x, end=' ')\n",
        "    print() \n",
        "\n",
        "a=[r.randrange(0,10) for _ in range(2)]\n",
        "b=[r.randrange(0,10) for _ in range(2)]\n",
        "array2 = []\n",
        "array2.append(a)\n",
        "array2.append(b)\n",
        "for row in array2:\n",
        "    for x in row:\n",
        "        print(x, end=' ')\n",
        "    print()\n",
        " \n",
        "adds=[]\n",
        "for x in range(2):\n",
        "    a=[]\n",
        "    for y in range(2):\n",
        "        a.append(array1[x][y]+array2[x][y])\n",
        "    adds.append(a)\n",
        "adds"
      ],
      "metadata": {
        "colab": {
          "base_uri": "https://localhost:8080/"
        },
        "id": "QHItbIhATgeT",
        "outputId": "446fa535-2566-4a97-b8d8-6b554c59140e"
      },
      "execution_count": 54,
      "outputs": [
        {
          "output_type": "stream",
          "name": "stdout",
          "text": [
            "6 7 \n",
            "0 9 \n",
            "7 2 \n",
            "1 7 \n"
          ]
        },
        {
          "output_type": "execute_result",
          "data": {
            "text/plain": [
              "[[13, 9], [1, 16]]"
            ]
          },
          "metadata": {},
          "execution_count": 54
        }
      ]
    },
    {
      "cell_type": "code",
      "source": [
        "array1 = []\n",
        "for _ in range(2):\n",
        "    row = []\n",
        "    for _ in range(2):\n",
        "        row.append(r.randrange(10))\n",
        "    array1.append(row)\n",
        "array1"
      ],
      "metadata": {
        "colab": {
          "base_uri": "https://localhost:8080/"
        },
        "id": "eH1ztqgtbhkr",
        "outputId": "5f8e76e6-6515-4d6b-9a64-dc1b4d51f6b0"
      },
      "execution_count": 57,
      "outputs": [
        {
          "output_type": "execute_result",
          "data": {
            "text/plain": [
              "[[3, 9], [0, 2]]"
            ]
          },
          "metadata": {},
          "execution_count": 57
        }
      ]
    },
    {
      "cell_type": "code",
      "source": [
        "array2=[[r.randrange(10) for _ in range(2)] for _ in range(2)]\n",
        "array2"
      ],
      "metadata": {
        "colab": {
          "base_uri": "https://localhost:8080/"
        },
        "id": "2N_nAqekcV3S",
        "outputId": "b01d45a1-33ad-482f-acd8-6c42b46a7a46"
      },
      "execution_count": 60,
      "outputs": [
        {
          "output_type": "execute_result",
          "data": {
            "text/plain": [
              "[[2, 3], [6, 0]]"
            ]
          },
          "metadata": {},
          "execution_count": 60
        }
      ]
    },
    {
      "cell_type": "code",
      "source": [
        "adds = [[x+y for x,y in zip(row1,row2)] for row1, row2 in zip(array1,array2)]\n",
        "adds"
      ],
      "metadata": {
        "colab": {
          "base_uri": "https://localhost:8080/"
        },
        "id": "QzfkNSP_d2-U",
        "outputId": "68ce375c-aacc-41b2-c531-dbca24fcc8c9"
      },
      "execution_count": 61,
      "outputs": [
        {
          "output_type": "execute_result",
          "data": {
            "text/plain": [
              "[[5, 12], [6, 2]]"
            ]
          },
          "metadata": {},
          "execution_count": 61
        }
      ]
    }
  ]
}