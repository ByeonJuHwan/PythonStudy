{
  "nbformat": 4,
  "nbformat_minor": 0,
  "metadata": {
    "colab": {
      "provenance": [],
      "authorship_tag": "ABX9TyMCIkSjRgobcufctJ76Thyk",
      "include_colab_link": true
    },
    "kernelspec": {
      "name": "python3",
      "display_name": "Python 3"
    },
    "language_info": {
      "name": "python"
    }
  },
  "cells": [
    {
      "cell_type": "markdown",
      "metadata": {
        "id": "view-in-github",
        "colab_type": "text"
      },
      "source": [
        "<a href=\"https://colab.research.google.com/github/ByeonJuHwan/PythonStudy/blob/main/py03_conditional.ipynb\" target=\"_parent\"><img src=\"https://colab.research.google.com/assets/colab-badge.svg\" alt=\"Open In Colab\"/></a>"
      ]
    },
    {
      "cell_type": "markdown",
      "source": [
        "# else 가 없는 조건문 \n",
        "\n",
        "```\n",
        "if 조건식 :\n",
        "    조건식이 참일 때 실행할 코드 (블록)\n",
        "```\n",
        "\n",
        "* `if 조건식` 뒤에는 반드시 콜론(:)을 사용해야 함.\n",
        "* `if` 블록 (조건식이 참일 때 실행하는 문자들)은 반드시 **같은 크기로** 들여쓰기 (indentation)를 해야 함."
      ],
      "metadata": {
        "id": "VsgQtjIz5vmU"
      }
    },
    {
      "cell_type": "code",
      "execution_count": null,
      "metadata": {
        "colab": {
          "base_uri": "https://localhost:8080/"
        },
        "id": "eaJrWQGK5mFZ",
        "outputId": "5234b7cc-f334-47cb-df2b-4e0511a8eb28"
      },
      "outputs": [
        {
          "output_type": "stream",
          "name": "stdout",
          "text": [
            "양수\n",
            "if 블록 끝\n",
            "if 바깥\n"
          ]
        }
      ],
      "source": [
        "n = 100\n",
        "\n",
        "if n>0:\n",
        "    print('양수')\n",
        "    print('if 블록 끝')\n",
        "\n",
        "print('if 바깥')"
      ]
    },
    {
      "cell_type": "markdown",
      "source": [
        "# else가 있는 조건문\n",
        "\n",
        "```\n",
        "if 조건식:\n",
        "    조건식이 참일 때 실행할 코드 블록\n",
        "else:\n",
        "    조건식이 거짓일 때 실행할 코드 블록\n",
        "```"
      ],
      "metadata": {
        "id": "VDGrRIJt9Rs8"
      }
    },
    {
      "cell_type": "code",
      "source": [
        "n = int(input('정수 입력 >>> '))\n",
        "if n % 2: # 정수 n을 2로 나눈 나머지가 있으면(나머지가 0이 아니면)\n",
        "    print('홀수') # (1)\n",
        "else:\n",
        "    print('짝수') # (2)"
      ],
      "metadata": {
        "colab": {
          "base_uri": "https://localhost:8080/"
        },
        "id": "P19Lgogp9vB0",
        "outputId": "da80dac3-b487-484a-e91e-bd362fd89877"
      },
      "execution_count": null,
      "outputs": [
        {
          "output_type": "stream",
          "name": "stdout",
          "text": [
            "정수 입력>>> 123\n",
            "홀수\n"
          ]
        }
      ]
    },
    {
      "cell_type": "markdown",
      "source": [
        "Pyton에서 참(True)으로 취급하는 것들:\n",
        "\n",
        "* 0이 아닌 숫자들\n",
        "* 1개 이상의 글자를 가지고 있는 문자열\n",
        "* 1개 이상의 원소를 가지고 있는 리스트, ..."
      ],
      "metadata": {
        "id": "SP4WrEcC_Cu9"
      }
    },
    {
      "cell_type": "markdown",
      "source": [
        "# chained conditional\n",
        "\n",
        "```\n",
        "if 조건식1:\n",
        "    조건식1이 참일 때 실행할 코드 블록\n",
        "elif 조건식2:\n",
        "    조건식2가 참일 때 실행할 코드 블록\n",
        "...\n",
        "else:\n",
        "    위의 모든 조건식들을 만족하지 못할 때 실행할 코드 블록\n",
        "```"
      ],
      "metadata": {
        "id": "wnBBWbQC_wWM"
      }
    }
  ]
}