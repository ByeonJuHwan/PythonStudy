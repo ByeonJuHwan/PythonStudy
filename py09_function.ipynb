{
  "nbformat": 4,
  "nbformat_minor": 0,
  "metadata": {
    "colab": {
      "provenance": [],
      "authorship_tag": "ABX9TyOcw+FoHzxr6XSHxMET1fja",
      "include_colab_link": true
    },
    "kernelspec": {
      "name": "python3",
      "display_name": "Python 3"
    },
    "language_info": {
      "name": "python"
    }
  },
  "cells": [
    {
      "cell_type": "markdown",
      "metadata": {
        "id": "view-in-github",
        "colab_type": "text"
      },
      "source": [
        "<a href=\"https://colab.research.google.com/github/ByeonJuHwan/PythonStudy/blob/main/py09_function.ipynb\" target=\"_parent\"><img src=\"https://colab.research.google.com/assets/colab-badge.svg\" alt=\"Open In Colab\"/></a>"
      ]
    },
    {
      "cell_type": "markdown",
      "source": [
        "# 함수(function)\n",
        "\n",
        "* 함수(function) : 기능을 수행하는 코드 블록.\n",
        "* 인수(argument) : 함수를 호출할 때 함수에게 전달하는 값(들).\n",
        "* 매개변수(parameger) : argument를 저장하기 위해서 함수를 정의할 때 선언하는 (지역) 변수.\n",
        "* 반환 값(return value) : 함수가 기능의 수행 결과로 반환하는 값.\n",
        "    * 반환 값이 있는 함수\n",
        "    * 반환 값이 없는 함수\n"
      ],
      "metadata": {
        "id": "4JFTj87L_Acr"
      }
    },
    {
      "cell_type": "markdown",
      "source": [
        "파이썬에서 함수 정의하는 방법 :\n",
        "\n",
        "```\n",
        "def function_name([param,...]):\n",
        "    [\"\"\"문서화 주석 : 함수 설명, 파라미터 설명, 리턴 값 설명\"\"\"]\n",
        "    함수 기능 코드 블록\n",
        "    [return 값]\n",
        "\n",
        "```"
      ],
      "metadata": {
        "id": "qpeH6eoCALkS"
      }
    },
    {
      "cell_type": "code",
      "source": [
        "def subtract(x,y):\n",
        "    \"\"\" 숫자 x,y를 전달받아서, x-y를 리턴하는 함수.\"\"\"\n",
        "    return x-y"
      ],
      "metadata": {
        "id": "sYVu2SZKBcpU"
      },
      "execution_count": 95,
      "outputs": []
    },
    {
      "cell_type": "code",
      "source": [
        "subtract(1,2)"
      ],
      "metadata": {
        "colab": {
          "base_uri": "https://localhost:8080/"
        },
        "id": "1kAHWCMEB1qa",
        "outputId": "f9199cee-5b59-456d-ee84-df5e9b14dfc3"
      },
      "execution_count": 96,
      "outputs": [
        {
          "output_type": "execute_result",
          "data": {
            "text/plain": [
              "-1"
            ]
          },
          "metadata": {},
          "execution_count": 96
        }
      ]
    },
    {
      "cell_type": "markdown",
      "source": [
        "파이썬의 함수는 2개 이상의 값을 반환할 수 있음. 튜플을 리턴하는 것.\n"
      ],
      "metadata": {
        "id": "mqpKcipzGbdC"
      }
    },
    {
      "cell_type": "code",
      "source": [
        "def plus_and_minus(x,y):\n",
        "   \"\"\"2개의 숫자 x,y를 전달 받아서, x+y와 x-y를 리턴하는 함수\"\"\"\n",
        "   return x+y, x-y "
      ],
      "metadata": {
        "id": "xS_IMflXGoYp"
      },
      "execution_count": 97,
      "outputs": []
    },
    {
      "cell_type": "code",
      "source": [
        "plus_and_minus(1,2)"
      ],
      "metadata": {
        "colab": {
          "base_uri": "https://localhost:8080/"
        },
        "id": "GIM-4T-GHBNd",
        "outputId": "e17a0573-d08e-4ab9-cfe3-82f823288b9e"
      },
      "execution_count": 98,
      "outputs": [
        {
          "output_type": "execute_result",
          "data": {
            "text/plain": [
              "(3, -1)"
            ]
          },
          "metadata": {},
          "execution_count": 98
        }
      ]
    },
    {
      "cell_type": "code",
      "source": [
        "plus, minus = plus_and_minus(1,2)\n",
        "print(plus)\n",
        "minus"
      ],
      "metadata": {
        "colab": {
          "base_uri": "https://localhost:8080/"
        },
        "id": "CwATkvw4HMG4",
        "outputId": "528e41a7-d438-4c6b-b4c1-b96b063c4853"
      },
      "execution_count": 99,
      "outputs": [
        {
          "output_type": "stream",
          "name": "stdout",
          "text": [
            "3\n"
          ]
        },
        {
          "output_type": "execute_result",
          "data": {
            "text/plain": [
              "-1"
            ]
          },
          "metadata": {},
          "execution_count": 99
        }
      ]
    },
    {
      "cell_type": "markdown",
      "source": [
        "값을 반환하지 않는 함수."
      ],
      "metadata": {
        "id": "nnBOLf6dHvrL"
      }
    },
    {
      "cell_type": "code",
      "source": [
        "def repeat_message(message, n):\n",
        "    \"\"\"문자열 message와 반복 횟수 n을 전달받아서, 문자열을 n번 출력하는 함수.\"\"\"\n",
        "    for _ in range(n):\n",
        "        print(message)"
      ],
      "metadata": {
        "id": "ua39Qyk-HxwD"
      },
      "execution_count": 100,
      "outputs": []
    },
    {
      "cell_type": "code",
      "source": [
        "result = repeat_message(\"난 최고다\",3)\n",
        "result\n",
        "print(f'result = {result}')"
      ],
      "metadata": {
        "colab": {
          "base_uri": "https://localhost:8080/"
        },
        "id": "MITgK7oGIHIh",
        "outputId": "0901ee8b-8f51-4501-e615-b7cb1dc694cb"
      },
      "execution_count": 101,
      "outputs": [
        {
          "output_type": "stream",
          "name": "stdout",
          "text": [
            "난 최고다\n",
            "난 최고다\n",
            "난 최고다\n",
            "result = None\n"
          ]
        }
      ]
    },
    {
      "cell_type": "markdown",
      "source": [
        "# 함수 작성 연습"
      ],
      "metadata": {
        "id": "s8LDsmsLJdTB"
      }
    },
    {
      "cell_type": "code",
      "source": [
        "import random as r # 난수 생성\n",
        "import math as m # sqrt() 함수"
      ],
      "metadata": {
        "id": "AiOHOrdAMMLi"
      },
      "execution_count": 102,
      "outputs": []
    },
    {
      "cell_type": "markdown",
      "source": [
        "## Ex 1.\n",
        "\n",
        "* 함수 이름 : make_list(start,end,n)\n",
        "* 기능 : start 이상 end 미만의 정수 난수 n개를 갖는 리스트를 반환하는 함수."
      ],
      "metadata": {
        "id": "mZNdg8wvJmES"
      }
    },
    {
      "cell_type": "code",
      "source": [
        "def make_list(start, end ,n):\n",
        "    arr=[r.randrange(start,end) for _ in range(n)]\n",
        "    return arr\n",
        "make_list(0,10,3)"
      ],
      "metadata": {
        "colab": {
          "base_uri": "https://localhost:8080/"
        },
        "id": "vYmjr95nKHXK",
        "outputId": "ffff54bb-2604-4b61-c755-5f02f233be05"
      },
      "execution_count": 103,
      "outputs": [
        {
          "output_type": "execute_result",
          "data": {
            "text/plain": [
              "[9, 6, 8]"
            ]
          },
          "metadata": {},
          "execution_count": 103
        }
      ]
    },
    {
      "cell_type": "markdown",
      "source": [
        "## Ex 2.\n",
        "\n",
        "* 함수 이름 : calc_sum\n",
        "* 기능 : 숫자들의 리스틀르 전달받아서, 리스트의 모든 원소들의 합을 리턴하는 함수."
      ],
      "metadata": {
        "id": "y_NZpKyVKHnJ"
      }
    },
    {
      "cell_type": "code",
      "source": [
        "def calc_sum(arr):\n",
        "    sum=0\n",
        "    for x in arr:\n",
        "        sum+=x\n",
        "    return sum\n",
        "\n",
        "arr = make_list(0,10,3)\n",
        "print(arr)\n",
        "calc_sum(arr)"
      ],
      "metadata": {
        "colab": {
          "base_uri": "https://localhost:8080/"
        },
        "id": "feF1af7hKSz0",
        "outputId": "03e0d8f8-bce2-4a6b-b6d3-4960b99acfb8"
      },
      "execution_count": 104,
      "outputs": [
        {
          "output_type": "stream",
          "name": "stdout",
          "text": [
            "[0, 4, 8]\n"
          ]
        },
        {
          "output_type": "execute_result",
          "data": {
            "text/plain": [
              "12"
            ]
          },
          "metadata": {},
          "execution_count": 104
        }
      ]
    },
    {
      "cell_type": "markdown",
      "source": [
        "## Ex 3.\n",
        "\n",
        "* 함수 이름 : calc_mean\n",
        "* 기능 : 숫자들의 리스트를 전달받아서, 리스트의 원소들의 평균을 리턴하는 함수."
      ],
      "metadata": {
        "id": "hTdOoXgpKThZ"
      }
    },
    {
      "cell_type": "code",
      "source": [
        "def calc_mean(arr):\n",
        "    avg = sum(arr)/len(arr)\n",
        "    return avg\n",
        "\n",
        "arr = make_list(0,10,3)\n",
        "print(arr)\n",
        "calc_mean(arr)"
      ],
      "metadata": {
        "colab": {
          "base_uri": "https://localhost:8080/"
        },
        "id": "Y1DCdE4WKlao",
        "outputId": "6a7fa7c3-bd55-446a-9136-e6fdb107fa62"
      },
      "execution_count": 105,
      "outputs": [
        {
          "output_type": "stream",
          "name": "stdout",
          "text": [
            "[2, 1, 7]\n"
          ]
        },
        {
          "output_type": "execute_result",
          "data": {
            "text/plain": [
              "3.3333333333333335"
            ]
          },
          "metadata": {},
          "execution_count": 105
        }
      ]
    },
    {
      "cell_type": "markdown",
      "source": [
        "## Ex 4.\n",
        "\n",
        "* 함수 이름 : calc_var\n",
        "* 기능 : 숫자들의 리스트를 전달받아서, 리스트의 원소들의 분산 (variance)을 리턴하는 함수.\n",
        "    * 분산 : (값 - 평균)**2 들의 평균"
      ],
      "metadata": {
        "id": "3E2uCzmCKl15"
      }
    },
    {
      "cell_type": "code",
      "source": [
        "def calc_var(arr):\n",
        "    avg = calc_mean(arr)\n",
        "    result = 0\n",
        "    for x in arr:\n",
        "        result += (x-avg)**2\n",
        "    return result/len(arr)\n",
        "\n",
        "arr = make_list(0,10,3)\n",
        "print(arr)\n",
        "calc_var(arr)"
      ],
      "metadata": {
        "colab": {
          "base_uri": "https://localhost:8080/"
        },
        "id": "YWPlu8-JLu-m",
        "outputId": "7e9f3277-af69-4da8-e5d5-8769fd68bb15"
      },
      "execution_count": 106,
      "outputs": [
        {
          "output_type": "stream",
          "name": "stdout",
          "text": [
            "[9, 5, 5]\n"
          ]
        },
        {
          "output_type": "execute_result",
          "data": {
            "text/plain": [
              "3.5555555555555554"
            ]
          },
          "metadata": {},
          "execution_count": 106
        }
      ]
    },
    {
      "cell_type": "markdown",
      "source": [
        "## Ex 5.\n",
        "\n",
        "* 함수 이름 : calc_stddev\n",
        "* 기능 : 숫자들의 리스트를 전달받아서, 리스트의 원소들의 표준편차를 리턴하는 함수.\n",
        "    * 표준 편차 = root(분산)"
      ],
      "metadata": {
        "id": "-VDw6viHLvd6"
      }
    },
    {
      "cell_type": "code",
      "source": [
        "def calc_stddev(arr):\n",
        "    result = calc_var(arr)\n",
        "    return m.sqrt(result)\n",
        "\n",
        "arr = make_list(0,10,3)\n",
        "print(arr)\n",
        "calc_stddev(arr)"
      ],
      "metadata": {
        "colab": {
          "base_uri": "https://localhost:8080/"
        },
        "id": "w5hum03lMutq",
        "outputId": "6f95ad7a-21e5-4079-d929-f8d86aaf4523"
      },
      "execution_count": 107,
      "outputs": [
        {
          "output_type": "stream",
          "name": "stdout",
          "text": [
            "[2, 9, 5]\n"
          ]
        },
        {
          "output_type": "execute_result",
          "data": {
            "text/plain": [
              "2.8674417556808756"
            ]
          },
          "metadata": {},
          "execution_count": 107
        }
      ]
    },
    {
      "cell_type": "markdown",
      "source": [
        "# Ex 6.\n",
        "\n",
        "* 함수 이름 : find_max_and_min\n",
        "* 기능 : 숫자들의 리스트에서 최댓값과 최솟값을 리턴하는 함수."
      ],
      "metadata": {
        "id": "snId1eE2MvHS"
      }
    },
    {
      "cell_type": "code",
      "source": [
        "def find_max_and_min(arr):\n",
        "    arr.sort()\n",
        "    return arr[0],arr[-1]\n",
        "\n",
        "arr = make_list(0,10,3)\n",
        "print(arr)\n",
        "min,max = find_max_and_min(arr)\n",
        "print(f'최솟값 = {min}, 최댓값 = {max}')"
      ],
      "metadata": {
        "colab": {
          "base_uri": "https://localhost:8080/"
        },
        "id": "RgHkYLFFM5zK",
        "outputId": "9458fb2d-1346-43f6-96f2-be38119d837c"
      },
      "execution_count": 108,
      "outputs": [
        {
          "output_type": "stream",
          "name": "stdout",
          "text": [
            "[5, 4, 7]\n",
            "최솟값 = 4, 최댓값 = 7\n"
          ]
        }
      ]
    },
    {
      "cell_type": "markdown",
      "source": [
        "# Default argument (기본 인수)\n",
        "\n",
        "* 함수를 정의할 때 파라미터에 설정한 기본값.\n",
        "* 함수를 호출할 때 default argument가 있는 파라미터에 값을 전달하지 않으면, 기본값이 사용됨.\n",
        "* 함수를 호출할 때 default argument가 있는 파라미터에 값을 전달하면, 기본값은 무시되고 전달한 값을 사용함.\n",
        "* **(주의)** 함수를 정의할 때, default argument가 있는 파라미터들은 default argument가 없는 파라미터들 뒤에 선언해야 함!"
      ],
      "metadata": {
        "id": "OdibjsBFa57J"
      }
    },
    {
      "cell_type": "code",
      "source": [
        "def repeat_message2(msg, n=1):\n",
        "    for _ in range(n):\n",
        "        print(msg)"
      ],
      "metadata": {
        "id": "Q1kdNwPnbnGH"
      },
      "execution_count": 109,
      "outputs": []
    },
    {
      "cell_type": "code",
      "source": [
        "repeat_message2('Hello')"
      ],
      "metadata": {
        "colab": {
          "base_uri": "https://localhost:8080/"
        },
        "id": "81sR73I8cBCa",
        "outputId": "6b2457de-a10c-4f6b-ade1-b46fcb52017d"
      },
      "execution_count": 110,
      "outputs": [
        {
          "output_type": "stream",
          "name": "stdout",
          "text": [
            "Hello\n"
          ]
        }
      ]
    },
    {
      "cell_type": "code",
      "source": [
        "repeat_message2('Hello',3)"
      ],
      "metadata": {
        "colab": {
          "base_uri": "https://localhost:8080/"
        },
        "id": "YnVbs7ZicPCN",
        "outputId": "1ba5301e-1130-4cdb-abd4-d38b89d7f05e"
      },
      "execution_count": 111,
      "outputs": [
        {
          "output_type": "stream",
          "name": "stdout",
          "text": [
            "Hello\n",
            "Hello\n",
            "Hello\n"
          ]
        }
      ]
    },
    {
      "cell_type": "markdown",
      "source": [
        "# argument 전달 방법 :\n",
        "\n",
        "* **positional argument** : 함수 정의에선 선언된 파라미터 순서대로 argument들을 전달 하는 방법.\n",
        "* **keyword argument** : `param = value` 형식으로 argument들을 전달하는 방법.\n",
        "    * keyword argument 방식으로 argument들을 전달할 때는 파라미터 순서를지키지 안항도 됨.\n",
        "* **(주의)** : 함수를 호출할 때 positional 방법과 keyword 방법을 함께 사용하는 경우에는 반드시 positional argument들이 먼저 전달되어야 하고, keyword argument 들은 positional argument들 뒤에 전달되어야 함.\n"
      ],
      "metadata": {
        "id": "Gh3HquNvi-ZZ"
      }
    },
    {
      "cell_type": "code",
      "source": [
        "def minus(x, y):\n",
        "    return x-y"
      ],
      "metadata": {
        "id": "nvx4KAy5kGc0"
      },
      "execution_count": 112,
      "outputs": []
    },
    {
      "cell_type": "code",
      "source": [
        "minus(1,2) # positional argument"
      ],
      "metadata": {
        "colab": {
          "base_uri": "https://localhost:8080/"
        },
        "id": "KyLboLcjkU8b",
        "outputId": "dba5d360-6506-4c20-c641-16fc65ed96ca"
      },
      "execution_count": 113,
      "outputs": [
        {
          "output_type": "execute_result",
          "data": {
            "text/plain": [
              "-1"
            ]
          },
          "metadata": {},
          "execution_count": 113
        }
      ]
    },
    {
      "cell_type": "code",
      "source": [
        "minus(x=1, y=2) # keyword argument"
      ],
      "metadata": {
        "colab": {
          "base_uri": "https://localhost:8080/"
        },
        "id": "1UhkV_t1karT",
        "outputId": "62b35eda-e5e5-4049-dc9f-65e2e6638097"
      },
      "execution_count": 114,
      "outputs": [
        {
          "output_type": "execute_result",
          "data": {
            "text/plain": [
              "-1"
            ]
          },
          "metadata": {},
          "execution_count": 114
        }
      ]
    },
    {
      "cell_type": "code",
      "source": [
        "minus(y=2, x=1) # keyword 방식에서는 파라미터 순서를 지키지 않아도 됨."
      ],
      "metadata": {
        "colab": {
          "base_uri": "https://localhost:8080/"
        },
        "id": "Wb_EnAomkwUx",
        "outputId": "0af4715c-3a63-41fc-8e70-87f23682ec9d"
      },
      "execution_count": 115,
      "outputs": [
        {
          "output_type": "execute_result",
          "data": {
            "text/plain": [
              "-1"
            ]
          },
          "metadata": {},
          "execution_count": 115
        }
      ]
    },
    {
      "cell_type": "code",
      "source": [
        "minus(1,y=2) # positional 방식과 keyword 방식을 함께 사용해도 됨."
      ],
      "metadata": {
        "colab": {
          "base_uri": "https://localhost:8080/"
        },
        "id": "nBjzhhzmlCzq",
        "outputId": "fdbcd3aa-7927-48d4-ee6b-cef4a4476f5a"
      },
      "execution_count": 116,
      "outputs": [
        {
          "output_type": "execute_result",
          "data": {
            "text/plain": [
              "-1"
            ]
          },
          "metadata": {},
          "execution_count": 116
        }
      ]
    },
    {
      "cell_type": "code",
      "source": [
        "# minus(y=2,1) 에러남. 두 방법을 같이 사용할때는 순서를 잘 지켜서 사용해야한다."
      ],
      "metadata": {
        "id": "JeNtQnUzl3NP"
      },
      "execution_count": 117,
      "outputs": []
    },
    {
      "cell_type": "markdown",
      "source": [
        "# 가변길이 인수 (variable - length argument)\n",
        "\n",
        "* 함수를 호출할 때 전달하는 값(argument)의 개수가 임의로 변할 수 있는 것.\n",
        "    * argument를 전달하지 않아도 됨.\n",
        "* 함수를 정의할 때 파라미터 이름 앞에 `*`를 사용하면 가변길이 인수를 전달받을 수 있음.\n",
        "* 함수 내부에서 가변길이 인수는 tuple로 취급해서 코드를 작성.\n",
        "    * 인덱스 사용 가능.\n",
        "    * for-in 구문 사용 가능.\n",
        "* **(주의)**\n",
        "    * 가변길이 인수는 keyword 방식으로 전달할 수 없음!\n",
        "    * 함수에서 가변길이 인수를 갖는 파라미터는 오직 1개만 선언 가능!\n"
      ],
      "metadata": {
        "id": "K55O0xXMmhWZ"
      }
    },
    {
      "cell_type": "code",
      "source": [
        "print('abc')\n",
        "print()\n",
        "print('abc','def')"
      ],
      "metadata": {
        "colab": {
          "base_uri": "https://localhost:8080/"
        },
        "id": "_NEiam-NowQ_",
        "outputId": "7b63b190-45a4-47a4-b47b-31235ff7e01e"
      },
      "execution_count": 118,
      "outputs": [
        {
          "output_type": "stream",
          "name": "stdout",
          "text": [
            "abc\n",
            "\n",
            "abc def\n"
          ]
        }
      ]
    },
    {
      "cell_type": "code",
      "source": [
        "def add_all(*values):\n",
        "    total = 0\n",
        "    for x in values:\n",
        "        total += x\n",
        "    return total"
      ],
      "metadata": {
        "id": "DKe6xiVNpKIT"
      },
      "execution_count": 119,
      "outputs": []
    },
    {
      "cell_type": "code",
      "source": [
        "add_all()"
      ],
      "metadata": {
        "colab": {
          "base_uri": "https://localhost:8080/"
        },
        "id": "ZouLuYePpX4i",
        "outputId": "539093f0-9ddb-47c4-9982-92894365c495"
      },
      "execution_count": 120,
      "outputs": [
        {
          "output_type": "execute_result",
          "data": {
            "text/plain": [
              "0"
            ]
          },
          "metadata": {},
          "execution_count": 120
        }
      ]
    },
    {
      "cell_type": "code",
      "source": [
        "add_all(1,2,3)"
      ],
      "metadata": {
        "colab": {
          "base_uri": "https://localhost:8080/"
        },
        "id": "C_Dz_YHYpY_P",
        "outputId": "7e3128aa-438c-46ee-cdf4-a099ece63ed3"
      },
      "execution_count": 121,
      "outputs": [
        {
          "output_type": "execute_result",
          "data": {
            "text/plain": [
              "6"
            ]
          },
          "metadata": {},
          "execution_count": 121
        }
      ]
    },
    {
      "cell_type": "code",
      "source": [
        "def test(*x,y):\n",
        "    print(x)\n",
        "    print(y)"
      ],
      "metadata": {
        "id": "6BnVO0eLpdMC"
      },
      "execution_count": 122,
      "outputs": []
    },
    {
      "cell_type": "code",
      "source": [
        "test(1,2,y=3)"
      ],
      "metadata": {
        "colab": {
          "base_uri": "https://localhost:8080/"
        },
        "id": "tTdxalHjqshb",
        "outputId": "c506ddf2-29ae-4397-c30b-12fc0b343afc"
      },
      "execution_count": 123,
      "outputs": [
        {
          "output_type": "stream",
          "name": "stdout",
          "text": [
            "(1, 2)\n",
            "3\n"
          ]
        }
      ]
    },
    {
      "cell_type": "markdown",
      "source": [
        "# 가변길이 키워드 인수(variable-length keyword argument)\n",
        "\n",
        "* variable-length arg -  함수를 호출할 때 전달하는 argument 개수 제한이 없음.\n",
        "* keyword arg -  함수를 호출할 때 argument 반드시 `param=value` 형식으로 전달.\n",
        "* 함수를 정의할 파라미터 이름 앞에 `**`를 붙임.\n",
        "* 함수 내부에서는 dict로 취급해서 코드를 작성.\n",
        "* 함수에 가변길이 키워드 인수는 오직 1개만 선언 가능."
      ],
      "metadata": {
        "id": "UUuCEiMNug0O"
      }
    },
    {
      "cell_type": "code",
      "source": [
        "def test2(**kwargs):\n",
        "    print(kwargs)"
      ],
      "metadata": {
        "id": "mJJOnrRDvdl8"
      },
      "execution_count": 124,
      "outputs": []
    },
    {
      "cell_type": "code",
      "source": [
        "test2(x=1,msg='hello',y=123)"
      ],
      "metadata": {
        "colab": {
          "base_uri": "https://localhost:8080/"
        },
        "id": "FxBhPDIMvpn2",
        "outputId": "406f0917-e327-41ac-ffe2-fd7beb5675c2"
      },
      "execution_count": 125,
      "outputs": [
        {
          "output_type": "stream",
          "name": "stdout",
          "text": [
            "{'x': 1, 'msg': 'hello', 'y': 123}\n"
          ]
        }
      ]
    },
    {
      "cell_type": "code",
      "source": [
        "def make_emp(emp_no,emp_name,**kwargs):\n",
        "    emp = {'emp_no' : emp_no, 'emp_name' : emp_name}\n",
        "    for k,v in kwargs.items():\n",
        "        emp[k] = v\n",
        "    return emp"
      ],
      "metadata": {
        "id": "IlJlEy71wKf6"
      },
      "execution_count": 126,
      "outputs": []
    },
    {
      "cell_type": "code",
      "source": [
        "make_emp(1,'변주환')"
      ],
      "metadata": {
        "colab": {
          "base_uri": "https://localhost:8080/"
        },
        "id": "IM01fSZYwn7W",
        "outputId": "77a05f44-3d72-494e-a7dd-53d3b6658463"
      },
      "execution_count": 127,
      "outputs": [
        {
          "output_type": "execute_result",
          "data": {
            "text/plain": [
              "{'emp_no': 1, 'emp_name': '변주환'}"
            ]
          },
          "metadata": {},
          "execution_count": 127
        }
      ]
    },
    {
      "cell_type": "code",
      "source": [
        "make_emp(2,'scott',phone='010-2222-2222', email='test@test.com')"
      ],
      "metadata": {
        "colab": {
          "base_uri": "https://localhost:8080/"
        },
        "id": "EIDriv5Rwwzz",
        "outputId": "33e81b2d-4c9e-43dd-982f-63d999aefc54"
      },
      "execution_count": 131,
      "outputs": [
        {
          "output_type": "execute_result",
          "data": {
            "text/plain": [
              "{'emp_no': 2,\n",
              " 'emp_name': 'scott',\n",
              " 'phone': '010-2222-2222',\n",
              " 'email': 'test@test.com'}"
            ]
          },
          "metadata": {},
          "execution_count": 131
        }
      ]
    },
    {
      "cell_type": "code",
      "source": [
        "def make_emp2(emp_no,emp_name,**kwargs):\n",
        "    emp={'emp_no' : emp_no,'emp_name': emp_name, 'email':None, 'phone' : None}\n",
        "    for k,v in kwargs.items():\n",
        "        if k == 'email' or k == 'phone':\n",
        "            emp[k] = v\n",
        "\n",
        "    return emp"
      ],
      "metadata": {
        "id": "V2Usg1bRx1sN"
      },
      "execution_count": 133,
      "outputs": []
    },
    {
      "cell_type": "code",
      "source": [
        "make_emp2(3, 'tiger' , email='tiger@test.com',tel='010-000-000')"
      ],
      "metadata": {
        "colab": {
          "base_uri": "https://localhost:8080/"
        },
        "id": "TvKdpx3iy5vS",
        "outputId": "22ec1fa3-b698-4ac8-bbe9-817fd6dc32a2"
      },
      "execution_count": 134,
      "outputs": [
        {
          "output_type": "execute_result",
          "data": {
            "text/plain": [
              "{'emp_no': 3, 'emp_name': 'tiger', 'email': 'tiger@test.com', 'phone': None}"
            ]
          },
          "metadata": {},
          "execution_count": 134
        }
      ]
    }
  ]
}