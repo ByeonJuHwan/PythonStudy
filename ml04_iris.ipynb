{
  "nbformat": 4,
  "nbformat_minor": 0,
  "metadata": {
    "colab": {
      "provenance": [],
      "authorship_tag": "ABX9TyMPG2D4E0TC9x7Tri2VbO+q",
      "include_colab_link": true
    },
    "kernelspec": {
      "name": "python3",
      "display_name": "Python 3"
    },
    "language_info": {
      "name": "python"
    }
  },
  "cells": [
    {
      "cell_type": "markdown",
      "metadata": {
        "id": "view-in-github",
        "colab_type": "text"
      },
      "source": [
        "<a href=\"https://colab.research.google.com/github/ByeonJuHwan/PythonStudy/blob/main/ml04_iris.ipynb\" target=\"_parent\"><img src=\"https://colab.research.google.com/assets/colab-badge.svg\" alt=\"Open In Colab\"/></a>"
      ]
    },
    {
      "cell_type": "markdown",
      "source": [
        "# Imports"
      ],
      "metadata": {
        "id": "lIyyqp5a4AgI"
      }
    },
    {
      "cell_type": "code",
      "execution_count": 42,
      "metadata": {
        "id": "sBoh5ryy3418"
      },
      "outputs": [],
      "source": [
        "# 필요한 모듈, 클래스 ,함수 이름들을 import\n",
        "from sklearn import datasets\n",
        "\n",
        "import numpy as np\n",
        "import pandas as pd\n",
        "import matplotlib.pyplot as plt\n",
        "import seaborn as sns\n",
        "\n",
        "from sklearn.neighbors import KNeighborsClassifier\n",
        "from sklearn.preprocessing import StandardScaler, MinMaxScaler\n",
        "from sklearn.metrics import confusion_matrix, classification_report\n",
        "from sklearn.model_selection import train_test_split\n",
        "from sklearn.model_selection import train_test_split  # 훈련/테스트 셋 분리\n",
        "from sklearn.preprocessing import StandardScaler  # 특성 스케일링(표준화)\n",
        "from sklearn.preprocessing import PolynomialFeatures  # 다차항을 추가해주는 변환기\n",
        "from sklearn.pipeline import Pipeline  # 변환기와 예측기를 연결해주는 클래스\n",
        "from sklearn.neighbors import KNeighborsRegressor  # KNN 알고리즘을 사용한 숫자 예측\n",
        "from sklearn.linear_model import LinearRegression  # 선형 회귀를 사용한 숫자 예측\n",
        "from sklearn.metrics import mean_absolute_error, mean_squared_error, r2_score  # 회귀 평가 지표들"
      ]
    },
    {
      "cell_type": "markdown",
      "source": [
        "# 데이터 셋 준비"
      ],
      "metadata": {
        "id": "QVJk701N4XPM"
      }
    },
    {
      "cell_type": "code",
      "source": [
        "iris = datasets.load_iris() #> Bunch 클래스 타입 - Python의 dict와 비슷. "
      ],
      "metadata": {
        "id": "URQQC1n54YHw"
      },
      "execution_count": 7,
      "outputs": []
    },
    {
      "cell_type": "code",
      "source": [
        "type(iris)"
      ],
      "metadata": {
        "colab": {
          "base_uri": "https://localhost:8080/"
        },
        "id": "R2QAyRPk4lve",
        "outputId": "ba2059ba-7ab0-4276-a0b1-6a3ffabac6f7"
      },
      "execution_count": 8,
      "outputs": [
        {
          "output_type": "execute_result",
          "data": {
            "text/plain": [
              "sklearn.utils.Bunch"
            ]
          },
          "metadata": {},
          "execution_count": 8
        }
      ]
    },
    {
      "cell_type": "code",
      "source": [
        "iris.keys()"
      ],
      "metadata": {
        "colab": {
          "base_uri": "https://localhost:8080/"
        },
        "id": "rWoI0frI5EeB",
        "outputId": "a1ef1331-5944-48d6-be22-216177567154"
      },
      "execution_count": 10,
      "outputs": [
        {
          "output_type": "execute_result",
          "data": {
            "text/plain": [
              "dict_keys(['data', 'target', 'frame', 'target_names', 'DESCR', 'feature_names', 'filename', 'data_module'])"
            ]
          },
          "metadata": {},
          "execution_count": 10
        }
      ]
    },
    {
      "cell_type": "code",
      "source": [
        "X = iris['data'] # 특성 배열 (2d -array)\n",
        "y = iris['target'] # 타겟 배열(1d-array)"
      ],
      "metadata": {
        "id": "F48ytqX_5PnT"
      },
      "execution_count": 15,
      "outputs": []
    },
    {
      "cell_type": "code",
      "source": [
        "X[:5]"
      ],
      "metadata": {
        "colab": {
          "base_uri": "https://localhost:8080/"
        },
        "id": "xuy5P0WG5TWa",
        "outputId": "470a575d-0417-4f85-f57c-96c8b155135f"
      },
      "execution_count": 17,
      "outputs": [
        {
          "output_type": "execute_result",
          "data": {
            "text/plain": [
              "array([[5.1, 3.5, 1.4, 0.2],\n",
              "       [4.9, 3. , 1.4, 0.2],\n",
              "       [4.7, 3.2, 1.3, 0.2],\n",
              "       [4.6, 3.1, 1.5, 0.2],\n",
              "       [5. , 3.6, 1.4, 0.2]])"
            ]
          },
          "metadata": {},
          "execution_count": 17
        }
      ]
    },
    {
      "cell_type": "code",
      "source": [
        "iris['feature_names']"
      ],
      "metadata": {
        "colab": {
          "base_uri": "https://localhost:8080/"
        },
        "id": "EeAe834Y6qdF",
        "outputId": "b1ea5b9c-1086-428f-98aa-144ffa39b654"
      },
      "execution_count": 22,
      "outputs": [
        {
          "output_type": "execute_result",
          "data": {
            "text/plain": [
              "['sepal length (cm)',\n",
              " 'sepal width (cm)',\n",
              " 'petal length (cm)',\n",
              " 'petal width (cm)']"
            ]
          },
          "metadata": {},
          "execution_count": 22
        }
      ]
    },
    {
      "cell_type": "code",
      "source": [
        "y[:5]"
      ],
      "metadata": {
        "colab": {
          "base_uri": "https://localhost:8080/"
        },
        "id": "gtqevPvV5aY4",
        "outputId": "0da4e3d5-40c6-412c-c3d9-c84f5d41d2cb"
      },
      "execution_count": 18,
      "outputs": [
        {
          "output_type": "execute_result",
          "data": {
            "text/plain": [
              "array([0, 0, 0, 0, 0])"
            ]
          },
          "metadata": {},
          "execution_count": 18
        }
      ]
    },
    {
      "cell_type": "code",
      "source": [
        "iris['target_names']"
      ],
      "metadata": {
        "colab": {
          "base_uri": "https://localhost:8080/"
        },
        "id": "kvdflPgy6gsD",
        "outputId": "af96ea7e-6500-492b-e618-2d88ca6af755"
      },
      "execution_count": 20,
      "outputs": [
        {
          "output_type": "execute_result",
          "data": {
            "text/plain": [
              "array(['setosa', 'versicolor', 'virginica'], dtype='<U10')"
            ]
          },
          "metadata": {},
          "execution_count": 20
        }
      ]
    },
    {
      "cell_type": "code",
      "source": [
        "X.shape,y.shape"
      ],
      "metadata": {
        "colab": {
          "base_uri": "https://localhost:8080/"
        },
        "id": "A_SI440171IX",
        "outputId": "aefc37e5-4a45-4069-80b3-02f8c2563660"
      },
      "execution_count": 25,
      "outputs": [
        {
          "output_type": "execute_result",
          "data": {
            "text/plain": [
              "((150, 4), (150,))"
            ]
          },
          "metadata": {},
          "execution_count": 25
        }
      ]
    },
    {
      "cell_type": "markdown",
      "source": [
        "# 데이터셋(X, y)을  Train/Test split"
      ],
      "metadata": {
        "id": "lS9oj_5T66tM"
      }
    },
    {
      "cell_type": "code",
      "source": [
        "X_tr, X_te, y_tr, y_te = train_test_split(X, y,\n",
        "                                          test_size=0.3,\n",
        "                                          random_state=105)"
      ],
      "metadata": {
        "id": "CalsKg9h7DcQ"
      },
      "execution_count": 29,
      "outputs": []
    },
    {
      "cell_type": "code",
      "source": [
        "X_tr.shape, X_te.shape, y_tr.shape, y_te.shape"
      ],
      "metadata": {
        "colab": {
          "base_uri": "https://localhost:8080/"
        },
        "id": "EVGFyPHw8Pvz",
        "outputId": "a9af5525-a308-4e53-c65a-03bc2bde06fb"
      },
      "execution_count": 30,
      "outputs": [
        {
          "output_type": "execute_result",
          "data": {
            "text/plain": [
              "((105, 4), (45, 4), (105,), (45,))"
            ]
          },
          "metadata": {},
          "execution_count": 30
        }
      ]
    },
    {
      "cell_type": "markdown",
      "source": [
        "# StabdardScaler - 특성 스케일 변환"
      ],
      "metadata": {
        "id": "VrNIezc87D02"
      }
    },
    {
      "cell_type": "code",
      "source": [
        "std_scaler = StandardScaler()"
      ],
      "metadata": {
        "id": "a71J1DZt7MM5"
      },
      "execution_count": 31,
      "outputs": []
    },
    {
      "cell_type": "code",
      "source": [
        "X_tr_scaled = std_scaler.fit_transform(X_tr)"
      ],
      "metadata": {
        "id": "tsaBx-s79I9X"
      },
      "execution_count": 44,
      "outputs": []
    },
    {
      "cell_type": "code",
      "source": [
        "print(std_scaler.mean_)\n",
        "print(std_scaler.var_)"
      ],
      "metadata": {
        "colab": {
          "base_uri": "https://localhost:8080/"
        },
        "id": "2K_zydH79MCu",
        "outputId": "fa06c656-4ad3-46ab-bb1a-ba14a9759f7b"
      },
      "execution_count": 39,
      "outputs": [
        {
          "output_type": "stream",
          "name": "stdout",
          "text": [
            "[5.78095238 3.06190476 3.64095238 1.13619048]\n",
            "[0.63944671 0.19150113 3.09251338 0.55964263]\n"
          ]
        }
      ]
    },
    {
      "cell_type": "markdown",
      "source": [
        "# KNN 모델 생성, 훈련, 평가\n",
        "\n",
        "* confusion_matrix\n",
        "* classification_report"
      ],
      "metadata": {
        "id": "G_YsezZ97My8"
      }
    },
    {
      "cell_type": "code",
      "source": [
        "knn_clf = KNeighborsClassifier()"
      ],
      "metadata": {
        "id": "fluChCkU7iTE"
      },
      "execution_count": 43,
      "outputs": []
    },
    {
      "cell_type": "code",
      "source": [
        "knn_clf.fit(X_tr_scaled,y_tr)"
      ],
      "metadata": {
        "colab": {
          "base_uri": "https://localhost:8080/"
        },
        "id": "l4FWc6gd99DI",
        "outputId": "e0f53ce7-a3bf-4299-ef09-b60362adf7d9"
      },
      "execution_count": 45,
      "outputs": [
        {
          "output_type": "execute_result",
          "data": {
            "text/plain": [
              "KNeighborsClassifier()"
            ]
          },
          "metadata": {},
          "execution_count": 45
        }
      ]
    },
    {
      "cell_type": "code",
      "source": [
        "knn_clf.score(X_tr_scaled, y_tr) # 정확도"
      ],
      "metadata": {
        "colab": {
          "base_uri": "https://localhost:8080/"
        },
        "id": "eVKIwlI0-MaS",
        "outputId": "032efda3-5f8b-44ab-a651-fff2947a185a"
      },
      "execution_count": 46,
      "outputs": [
        {
          "output_type": "execute_result",
          "data": {
            "text/plain": [
              "0.9428571428571428"
            ]
          },
          "metadata": {},
          "execution_count": 46
        }
      ]
    },
    {
      "cell_type": "code",
      "source": [
        "X_te_scaled = std_scaler.transform(X_te) # 정확도\n",
        "knn_clf.score(X_te_scaled,y_te)"
      ],
      "metadata": {
        "colab": {
          "base_uri": "https://localhost:8080/"
        },
        "id": "ha8zUgDP-WJO",
        "outputId": "a34e73ea-b5a2-48ad-d3c5-b1ea482f84ae"
      },
      "execution_count": 48,
      "outputs": [
        {
          "output_type": "execute_result",
          "data": {
            "text/plain": [
              "0.9777777777777777"
            ]
          },
          "metadata": {},
          "execution_count": 48
        }
      ]
    },
    {
      "cell_type": "code",
      "source": [
        "# confusion_matrix\n",
        "y_tr_pred = knn_clf.predict(X_tr_scaled)\n",
        "confusion_matrix(y_tr,y_tr_pred)"
      ],
      "metadata": {
        "colab": {
          "base_uri": "https://localhost:8080/"
        },
        "id": "5ocUgEQv_Cee",
        "outputId": "2d5ed29b-5480-4669-d5b1-3a415584e56f"
      },
      "execution_count": 49,
      "outputs": [
        {
          "output_type": "execute_result",
          "data": {
            "text/plain": [
              "array([[38,  0,  0],\n",
              "       [ 0, 32,  2],\n",
              "       [ 0,  4, 29]])"
            ]
          },
          "metadata": {},
          "execution_count": 49
        }
      ]
    },
    {
      "cell_type": "code",
      "source": [
        "# classification_report\n",
        "clf_report = classification_report(y_tr,y_tr_pred)\n",
        "print(clf_report)"
      ],
      "metadata": {
        "colab": {
          "base_uri": "https://localhost:8080/"
        },
        "id": "qO7-CE72_Zhf",
        "outputId": "955a0359-6278-4752-fc39-1fadba273231"
      },
      "execution_count": 50,
      "outputs": [
        {
          "output_type": "stream",
          "name": "stdout",
          "text": [
            "              precision    recall  f1-score   support\n",
            "\n",
            "           0       1.00      1.00      1.00        38\n",
            "           1       0.89      0.94      0.91        34\n",
            "           2       0.94      0.88      0.91        33\n",
            "\n",
            "    accuracy                           0.94       105\n",
            "   macro avg       0.94      0.94      0.94       105\n",
            "weighted avg       0.94      0.94      0.94       105\n",
            "\n"
          ]
        }
      ]
    },
    {
      "cell_type": "markdown",
      "source": [
        "# k값 변화에 따른 정확도 변화"
      ],
      "metadata": {
        "id": "fF4cMonC7iuV"
      }
    },
    {
      "cell_type": "code",
      "source": [
        "accuracies = []\n",
        "k_values = np.arange(1,106)\n",
        "for x in k_values:\n",
        "    knn_clf = KNeighborsClassifier(n_neighbors=x)\n",
        "    knn_clf.fit(X_tr_scaled,y_tr)\n",
        "    percent = knn_clf.score(X_tr_scaled,y_tr) # 정확도 \n",
        "    accuracies.append(percent)"
      ],
      "metadata": {
        "id": "1oT9BRSz7mgi"
      },
      "execution_count": 55,
      "outputs": []
    },
    {
      "cell_type": "code",
      "source": [
        "plt.plot(k_values,accuracies,'ro-')\n",
        "plt.grid()\n",
        "plt.xlabel('k')\n",
        "plt.ylabel('accuracy')\n",
        "plt.show()"
      ],
      "metadata": {
        "colab": {
          "base_uri": "https://localhost:8080/",
          "height": 279
        },
        "id": "6f1nmgCB_9oS",
        "outputId": "3974055b-3b35-41a5-f22d-060d055400ce"
      },
      "execution_count": 56,
      "outputs": [
        {
          "output_type": "display_data",
          "data": {
            "text/plain": [
              "<Figure size 432x288 with 1 Axes>"
            ],
            "image/png": "[encoded data removed]"
          },
          "metadata": {
            "needs_background": "light"
          }
        }
      ]
    }
  ]
}