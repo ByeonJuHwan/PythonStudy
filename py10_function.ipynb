{
  "nbformat": 4,
  "nbformat_minor": 0,
  "metadata": {
    "colab": {
      "provenance": [],
      "authorship_tag": "ABX9TyN3LHGzlWN2C/Iw5LCV2/h5",
      "include_colab_link": true
    },
    "kernelspec": {
      "name": "python3",
      "display_name": "Python 3"
    },
    "language_info": {
      "name": "python"
    }
  },
  "cells": [
    {
      "cell_type": "markdown",
      "metadata": {
        "id": "view-in-github",
        "colab_type": "text"
      },
      "source": [
        "<a href=\"https://colab.research.google.com/github/ByeonJuHwan/PythonStudy/blob/main/py10_function.ipynb\" target=\"_parent\"><img src=\"https://colab.research.google.com/assets/colab-badge.svg\" alt=\"Open In Colab\"/></a>"
      ]
    },
    {
      "cell_type": "markdown",
      "source": [
        "# 1급 객체(first-class object)로서의 함수\n",
        "\n",
        "함수는 객체(object)다.\n",
        "\n",
        "* 함수는 변수에 할당할 수 있음.\n",
        "* 함수의 파라미터에 다른 함수를 전달할 수 있음.\n",
        "* 함수의 리턴 값이 함수가 될 수 있음.\n",
        "* 함수 내부에서 다른 함수를 정의할 수 있음."
      ],
      "metadata": {
        "id": "zRIEimnFOgXX"
      }
    },
    {
      "cell_type": "markdown",
      "source": [
        "# 험수를 변수에 할당"
      ],
      "metadata": {
        "id": "XLfoMPMPP4dP"
      }
    },
    {
      "cell_type": "code",
      "execution_count": 167,
      "metadata": {
        "id": "fkiWP4DlOXyF"
      },
      "outputs": [],
      "source": [
        "def twice(x):\n",
        "    return 2*x"
      ]
    },
    {
      "cell_type": "code",
      "source": [
        "result = twice(5) # 함수 twice의 호출 결과 (리턴 값) 을 변수 result에 할당.\n",
        "result"
      ],
      "metadata": {
        "colab": {
          "base_uri": "https://localhost:8080/"
        },
        "id": "WY0OLflIP-hh",
        "outputId": "12cc1433-3670-438f-baa6-52d353999512"
      },
      "execution_count": 168,
      "outputs": [
        {
          "output_type": "execute_result",
          "data": {
            "text/plain": [
              "10"
            ]
          },
          "metadata": {},
          "execution_count": 168
        }
      ]
    },
    {
      "cell_type": "code",
      "source": [
        "double = twice # 함수 twice 객체를 변수 double에 할당.\n",
        "double"
      ],
      "metadata": {
        "colab": {
          "base_uri": "https://localhost:8080/"
        },
        "id": "BZMxS8oQQS8w",
        "outputId": "49638785-0804-474c-a23c-e523326c0c17"
      },
      "execution_count": 169,
      "outputs": [
        {
          "output_type": "execute_result",
          "data": {
            "text/plain": [
              "<function __main__.twice(x)>"
            ]
          },
          "metadata": {},
          "execution_count": 169
        }
      ]
    },
    {
      "cell_type": "code",
      "source": [
        "double(100)"
      ],
      "metadata": {
        "colab": {
          "base_uri": "https://localhost:8080/"
        },
        "id": "2PPJu0JSQdxx",
        "outputId": "cc4a1da2-9df1-4553-9a66-16f989c03420"
      },
      "execution_count": 170,
      "outputs": [
        {
          "output_type": "execute_result",
          "data": {
            "text/plain": [
              "200"
            ]
          },
          "metadata": {},
          "execution_count": 170
        }
      ]
    },
    {
      "cell_type": "markdown",
      "source": [
        "## 파라미터에 함수를 전달"
      ],
      "metadata": {
        "id": "2TqU3ekuQ2mW"
      }
    },
    {
      "cell_type": "code",
      "source": [
        "def calculator(x,y,fn):\n",
        "    \"\"\"\n",
        "    x, y: 숫자 타입(int,float)\n",
        "    fn: 숫자 2개를 argument로 전달받고, 숫자를 리턴하는 함수.\n",
        "    \"\"\"\n",
        "    result = fn(x,y)\n",
        "    return result"
      ],
      "metadata": {
        "id": "7gsoEpfRQ48H"
      },
      "execution_count": 171,
      "outputs": []
    },
    {
      "cell_type": "code",
      "source": [
        "def plus(x,y):\n",
        "    return x+y"
      ],
      "metadata": {
        "id": "gA2a6n5WRg9f"
      },
      "execution_count": 172,
      "outputs": []
    },
    {
      "cell_type": "code",
      "source": [
        "calculator(1,2,plus)"
      ],
      "metadata": {
        "colab": {
          "base_uri": "https://localhost:8080/"
        },
        "id": "mgCLXu7qRoRf",
        "outputId": "7bda8ff9-84a3-42c5-8a19-30c9a7ea0c0e"
      },
      "execution_count": 173,
      "outputs": [
        {
          "output_type": "execute_result",
          "data": {
            "text/plain": [
              "3"
            ]
          },
          "metadata": {},
          "execution_count": 173
        }
      ]
    },
    {
      "cell_type": "markdown",
      "source": [
        "## 내부 함수, 함수 리턴"
      ],
      "metadata": {
        "id": "lQOrY2voSV9P"
      }
    },
    {
      "cell_type": "code",
      "source": [
        "def make_increments(n):\n",
        "    # 내부 함수 (inner function). 지역 함수(local function)\n",
        "    def add_n(x):\n",
        "        # 내부 함수는 외부 함수의 지역 변수들을 사용할 수 있음.\n",
        "        return x+n\n",
        "    return add_n"
      ],
      "metadata": {
        "id": "E2UEPNjOSXzI"
      },
      "execution_count": 174,
      "outputs": []
    },
    {
      "cell_type": "code",
      "source": [
        "increase_by_2 = make_increments(2)"
      ],
      "metadata": {
        "id": "vNp8JpLRTyP6"
      },
      "execution_count": 175,
      "outputs": []
    },
    {
      "cell_type": "code",
      "source": [
        "increase_by_2"
      ],
      "metadata": {
        "colab": {
          "base_uri": "https://localhost:8080/"
        },
        "id": "sj_FT-HrTyLr",
        "outputId": "d563929b-2caa-456a-c070-92b3a9302173"
      },
      "execution_count": 176,
      "outputs": [
        {
          "output_type": "execute_result",
          "data": {
            "text/plain": [
              "<function __main__.make_increments.<locals>.add_n(x)>"
            ]
          },
          "metadata": {},
          "execution_count": 176
        }
      ]
    },
    {
      "cell_type": "code",
      "source": [
        "increase_by_2(100)"
      ],
      "metadata": {
        "colab": {
          "base_uri": "https://localhost:8080/"
        },
        "id": "nYjaNR9qUhKI",
        "outputId": "a1627b2c-6d54-4b07-beac-0c594d3246fd"
      },
      "execution_count": 177,
      "outputs": [
        {
          "output_type": "execute_result",
          "data": {
            "text/plain": [
              "102"
            ]
          },
          "metadata": {},
          "execution_count": 177
        }
      ]
    },
    {
      "cell_type": "code",
      "source": [
        "increase_by_10 = make_increments(100)\n",
        "increase_by_10(10)"
      ],
      "metadata": {
        "colab": {
          "base_uri": "https://localhost:8080/"
        },
        "id": "H79R_UqYUjLC",
        "outputId": "b0b1b16e-3d90-4472-8068-993092fa336e"
      },
      "execution_count": 178,
      "outputs": [
        {
          "output_type": "execute_result",
          "data": {
            "text/plain": [
              "110"
            ]
          },
          "metadata": {},
          "execution_count": 178
        }
      ]
    },
    {
      "cell_type": "markdown",
      "source": [
        "# 람다 표현식(Lambda expression)\n",
        "\n",
        "* 이름이 없는 함수 표기법.\n",
        "* 함수 이름 없이 함수의 파라미터 선언과 반환 값 또는 리턴 식으로만 함수를 정의하는 방법.\n",
        "* 파이썬은 2줄 이상의 문장이 포함된 람다 표현식은 제공하지 않음.\n",
        "\n",
        "```\n",
        "lambda p1,p2,... : expresstion\n",
        "```"
      ],
      "metadata": {
        "id": "TY9vVGqwajAe"
      }
    },
    {
      "cell_type": "code",
      "source": [
        "minus = lambda x, y : x-y"
      ],
      "metadata": {
        "id": "jvs14g1QbTVN"
      },
      "execution_count": 179,
      "outputs": []
    },
    {
      "cell_type": "code",
      "source": [
        "minus"
      ],
      "metadata": {
        "colab": {
          "base_uri": "https://localhost:8080/"
        },
        "id": "IPKMQ_1vbXKW",
        "outputId": "52c72126-ea18-4ab7-b659-4f81f6cee355"
      },
      "execution_count": 180,
      "outputs": [
        {
          "output_type": "execute_result",
          "data": {
            "text/plain": [
              "<function __main__.<lambda>(x, y)>"
            ]
          },
          "metadata": {},
          "execution_count": 180
        }
      ]
    },
    {
      "cell_type": "code",
      "source": [
        "calculator(1,2,lambda x,y: x/y)"
      ],
      "metadata": {
        "colab": {
          "base_uri": "https://localhost:8080/"
        },
        "id": "zZqd9TCeb1S8",
        "outputId": "7f55156c-8a58-41ee-b960-550c53e6a7ab"
      },
      "execution_count": 181,
      "outputs": [
        {
          "output_type": "execute_result",
          "data": {
            "text/plain": [
              "0.5"
            ]
          },
          "metadata": {},
          "execution_count": 181
        }
      ]
    },
    {
      "cell_type": "markdown",
      "source": [
        "calculator 함수에 더 큰 숫자를 리턴하는 람다 표현식을 argument로 전달."
      ],
      "metadata": {
        "id": "eMu4jlgScORu"
      }
    },
    {
      "cell_type": "code",
      "source": [
        "calculator(1,2,lambda x,y: x if x>y else y)"
      ],
      "metadata": {
        "colab": {
          "base_uri": "https://localhost:8080/"
        },
        "id": "hT8-B-UBcZny",
        "outputId": "a051197a-dbcc-4f59-9327-86d98a0cc6fb"
      },
      "execution_count": 182,
      "outputs": [
        {
          "output_type": "execute_result",
          "data": {
            "text/plain": [
              "2"
            ]
          },
          "metadata": {},
          "execution_count": 182
        }
      ]
    },
    {
      "cell_type": "markdown",
      "source": [
        "calculator 함수에 첫번째 argument가 크면 True 그렇지 않으면 False를 리턴하는 람다 표현식을 argument로 전달."
      ],
      "metadata": {
        "id": "h5Q5i36Hcdll"
      }
    },
    {
      "cell_type": "code",
      "source": [
        "calculator(1,2,lambda x,y: x>y)"
      ],
      "metadata": {
        "colab": {
          "base_uri": "https://localhost:8080/"
        },
        "id": "gZN76mRmcm1I",
        "outputId": "bef4ba73-8721-4163-8c2c-fbedeefecd2e"
      },
      "execution_count": 183,
      "outputs": [
        {
          "output_type": "execute_result",
          "data": {
            "text/plain": [
              "False"
            ]
          },
          "metadata": {},
          "execution_count": 183
        }
      ]
    },
    {
      "cell_type": "markdown",
      "source": [
        "## filter 함수"
      ],
      "metadata": {
        "id": "iCtZtop8eBmd"
      }
    },
    {
      "cell_type": "code",
      "source": [
        "def my_filter(iterable,fn):\n",
        "    \"\"\"\n",
        "    리스트 iterable의 원소들 중에서 fn의 결과값이 \n",
        "           True인 원소들로만 이루어진 리스트를 리턴.\n",
        "\n",
        "    iterable : 리스트\n",
        "    fn : argument가 1개이고, 리턴 타입은 bool인 함수.\n",
        "    \"\"\"\n",
        "    result=[]\n",
        "    for i in iterable:\n",
        "        if fn(i):\n",
        "            result.append(i)\n",
        "    return result"
      ],
      "metadata": {
        "id": "IFb94mHSeDEc"
      },
      "execution_count": 184,
      "outputs": []
    },
    {
      "cell_type": "code",
      "source": [
        "a = [123,'124']\n",
        "my_filter(a,lambda x : True if type(x)==int else False)"
      ],
      "metadata": {
        "colab": {
          "base_uri": "https://localhost:8080/"
        },
        "id": "282f-bpCgaE1",
        "outputId": "8c4fb226-94dd-4a02-92f3-e82c0bf78b12"
      },
      "execution_count": 185,
      "outputs": [
        {
          "output_type": "execute_result",
          "data": {
            "text/plain": [
              "[123]"
            ]
          },
          "metadata": {},
          "execution_count": 185
        }
      ]
    },
    {
      "cell_type": "markdown",
      "source": [
        "## map 함수"
      ],
      "metadata": {
        "id": "LAS9IbSTfSrt"
      }
    },
    {
      "cell_type": "code",
      "source": [
        "def my_mapper(iterable,fn):\n",
        "    \"\"\"\n",
        "    리스트 iterable의 원소들을 함수 fn의 리턴 값으로 변환한 리스트를 리턴.\n",
        "\n",
        "    iterable : 리스트.\n",
        "    fn : argument가 1개이고 리턴 값이 있는 값.\n",
        "    \"\"\"\n",
        "    result=[fn(i) for i in iterable]\n",
        "    return result"
      ],
      "metadata": {
        "id": "zu2PzpeUfRbU"
      },
      "execution_count": 186,
      "outputs": []
    },
    {
      "cell_type": "code",
      "source": [
        "a=[123,'124']\n",
        "my_mapper(a,lambda x : True if type(x)==int else False)"
      ],
      "metadata": {
        "colab": {
          "base_uri": "https://localhost:8080/"
        },
        "id": "Zg-7BcpBjxpQ",
        "outputId": "3c258607-7abf-4247-954f-58e29678ce77"
      },
      "execution_count": 187,
      "outputs": [
        {
          "output_type": "execute_result",
          "data": {
            "text/plain": [
              "[True, False]"
            ]
          },
          "metadata": {},
          "execution_count": 187
        }
      ]
    },
    {
      "cell_type": "markdown",
      "source": [
        "python에서 구현된 filter, map"
      ],
      "metadata": {
        "id": "NyKIMPl3sI_1"
      }
    },
    {
      "cell_type": "code",
      "source": [
        "num_list=[1,-1,-2,2]\n",
        "result = filter(lambda x : x>0,num_list)\n",
        "result # 필더링된 결과를 저장하고 있는 객체. 리스트 타입은 아님!"
      ],
      "metadata": {
        "colab": {
          "base_uri": "https://localhost:8080/"
        },
        "id": "dWhEiCuUsLVk",
        "outputId": "70d0157b-c99d-4e81-c9a4-6baa4a39f36b"
      },
      "execution_count": 191,
      "outputs": [
        {
          "output_type": "execute_result",
          "data": {
            "text/plain": [
              "<filter at 0x7fbc2c7e9d90>"
            ]
          },
          "metadata": {},
          "execution_count": 191
        }
      ]
    },
    {
      "cell_type": "code",
      "source": [
        "list(result) # 필더링된 결과를 list타입으로 변환."
      ],
      "metadata": {
        "colab": {
          "base_uri": "https://localhost:8080/"
        },
        "id": "GgPALImqs7rR",
        "outputId": "29c6573a-6a63-48c1-8417-0cd091d67a51"
      },
      "execution_count": 193,
      "outputs": [
        {
          "output_type": "execute_result",
          "data": {
            "text/plain": [
              "[]"
            ]
          },
          "metadata": {},
          "execution_count": 193
        }
      ]
    },
    {
      "cell_type": "code",
      "source": [
        "result = map(lambda x : x>=0,num_list)\n",
        "result"
      ],
      "metadata": {
        "colab": {
          "base_uri": "https://localhost:8080/"
        },
        "id": "BtQyaYIDtZ1L",
        "outputId": "d543bc6c-2b3a-4a7d-9329-63b3f33f1731"
      },
      "execution_count": 196,
      "outputs": [
        {
          "output_type": "execute_result",
          "data": {
            "text/plain": [
              "<map at 0x7fbc238afe50>"
            ]
          },
          "metadata": {},
          "execution_count": 196
        }
      ]
    },
    {
      "cell_type": "code",
      "source": [
        "list(result)"
      ],
      "metadata": {
        "colab": {
          "base_uri": "https://localhost:8080/"
        },
        "id": "VheRtyB3tkuW",
        "outputId": "6b66a598-97a2-42d8-e143-20ea5c04321b"
      },
      "execution_count": 197,
      "outputs": [
        {
          "output_type": "execute_result",
          "data": {
            "text/plain": [
              "[True, False, False, True]"
            ]
          },
          "metadata": {},
          "execution_count": 197
        }
      ]
    }
  ]
}