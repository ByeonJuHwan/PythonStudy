{
  "nbformat": 4,
  "nbformat_minor": 0,
  "metadata": {
    "colab": {
      "provenance": [],
      "authorship_tag": "ABX9TyO6ARU927ZsRTnDiFeHtqvC",
      "include_colab_link": true
    },
    "kernelspec": {
      "name": "python3",
      "display_name": "Python 3"
    },
    "language_info": {
      "name": "python"
    }
  },
  "cells": [
    {
      "cell_type": "markdown",
      "metadata": {
        "id": "view-in-github",
        "colab_type": "text"
      },
      "source": [
        "<a href=\"https://colab.research.google.com/github/ByeonJuHwan/PythonStudy/blob/main/py12_inheritance.ipynb\" target=\"_parent\"><img src=\"https://colab.research.google.com/assets/colab-badge.svg\" alt=\"Open In Colab\"/></a>"
      ]
    },
    {
      "cell_type": "markdown",
      "source": [
        "# 상속(Inheritance)\n",
        "\n",
        "* super class(상위 클래스) , parent class (부모 클래스) , base class(기본 클래스)\n",
        "* sub class(하위 클래스) , chile class(자식 클래스) , derived class(유도 클래스)\n",
        "* 상속 : 상위 틀래스의 속성(데이터)들과 기능(메서드) 들을 하위 클래스에서 재사용하는 것.\n",
        "* 일반적으로 **IS-A** 관계가 성립하는 객체들을 상속을 사용해서 구현함.\n",
        "    * 학생은 사람이다. Student IS A person.\n",
        "        * Person - super class\n",
        "        * Student - sub class\n",
        "* **HAS-A** 관계가 성립하는 객체들은 일반적으로 상속이 아니라 클래스의 속성(멤버 변수)로 구현함.\n",
        "    * 학생은 성적을 가지고 있다. Student Has A score.\n"
      ],
      "metadata": {
        "id": "SDTNrfRhlfkz"
      }
    },
    {
      "cell_type": "markdown",
      "source": [
        "파이썬에서 상속을 구현 :\n",
        "\n",
        "```\n",
        "class SubClass(SuperClass):\n",
        "    구현 코드\n",
        "```"
      ],
      "metadata": {
        "id": "HtOMETKHnIKz"
      }
    },
    {
      "cell_type": "code",
      "execution_count": 30,
      "metadata": {
        "id": "oup9hVwNlV3t"
      },
      "outputs": [],
      "source": [
        "class Person:\n",
        "    def __init__(self, name, age):\n",
        "        self.name = name\n",
        "        self.__age = age # 파이썬 private 만드는법 변수앞에 __ 주기\n",
        "    def hello(self):\n",
        "        print(f'안녕하세요, 저는 {self.name} 입니다.')\n",
        "    def get_age(self):\n",
        "        return self.__age # private 변수는 class 내부에서만 접근 가능."
      ]
    },
    {
      "cell_type": "code",
      "source": [
        "byeon = Person('byeon',10)\n",
        "byeon.hello()"
      ],
      "metadata": {
        "colab": {
          "base_uri": "https://localhost:8080/"
        },
        "id": "UBmA9HQloRWF",
        "outputId": "88d74f8c-4ad6-457b-a44c-9ac2f382288c"
      },
      "execution_count": 31,
      "outputs": [
        {
          "output_type": "stream",
          "name": "stdout",
          "text": [
            "안녕하세요, 저는 byeon 입니다.\n"
          ]
        }
      ]
    },
    {
      "cell_type": "code",
      "source": [
        "byeon.get_age()"
      ],
      "metadata": {
        "colab": {
          "base_uri": "https://localhost:8080/"
        },
        "id": "DaeVDuIUoyGc",
        "outputId": "9ceae79a-6ae9-43ac-ad95-238c05739fc2"
      },
      "execution_count": 32,
      "outputs": [
        {
          "output_type": "execute_result",
          "data": {
            "text/plain": [
              "10"
            ]
          },
          "metadata": {},
          "execution_count": 32
        }
      ]
    },
    {
      "cell_type": "code",
      "source": [
        "class Student(Person):\n",
        "    pass"
      ],
      "metadata": {
        "id": "__Laao21o0IA"
      },
      "execution_count": 33,
      "outputs": []
    },
    {
      "cell_type": "code",
      "source": [
        "student1 = Student('변주환',11)"
      ],
      "metadata": {
        "id": "3dBc2us-qL4i"
      },
      "execution_count": 34,
      "outputs": []
    },
    {
      "cell_type": "code",
      "source": [
        "student1.hello()"
      ],
      "metadata": {
        "colab": {
          "base_uri": "https://localhost:8080/"
        },
        "id": "c3_bGFkSqmV3",
        "outputId": "9b659f68-388a-458f-ea97-4ee51b921e7c"
      },
      "execution_count": 35,
      "outputs": [
        {
          "output_type": "stream",
          "name": "stdout",
          "text": [
            "안녕하세요, 저는 변주환 입니다.\n"
          ]
        }
      ]
    },
    {
      "cell_type": "markdown",
      "source": [
        "# Method Override\n",
        "\n",
        "* 상위 클래스의 메서드를 하위 클래스에서 재정의 하는 것.\n",
        "    * 파이썬 에서는 메서드의 이름만 같으면 (파라미터 타입/개수) 메서드가 재정의됨.\n",
        "        * 파이썬은 같은 이름으로 2개 이상의 메서드(함수)를 가질 수 없음 - overloading은 제공하지 않음.\n",
        "    * 자바에서는 메서드 이름, 파라미터 타입 / 개수 / 순서가 모두 동일한 경우에 메서드가 재정의됨.\n",
        "        * 파라미터가 다르면 같은 이름의 메서드가 2개 이상 있을 수 있음 - overloading\n",
        "* 하위 클래스에서 재정의(overrid)된 상위 클래스의 메서드를 명시적으로 호출하기 위해서는 `super().method_name(...)` 의 형식으로 호출함."
      ],
      "metadata": {
        "id": "K0LwYPV2q96b"
      }
    },
    {
      "cell_type": "code",
      "source": [
        "class BusinessPerson(Person):\n",
        "    def __init__(self,name,age,company):\n",
        "        # 상위클래스의 __init__ 메서드를 호출\n",
        "        super().__init__(name,age)\n",
        "        self.company = company # 하위 클래스에서 상위 클래스를 확장한 속성.\n",
        "\n",
        "    # 상위 클래스의 hello() 메서드 overrid\n",
        "    def hello(self):\n",
        "        # 상위 클래스에서 정의된 메서드를 명시적으로 호출\n",
        "        super().hello()\n",
        "        print(f'저는 {self.company} 사원입니다.')"
      ],
      "metadata": {
        "id": "70ak3XSUsbVv"
      },
      "execution_count": 36,
      "outputs": []
    },
    {
      "cell_type": "code",
      "source": [
        "person1 = BusinessPerson('변주환',16,'집')"
      ],
      "metadata": {
        "id": "g35XYxFByJo7"
      },
      "execution_count": 37,
      "outputs": []
    },
    {
      "cell_type": "code",
      "source": [
        "person1.hello()"
      ],
      "metadata": {
        "colab": {
          "base_uri": "https://localhost:8080/"
        },
        "id": "K1SXJBxHyf4X",
        "outputId": "97542e44-88cf-4e24-96bd-610112e9ec30"
      },
      "execution_count": 38,
      "outputs": [
        {
          "output_type": "stream",
          "name": "stdout",
          "text": [
            "안녕하세요, 저는 변주환 입니다.\n",
            "저는 집 사원입니다.\n"
          ]
        }
      ]
    },
    {
      "cell_type": "code",
      "source": [
        "person1.get_age()"
      ],
      "metadata": {
        "colab": {
          "base_uri": "https://localhost:8080/"
        },
        "id": "ldH1BEP8yvbB",
        "outputId": "6cc95ce2-d826-44f2-c737-9c1fc2da8c6f"
      },
      "execution_count": 39,
      "outputs": [
        {
          "output_type": "execute_result",
          "data": {
            "text/plain": [
              "16"
            ]
          },
          "metadata": {},
          "execution_count": 39
        }
      ]
    },
    {
      "cell_type": "markdown",
      "source": [
        "# `isinstance` 메서드"
      ],
      "metadata": {
        "id": "LEJUk43RzP_0"
      }
    },
    {
      "cell_type": "code",
      "source": [
        "isinstance(person1,BusinessPerson)"
      ],
      "metadata": {
        "colab": {
          "base_uri": "https://localhost:8080/"
        },
        "id": "TYgODUchzjps",
        "outputId": "f77029c1-08c2-46b2-c941-3b638660697f"
      },
      "execution_count": 40,
      "outputs": [
        {
          "output_type": "execute_result",
          "data": {
            "text/plain": [
              "True"
            ]
          },
          "metadata": {},
          "execution_count": 40
        }
      ]
    },
    {
      "cell_type": "code",
      "source": [
        "isinstance(person1,Person)"
      ],
      "metadata": {
        "colab": {
          "base_uri": "https://localhost:8080/"
        },
        "id": "iRZOziuxz90D",
        "outputId": "779b38f1-c466-4173-ccf7-4c67c091d591"
      },
      "execution_count": 41,
      "outputs": [
        {
          "output_type": "execute_result",
          "data": {
            "text/plain": [
              "True"
            ]
          },
          "metadata": {},
          "execution_count": 41
        }
      ]
    },
    {
      "cell_type": "code",
      "source": [
        "person2 = Person('빵빵이',20)"
      ],
      "metadata": {
        "id": "HbxKilZq0DEu"
      },
      "execution_count": 42,
      "outputs": []
    },
    {
      "cell_type": "code",
      "source": [
        "isinstance(person2,Person)"
      ],
      "metadata": {
        "colab": {
          "base_uri": "https://localhost:8080/"
        },
        "id": "wEnTnDfJ0H2f",
        "outputId": "1cd00558-4746-47f0-a5f0-6cf8b6edd0f3"
      },
      "execution_count": 43,
      "outputs": [
        {
          "output_type": "execute_result",
          "data": {
            "text/plain": [
              "True"
            ]
          },
          "metadata": {},
          "execution_count": 43
        }
      ]
    },
    {
      "cell_type": "code",
      "source": [
        "isinstance(person2,BusinessPerson)"
      ],
      "metadata": {
        "colab": {
          "base_uri": "https://localhost:8080/"
        },
        "id": "LrqPioH10KyJ",
        "outputId": "0602238c-fb76-4e2e-a848-a049b9b3fbfc"
      },
      "execution_count": 44,
      "outputs": [
        {
          "output_type": "execute_result",
          "data": {
            "text/plain": [
              "False"
            ]
          },
          "metadata": {},
          "execution_count": 44
        }
      ]
    },
    {
      "cell_type": "code",
      "source": [
        "class Animal:\n",
        "    def move(self):\n",
        "        pass\n",
        "\n",
        "class Dog(Animal):\n",
        "    def move(self):\n",
        "        print('댕댕이는 총총총...')\n",
        "\n",
        "class Bird(Animal):\n",
        "    def move(self):\n",
        "        print('새는 쉬쉿...')\n",
        "\n",
        "class Tree:\n",
        "    pass"
      ],
      "metadata": {
        "id": "sQhJWMWT0zA_"
      },
      "execution_count": 45,
      "outputs": []
    },
    {
      "cell_type": "code",
      "source": [
        "array = [Dog(),Bird(),Tree()]\n",
        "for x in array:\n",
        "    if isinstance(x,Animal):\n",
        "        x.move()"
      ],
      "metadata": {
        "colab": {
          "base_uri": "https://localhost:8080/"
        },
        "id": "YnYayh8Y10_q",
        "outputId": "5fd07164-f5b9-4fb7-ee9e-4b3682222133"
      },
      "execution_count": 46,
      "outputs": [
        {
          "output_type": "stream",
          "name": "stdout",
          "text": [
            "댕댕이는 총총총...\n",
            "새는 쉬쉿...\n"
          ]
        }
      ]
    }
  ]
}