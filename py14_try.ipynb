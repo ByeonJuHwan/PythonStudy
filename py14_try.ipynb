{
  "nbformat": 4,
  "nbformat_minor": 0,
  "metadata": {
    "colab": {
      "provenance": [],
      "authorship_tag": "ABX9TyNwEFA1cVpvq00xEfwSmPu4",
      "include_colab_link": true
    },
    "kernelspec": {
      "name": "python3",
      "display_name": "Python 3"
    },
    "language_info": {
      "name": "python"
    }
  },
  "cells": [
    {
      "cell_type": "markdown",
      "metadata": {
        "id": "view-in-github",
        "colab_type": "text"
      },
      "source": [
        "<a href=\"https://colab.research.google.com/github/ByeonJuHwan/PythonStudy/blob/main/py14_try.ipynb\" target=\"_parent\"><img src=\"https://colab.research.google.com/assets/colab-badge.svg\" alt=\"Open In Colab\"/></a>"
      ]
    },
    {
      "cell_type": "markdown",
      "source": [
        "# 오류(Error) 처리구문\n",
        "\n",
        "* 오류가 발생한 위치와 원인을 파악해서 오류가 발생하지 않도록 코드 수정.\n",
        "* 오류가 발생하더라도 프로그램이 비정상적으로 종료되지 않고 계속 실행될 수 있도록 처리 -> try 구문\n",
        "    * Java는 반드시 try-catch 구문을 사용해야만 하는 Exception 종류들이 있음.\n",
        "        * NullPointerException : try-catch가 불필요\n",
        "        * SQLException : try-catch가 반드시 필요\n",
        "    * Puthon은 모든 오류 처리에서 try-except는 필수는 아님."
      ],
      "metadata": {
        "id": "Ft77N2i9aSjo"
      }
    },
    {
      "cell_type": "markdown",
      "source": [
        "```\n",
        "try:\n",
        "    (1) 실행할 코드 블록\n",
        "except [에러 클래스 이름[as 별명]]\n",
        "    (2) 에러가 발생했을 때 실행할 코드 블록\n",
        "[else:\n",
        "    (3) 에러가 발생하지 않았을 때 실행할 코드 블록]\n",
        "[finally:\n",
        "    (4) try 블록을 실행 중에 에러 발생 여부와 상관 없이 항상 실행할 코드 블록.]\n",
        "```\n",
        "\n",
        "* 에러가 발생하지 않는 경우 : (1) - > (3) - > (4)\n",
        "* 에러가 발생하는 경우 : (1) -> (2) -> (4)"
      ],
      "metadata": {
        "id": "QqZwpTCUdEtY"
      }
    },
    {
      "cell_type": "code",
      "execution_count": 4,
      "metadata": {
        "colab": {
          "base_uri": "https://localhost:8080/"
        },
        "id": "CmyDhyxGZ9Tb",
        "outputId": "07960b41-1732-40c1-8bc7-3fb282b806d5"
      },
      "outputs": [
        {
          "output_type": "stream",
          "name": "stdout",
          "text": [
            "정수 입력 >> 10\n",
            "x=10\n"
          ]
        }
      ],
      "source": [
        "try:\n",
        "    x = int(input('정수 입력 >> '))\n",
        "    print(f'x={x}')\n",
        "except: # 모든 종류의 에러를 처리\n",
        "    print('정수로 입력해야 함!!')"
      ]
    },
    {
      "cell_type": "code",
      "source": [
        "try:\n",
        "    x = int(input('정수 입력 >> '))\n",
        "except ValueError as e: # 모든 종류의 에러를 처리\n",
        "    print(e)\n",
        "else:\n",
        "    print(f'x = {x}')\n",
        "finally:\n",
        "    print('===end===')"
      ],
      "metadata": {
        "colab": {
          "base_uri": "https://localhost:8080/"
        },
        "id": "uIDnz7LDf0B6",
        "outputId": "4e15dab8-a34e-43e6-ebb4-845f27918d16"
      },
      "execution_count": 8,
      "outputs": [
        {
          "output_type": "stream",
          "name": "stdout",
          "text": [
            "정수 입력 >> 10\n",
            "x = 10\n",
            "===end===\n"
          ]
        }
      ]
    },
    {
      "cell_type": "markdown",
      "source": [
        "# Ex 1.\n",
        "\n",
        "정수 1개를 입력받고, 입력받은 정수를 출력.\n",
        "\n",
        "정수로 변환할 수 없는 문자열이 입력된 경우에는 적절한 오류 메시지를 출력한 후 다시 입력을 받아야 함."
      ],
      "metadata": {
        "id": "ewQ-n4DNhYNP"
      }
    },
    {
      "cell_type": "code",
      "source": [
        "try:\n",
        "    n = int(input('정수 입력 >> '))\n",
        "except:\n",
        "    print('정수로 입력해야함!!')\n",
        "    n = int(input('정수 입력 >> '))\n",
        "    print(f'n = {n}')\n",
        "else:\n",
        "    print(f'n = {n}')"
      ],
      "metadata": {
        "colab": {
          "base_uri": "https://localhost:8080/"
        },
        "id": "AB_Jp1F9hVxo",
        "outputId": "8b31afe1-be0c-4a1b-f8ba-5f07f80c9e44"
      },
      "execution_count": 11,
      "outputs": [
        {
          "output_type": "stream",
          "name": "stdout",
          "text": [
            "정수 입력 >> 10.0\n",
            "정수로 입력해야함!!\n",
            "정수 입력 >> 10\n",
            "n = 10\n"
          ]
        }
      ]
    },
    {
      "cell_type": "markdown",
      "source": [
        "# Ex 2. 단어 개수 세기\n",
        "\n",
        "리스트 words 가 가지고 있는 단어들을 key로 하고, 그 단어가 리스트에 나오는 횟수를 값으로 하는 dict를 생성.\n",
        "\n"
      ],
      "metadata": {
        "id": "hW7j-kqFhttX"
      }
    },
    {
      "cell_type": "code",
      "source": [
        "words = ['java','python','java','javascript','python','kotlin','html','python']\n",
        "# word_counts = {'java' : 2, 'python' : 3, 'javascript' : 1, 'kotlin' : 1, 'html' : 1}"
      ],
      "metadata": {
        "id": "bZ-tSq9Gh_7x"
      },
      "execution_count": 9,
      "outputs": []
    },
    {
      "cell_type": "code",
      "source": [
        "word_counts={}\n",
        "a = set()\n",
        "count = 0\n",
        "for i in words:\n",
        "    a.add(i)\n",
        "a=list(a)\n",
        "print(a)\n",
        "for x in range(len(a)):\n",
        "    for y in range(len(words)):\n",
        "        if a[x] == words[y]:\n",
        "            count +=1\n",
        "    word_counts[a[x]] = count\n",
        "    count = 0\n",
        "word_counts"
      ],
      "metadata": {
        "colab": {
          "base_uri": "https://localhost:8080/"
        },
        "id": "or5dvSXXii4y",
        "outputId": "272d8558-19f0-4c6a-f9bc-30f0644dd6c9"
      },
      "execution_count": 16,
      "outputs": [
        {
          "output_type": "stream",
          "name": "stdout",
          "text": [
            "['python', 'java', 'html', 'javascript', 'kotlin']\n"
          ]
        },
        {
          "output_type": "execute_result",
          "data": {
            "text/plain": [
              "{'python': 3, 'java': 2, 'html': 1, 'javascript': 1, 'kotlin': 1}"
            ]
          },
          "metadata": {},
          "execution_count": 16
        }
      ]
    }
  ]
}