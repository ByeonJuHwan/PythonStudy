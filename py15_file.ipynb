{
  "nbformat": 4,
  "nbformat_minor": 0,
  "metadata": {
    "colab": {
      "provenance": [],
      "mount_file_id": "1r7gSsxIVhdaMAsO9Jw5JqhWKXIcVpvKC",
      "authorship_tag": "ABX9TyNb+tiF4z6tZDBNP9mSMGqE",
      "include_colab_link": true
    },
    "kernelspec": {
      "name": "python3",
      "display_name": "Python 3"
    },
    "language_info": {
      "name": "python"
    }
  },
  "cells": [
    {
      "cell_type": "markdown",
      "metadata": {
        "id": "view-in-github",
        "colab_type": "text"
      },
      "source": [
        "<a href=\"https://colab.research.google.com/github/ByeonJuHwan/PythonStudy/blob/main/py15_file.ipynb\" target=\"_parent\"><img src=\"https://colab.research.google.com/assets/colab-badge.svg\" alt=\"Open In Colab\"/></a>"
      ]
    },
    {
      "cell_type": "markdown",
      "source": [
        "# 파일 쓰기 (write)"
      ],
      "metadata": {
        "id": "ts_upWTUuDrG"
      }
    },
    {
      "cell_type": "markdown",
      "source": [
        "1. 파일 열기(open)\n",
        "2. 파일 내용 쓰기 (write)\n",
        "3. 파일 닫기(close)\n",
        "\n",
        "```\n",
        "open(file, mode, ...)\n",
        "```\n",
        "* file : 폴더(디렉토리)를 포함한 파일 이름\n",
        "* mode : 파일을 여는 방법(모드).\n",
        "    * r (read) : 읽기. 기본값.\n",
        "    * w (write) : 쓰기. 파일이 없으면 새로운 파일을 생성하고, 파일이 있으면 기존 내용이 모두 삭제되고 파일의 처음부터 다시 쓰기 시작.\n",
        "    * a (append) : 이어쓰기. 기본 내용 이후부터 이어서 쓰기.\n",
        "    * t (text) : 텍스트(읽기/쓰기).\n",
        "    * b (binary) : 이진 데이터 (읽기/쓰기). (예) 이미지, 동영상, ..."
      ],
      "metadata": {
        "id": "hzoFz-7VuOI-"
      }
    },
    {
      "cell_type": "code",
      "execution_count": null,
      "metadata": {
        "id": "r8GZ7omnt_nk"
      },
      "outputs": [],
      "source": [
        "# 1. 파일을 텍트스 쓰기 모드로 열기\n",
        "f = open('test1.txt', mode = 'wt') # mode = 'w'와 동일\n",
        "\n",
        "# 2. 열린 파일에 내용을 작성\n",
        "f.write('Hello, Python! \\n')\n",
        "f.write('안녕하세요...\\n')\n",
        "f.write('1234567890\\n')\n",
        "\n",
        "# 3. 파일 닫기.\n",
        "f.close()"
      ]
    },
    {
      "cell_type": "code",
      "source": [
        "# with ~ as .... 구문 : 오픈된 리소스(파일) 에서 close() 메서드를 자동으로 호출.\n",
        "with open('test2.txt', mode='w') as f:\n",
        "    f.write('안녕하세요...\\n')\n",
        "    f.write('Hello...\\n')"
      ],
      "metadata": {
        "id": "bxGdZyr-2bTm"
      },
      "execution_count": null,
      "outputs": []
    },
    {
      "cell_type": "markdown",
      "source": [
        "# 파일 읽기"
      ],
      "metadata": {
        "id": "ZWnZk2qX3FMZ"
      }
    },
    {
      "cell_type": "code",
      "source": [
        "with open('test1.txt', mode = 'rt') as f:\n",
        "    # mode = 'rt' 가 기본값이기 때문에 생략 가능.\n",
        "    line = f.readline()\n",
        "    print(line.strip())\n",
        "    line = f.readline()\n",
        "    print(line)\n"
      ],
      "metadata": {
        "colab": {
          "base_uri": "https://localhost:8080/"
        },
        "id": "iyk_haSS3I-J",
        "outputId": "5cbfd8ae-edaa-4aec-d2e8-96884868685d"
      },
      "execution_count": null,
      "outputs": [
        {
          "output_type": "stream",
          "name": "stdout",
          "text": [
            "Hello, Python!\n",
            "안녕하세요...\n",
            "\n"
          ]
        }
      ]
    },
    {
      "cell_type": "code",
      "source": [
        "with open('test1.txt') as f:\n",
        "    for line in f: # 파일의 처음부터 끝까지 readline()을 자동으로 해줌\n",
        "        print(line.strip())"
      ],
      "metadata": {
        "colab": {
          "base_uri": "https://localhost:8080/"
        },
        "id": "Dd_R8oOF4vyX",
        "outputId": "e5131862-d9ea-4723-f455-597a47787ebc"
      },
      "execution_count": null,
      "outputs": [
        {
          "output_type": "stream",
          "name": "stdout",
          "text": [
            "Hello, Python!\n",
            "안녕하세요...\n",
            "1234567890\n"
          ]
        }
      ]
    },
    {
      "cell_type": "markdown",
      "source": [
        "* 지금까지 과정은 google colab에서 임대한 가상 머신의 하드디스크에서 파일을 읽고 쓰는 기능을 수행한 것.\n",
        "* google colab과 연결이 끊어진 후 재연결(가상 머신 재할당)을 하면, 가상 머신의 리소스(RAM, HDD, CPU,...) 가 초기화됨."
      ],
      "metadata": {
        "id": "vLNmELx15jM3"
      }
    },
    {
      "cell_type": "markdown",
      "source": [
        "# Colab 가성 머신에서 구글 드라이브 연결(Mount)"
      ],
      "metadata": {
        "id": "LXVFpPFV6kmf"
      }
    },
    {
      "cell_type": "code",
      "source": [
        "dir_path = '/content/drive/MyDrive/Colab Notebooks/lab-python'\n",
        "file_name = 'emails.txt'"
      ],
      "metadata": {
        "id": "frvroNh96oYu"
      },
      "execution_count": 6,
      "outputs": []
    },
    {
      "cell_type": "code",
      "source": [
        "import os # os 모듈을 import - os.path.join() 함수를 사용하기 위해서"
      ],
      "metadata": {
        "id": "5NKw2VxM77cE"
      },
      "execution_count": 7,
      "outputs": []
    },
    {
      "cell_type": "code",
      "source": [
        "# os.path.join() : 폴더 경로 + 파일 구분자 + 파일 이름\n",
        "file_path = os.path.join(dir_path, file_name)\n",
        "file_path"
      ],
      "metadata": {
        "colab": {
          "base_uri": "https://localhost:8080/",
          "height": 35
        },
        "id": "zJX_kJdQ8DpN",
        "outputId": "953b5a57-ebd5-4392-b709-e2db6e056ff9"
      },
      "execution_count": 10,
      "outputs": [
        {
          "output_type": "execute_result",
          "data": {
            "text/plain": [
              "'/content/drive/MyDrive/Colab Notebooks/lab-python/emails.txt'"
            ],
            "application/vnd.google.colaboratory.intrinsic+json": {
              "type": "string"
            }
          },
          "metadata": {},
          "execution_count": 10
        }
      ]
    },
    {
      "cell_type": "code",
      "source": [
        "with open(file_path, mode=\"wt\") as f:\n",
        "    f.write('admin@test1.co.\\n')\n",
        "    f.write('admin@test2.co.\\n')\n",
        "    f.write('admin@test3.co.\\n')"
      ],
      "metadata": {
        "id": "b2oEQNk680TF"
      },
      "execution_count": 11,
      "outputs": []
    }
  ]
}