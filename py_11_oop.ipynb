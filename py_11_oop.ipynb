{
  "nbformat": 4,
  "nbformat_minor": 0,
  "metadata": {
    "colab": {
      "provenance": [],
      "authorship_tag": "ABX9TyOaknJ2fniEdp0d5sSOs2xB",
      "include_colab_link": true
    },
    "kernelspec": {
      "name": "python3",
      "display_name": "Python 3"
    },
    "language_info": {
      "name": "python"
    }
  },
  "cells": [
    {
      "cell_type": "markdown",
      "metadata": {
        "id": "view-in-github",
        "colab_type": "text"
      },
      "source": [
        "<a href=\"https://colab.research.google.com/github/ByeonJuHwan/PythonStudy/blob/main/py_11_oop.ipynb\" target=\"_parent\"><img src=\"https://colab.research.google.com/assets/colab-badge.svg\" alt=\"Open In Colab\"/></a>"
      ]
    },
    {
      "cell_type": "markdown",
      "source": [
        "# OOP(Objet_Oriented Programming, 객체 지향 프로그래밍)"
      ],
      "metadata": {
        "id": "sOeboyX7Csmy"
      }
    },
    {
      "cell_type": "markdown",
      "source": [
        "## list, dict 데이터 타입 사용 프로그래밍"
      ],
      "metadata": {
        "id": "zb52WIWmDtty"
      }
    },
    {
      "cell_type": "code",
      "execution_count": 897,
      "metadata": {
        "id": "7Tz-USkxCaXk"
      },
      "outputs": [],
      "source": [
        "students = [\n",
        "    {'name':'aaa', 'java':100, 'python':100, 'javascript':70},\n",
        "    {'name':'bbb', 'java':90, 'python':90, 'javascript':90},\n",
        "    {'name':'ccc', 'java':70, 'python':70, 'javascript':70}\n",
        "]"
      ]
    },
    {
      "cell_type": "code",
      "source": [
        "# 각 학생의 3과목 총점과 평균 출력\n",
        "for s in students:\n",
        "    total = s['java'] + s['python'] + s['javascript']\n",
        "    mean = total/3\n",
        "    print(f\"이름 : {s['name']}, 총점 : {total}, 평균 : {mean}\")"
      ],
      "metadata": {
        "colab": {
          "base_uri": "https://localhost:8080/"
        },
        "id": "05lY_XwDEXAH",
        "outputId": "c6a1473b-49e9-4914-b156-05e2154a6b92"
      },
      "execution_count": 898,
      "outputs": [
        {
          "output_type": "stream",
          "name": "stdout",
          "text": [
            "이름 : aaa, 총점 : 270, 평균 : 90.0\n",
            "이름 : bbb, 총점 : 270, 평균 : 90.0\n",
            "이름 : ccc, 총점 : 210, 평균 : 70.0\n"
          ]
        }
      ]
    },
    {
      "cell_type": "markdown",
      "source": [
        "# 함수형 프로그래밍(Function programming)"
      ],
      "metadata": {
        "id": "bEuxK-m0GodB"
      }
    },
    {
      "cell_type": "code",
      "source": [
        "def create_student(name,java,python,javascript):\n",
        "    student={\n",
        "        'name':name,\n",
        "        'java':java,\n",
        "        'python':python,\n",
        "        'javascript':javascript\n",
        "    }\n",
        "    return student"
      ],
      "metadata": {
        "id": "a30k5phnGn2m"
      },
      "execution_count": 899,
      "outputs": []
    },
    {
      "cell_type": "code",
      "source": [
        "students = [\n",
        "    create_student('김길동',100,90,90),\n",
        "    create_student('변길동',80,90,90),\n",
        "    create_student('주길동',50,50,90)\n",
        "]"
      ],
      "metadata": {
        "id": "RprH3SHyHcKX"
      },
      "execution_count": 900,
      "outputs": []
    },
    {
      "cell_type": "code",
      "source": [
        "def get_total(student):\n",
        "    return student['java'] + student['python'] + student['javascript']"
      ],
      "metadata": {
        "id": "Abv9FKtaHeMx"
      },
      "execution_count": 901,
      "outputs": []
    },
    {
      "cell_type": "code",
      "source": [
        "def get_mean(student):\n",
        "    return get_total(student)/3"
      ],
      "metadata": {
        "id": "XuCppf4VILKe"
      },
      "execution_count": 902,
      "outputs": []
    },
    {
      "cell_type": "code",
      "source": [
        "for s in students:\n",
        "    name = s['name']\n",
        "    total = get_total(s)\n",
        "    mean = get_total(s)\n",
        "    print(f'이름 : {name}, 총점 : {total}, 평균 : {mean}')"
      ],
      "metadata": {
        "colab": {
          "base_uri": "https://localhost:8080/"
        },
        "id": "N0YI1x-tIUEw",
        "outputId": "0fae849c-2516-4af5-f2f2-b96f990fd8d5"
      },
      "execution_count": 903,
      "outputs": [
        {
          "output_type": "stream",
          "name": "stdout",
          "text": [
            "이름 : 김길동, 총점 : 280, 평균 : 280\n",
            "이름 : 변길동, 총점 : 260, 평균 : 260\n",
            "이름 : 주길동, 총점 : 190, 평균 : 190\n"
          ]
        }
      ]
    },
    {
      "cell_type": "markdown",
      "source": [
        "## 객체 지향 프로그래밍(OOP)"
      ],
      "metadata": {
        "id": "Ixw9MOa_JnqZ"
      }
    },
    {
      "cell_type": "code",
      "source": [
        "class Student:\n",
        "    # 생성자 함수 : 생성자를 호출하면 파이썬 인터프리터에 의해서 자동으로 호출되는 메서드.\n",
        "    def __init__(self, name, java, python, javascript):\n",
        "        self.name = name\n",
        "        self.java = java\n",
        "        self.python = python\n",
        "        self.javascript = javascript\n",
        "\n",
        "    def get_total(self):\n",
        "        return self.java + self.python + self.javascript\n",
        "\n",
        "    def get_mean(self):\n",
        "        return self.get_total()/3\n",
        "\n",
        "    def print_info(self):\n",
        "        print(f'이름 : {self.name}, 총점 : {self.get_total()}, 평균 : {self.get_mean()}')"
      ],
      "metadata": {
        "id": "1M1TaXHHJq8E"
      },
      "execution_count": 904,
      "outputs": []
    },
    {
      "cell_type": "code",
      "source": [
        "student1 = Student('홍길동',100,100,100)"
      ],
      "metadata": {
        "id": "P7Fr_KbjKjgF"
      },
      "execution_count": 905,
      "outputs": []
    },
    {
      "cell_type": "code",
      "source": [
        "student1.print_info() "
      ],
      "metadata": {
        "colab": {
          "base_uri": "https://localhost:8080/"
        },
        "id": "nVmjCRhNK0al",
        "outputId": "c57330c8-6521-4930-8df3-55bec1a84bb1"
      },
      "execution_count": 906,
      "outputs": [
        {
          "output_type": "stream",
          "name": "stdout",
          "text": [
            "이름 : 홍길동, 총점 : 300, 평균 : 100.0\n"
          ]
        }
      ]
    },
    {
      "cell_type": "markdown",
      "source": [
        "# 클래스 작성 연습"
      ],
      "metadata": {
        "id": "5lclY9TkUSCE"
      }
    },
    {
      "cell_type": "code",
      "source": [
        "import math # sqrt() 함수 사용하기 위해서"
      ],
      "metadata": {
        "id": "9U8-JBXaUTr9"
      },
      "execution_count": 907,
      "outputs": []
    },
    {
      "cell_type": "markdown",
      "source": [
        "* 2차원 평면의 점의 좌표 (x,y)를 표현하는 클래스.\n",
        "* 메서드 : \n",
        "    * 점의 좌표를 원래 위치에서 dx, dy만큼 이동시키는 메서드.\n",
        "    * 두 점 간의 거리를 리턴하는 메서드."
      ],
      "metadata": {
        "id": "fh01iNhPUZSI"
      }
    },
    {
      "cell_type": "code",
      "source": [
        "from typing_extensions import Self\n",
        "class Dott:\n",
        "    def __init__(self,x=0,y=0):\n",
        "        self.x = x\n",
        "        self.y = y\n",
        "    def __str__(self):\n",
        "        return f'Dott(x={self.x},y={self.y})'\n",
        "    def move_xy(self,dx,dy):\n",
        "        self.x += dx\n",
        "        self.y += dy\n",
        "        return Self\n",
        "    def get_distence(self,x2,y2):  # 거리 = distance ^^\n",
        "        return math.sqrt((self.x-x2)**2+(self.y-y2)**2)"
      ],
      "metadata": {
        "id": "g9lnbjolUW2c"
      },
      "execution_count": 908,
      "outputs": []
    },
    {
      "cell_type": "code",
      "source": [
        "dott = Dott(3,3)\n",
        "print(dott)"
      ],
      "metadata": {
        "colab": {
          "base_uri": "https://localhost:8080/"
        },
        "id": "703myJ0YWDqJ",
        "outputId": "67ba7f73-63ed-4b9b-90b0-bf86b87a009c"
      },
      "execution_count": 909,
      "outputs": [
        {
          "output_type": "stream",
          "name": "stdout",
          "text": [
            "Dott(x=3,y=3)\n"
          ]
        }
      ]
    },
    {
      "cell_type": "code",
      "source": [
        "dott1 = Dott(1) # Positional argumet\n",
        "print(dott1)"
      ],
      "metadata": {
        "colab": {
          "base_uri": "https://localhost:8080/"
        },
        "id": "cC8MSCqhhnL4",
        "outputId": "21090f03-2bea-42fe-c5bb-ee3a53837647"
      },
      "execution_count": 910,
      "outputs": [
        {
          "output_type": "stream",
          "name": "stdout",
          "text": [
            "Dott(x=1,y=0)\n"
          ]
        }
      ]
    },
    {
      "cell_type": "code",
      "source": [
        "dott2 = Dott(y=1) # keyword\n",
        "print(dott2)"
      ],
      "metadata": {
        "colab": {
          "base_uri": "https://localhost:8080/"
        },
        "id": "2ZrDshm_hrHA",
        "outputId": "66d9dbd8-f5c1-4938-ef7d-f19e1a9d1668"
      },
      "execution_count": 911,
      "outputs": [
        {
          "output_type": "stream",
          "name": "stdout",
          "text": [
            "Dott(x=0,y=1)\n"
          ]
        }
      ]
    },
    {
      "cell_type": "code",
      "source": [
        "dott.move_xy(3,3)\n",
        "print(f'{dott.x}, {dott.y}') # 인스턴스의 속성(필드)"
      ],
      "metadata": {
        "colab": {
          "base_uri": "https://localhost:8080/"
        },
        "id": "RZMtDjTpWKuD",
        "outputId": "b898d694-9a44-499b-886a-88fd7942a42c"
      },
      "execution_count": 912,
      "outputs": [
        {
          "output_type": "stream",
          "name": "stdout",
          "text": [
            "6, 6\n"
          ]
        }
      ]
    },
    {
      "cell_type": "code",
      "source": [
        "dott.get_distence(3,3)"
      ],
      "metadata": {
        "colab": {
          "base_uri": "https://localhost:8080/"
        },
        "id": "-mXM8nbgWOLY",
        "outputId": "f2f886f6-411e-478e-91ed-f2a8662c7d23"
      },
      "execution_count": 913,
      "outputs": [
        {
          "output_type": "execute_result",
          "data": {
            "text/plain": [
              "4.242640687119285"
            ]
          },
          "metadata": {},
          "execution_count": 913
        }
      ]
    },
    {
      "cell_type": "markdown",
      "source": [
        "# magic method\n",
        "\n",
        "모든 클래스가 같은 이름으로 가지고 있는 메서드. 특별한 경우에 자동으로 호출되는 메서드.\n",
        "\n",
        "* `__init__(self)` : 생성자를 호출하면 자동으로 호출되는 메서드. 인스턴스 변수 선언 & 초기화.\n",
        "\n",
        "* `__str__(self)` : 문자열을 리턴하는 메서드. `print()` 함수 안에서 자동으로 호출됨.\n",
        "\n",
        "* `__repr__(self)` : 문자열을 리턴하는 메서드. 식(expression)을 출력할 때 자동으로 호출되는 메서드.\n",
        "    * 클래스에서 `__str__` 메서드와 `__repr__` 메서드를 다르게 구현하면, print() 함수로 출력하는 내용과 식을 자동으로 출력하는 내용이 서로 다름.\n",
        "    * print() 함수는 `__str__` 메서드가 구현되어 있으면 `__str__` 메서드를 호출하고, `__str__` 메서드가 구현되어 있지 않으면 `__repr__` 메서드를 호출함.\n",
        "* `__eq__(self,o)` : 두 객체가 같은지 (True) 다른지 (False)를 리턴하느 메서드. `==` 연산자를 사용했을 때 자동으로 호출되는 메서드.\n",
        "* `__add_(self,o)` : `+` 연산자를 사용했을 때 자동으로 호출되는 메서드.\n",
        "* `__mul__(self,o)` : `*` 연산자를 사용했을 때 자동으로 호출되는 메서드."
      ],
      "metadata": {
        "id": "Vw9YbAGFig_B"
      }
    },
    {
      "cell_type": "code",
      "source": [
        "class T:\n",
        "    def __str__(self):\n",
        "        return 'class T instance'\n",
        "    def __repr__(self):\n",
        "        return 'T'\n",
        "\n",
        "t = T()\n",
        "print(t) # print 함수를 사요한 출력\n",
        "t # 셀의 가장 마지막 줄에 있는 표현식의 자동 출력"
      ],
      "metadata": {
        "colab": {
          "base_uri": "https://localhost:8080/"
        },
        "id": "GaXthylojkpe",
        "outputId": "645d0517-cc2e-4d6b-94ba-f8a15f8a0d1c"
      },
      "execution_count": 914,
      "outputs": [
        {
          "output_type": "stream",
          "name": "stdout",
          "text": [
            "class T instance\n"
          ]
        },
        {
          "output_type": "execute_result",
          "data": {
            "text/plain": [
              "T"
            ]
          },
          "metadata": {},
          "execution_count": 914
        }
      ]
    },
    {
      "cell_type": "code",
      "source": [
        "list1=[1,2,3]\n",
        "list2=[1,2,3]"
      ],
      "metadata": {
        "id": "lkTN5Xl8uh9-"
      },
      "execution_count": 915,
      "outputs": []
    },
    {
      "cell_type": "code",
      "source": [
        "list1 == list2 # list1.__eq__(list2)"
      ],
      "metadata": {
        "colab": {
          "base_uri": "https://localhost:8080/"
        },
        "id": "DoaZj-SCul9G",
        "outputId": "5965e2eb-559a-4520-a8c4-8e2d94a221eb"
      },
      "execution_count": 916,
      "outputs": [
        {
          "output_type": "execute_result",
          "data": {
            "text/plain": [
              "True"
            ]
          },
          "metadata": {},
          "execution_count": 916
        }
      ]
    },
    {
      "cell_type": "code",
      "source": [
        "list1 + list2 # list1.__add__(list2)"
      ],
      "metadata": {
        "colab": {
          "base_uri": "https://localhost:8080/"
        },
        "id": "fQVmgV8iuqXU",
        "outputId": "ac10dca8-dc5f-4a6b-d5fe-c772f25c5569"
      },
      "execution_count": 917,
      "outputs": [
        {
          "output_type": "execute_result",
          "data": {
            "text/plain": [
              "[1, 2, 3, 1, 2, 3]"
            ]
          },
          "metadata": {},
          "execution_count": 917
        }
      ]
    },
    {
      "cell_type": "code",
      "source": [
        "list1 * 3 # list1.__mul__(list2)"
      ],
      "metadata": {
        "colab": {
          "base_uri": "https://localhost:8080/"
        },
        "id": "-evcoM_7ur6u",
        "outputId": "b1bd487d-6fcc-4f38-c637-0211a0db9e43"
      },
      "execution_count": 918,
      "outputs": [
        {
          "output_type": "execute_result",
          "data": {
            "text/plain": [
              "[1, 2, 3, 1, 2, 3, 1, 2, 3]"
            ]
          },
          "metadata": {},
          "execution_count": 918
        }
      ]
    },
    {
      "cell_type": "code",
      "source": [
        "class Number:\n",
        "    def __init__(self, x):\n",
        "        self.x = x\n",
        "    def __repr__(self):\n",
        "        return f'{self.x}'\n",
        "    def __eq__(self,other):\n",
        "        return self.x==other.x\n",
        "    def __add__(self,other):\n",
        "        return self.x + other.x"
      ],
      "metadata": {
        "id": "Zx_08MCavBte"
      },
      "execution_count": 919,
      "outputs": []
    },
    {
      "cell_type": "code",
      "source": [
        "n1 = Number(1)\n",
        "n2 = Number(2)\n",
        "n3 = Number(1)"
      ],
      "metadata": {
        "id": "Hke3PpG0vaYg"
      },
      "execution_count": 920,
      "outputs": []
    },
    {
      "cell_type": "code",
      "source": [
        "print(n1,n2,n3)"
      ],
      "metadata": {
        "colab": {
          "base_uri": "https://localhost:8080/"
        },
        "id": "D-NS6bP1vrJW",
        "outputId": "d90a0a84-901b-4a3a-ee56-d89af89f1b25"
      },
      "execution_count": 921,
      "outputs": [
        {
          "output_type": "stream",
          "name": "stdout",
          "text": [
            "1 2 1\n"
          ]
        }
      ]
    },
    {
      "cell_type": "code",
      "source": [
        "print(n1==n2)\n",
        "print(n1==n3)"
      ],
      "metadata": {
        "colab": {
          "base_uri": "https://localhost:8080/"
        },
        "id": "ICYId92HwdOa",
        "outputId": "f18a9f6e-7fb8-4c3c-df2b-689c49628e97"
      },
      "execution_count": 922,
      "outputs": [
        {
          "output_type": "stream",
          "name": "stdout",
          "text": [
            "False\n",
            "True\n"
          ]
        }
      ]
    },
    {
      "cell_type": "code",
      "source": [
        "n1+n2"
      ],
      "metadata": {
        "colab": {
          "base_uri": "https://localhost:8080/"
        },
        "id": "xW_fKdMAxDgR",
        "outputId": "c1a8b9ff-c2a7-4d00-b3ec-b73ff07b31f5"
      },
      "execution_count": 923,
      "outputs": [
        {
          "output_type": "execute_result",
          "data": {
            "text/plain": [
              "3"
            ]
          },
          "metadata": {},
          "execution_count": 923
        }
      ]
    },
    {
      "cell_type": "markdown",
      "source": [
        "# 클래스 작성 연습"
      ],
      "metadata": {
        "id": "awCJebJUyoww"
      }
    },
    {
      "cell_type": "markdown",
      "source": [
        "* class Score\n",
        "    * 속성 : korean, english, math\n",
        "    * 메서드 : 총점, 평균, `__repr__`,`__eq__`\n",
        "\n",
        "* class Student\n",
        "    * 속성 : stu_no, stu_name, score(Score 객체타입)\n",
        "    * 메서드 : `__repr__`\n"
      ],
      "metadata": {
        "id": "kmFJBAyXytSI"
      }
    },
    {
      "cell_type": "code",
      "source": [
        "class Score:\n",
        "    def __init__(self, korean,english,math):\n",
        "        self.korean = korean\n",
        "        self.english = english\n",
        "        self.math = math\n",
        "    def __eq__(self,o):\n",
        "        return self.korean == o.korean\n",
        "    def add_All(self):\n",
        "        return self.korean + self.english + self.math\n",
        "    def ave(self):\n",
        "        return self.add_All()/3\n",
        "    def __repr__(self):\n",
        "        return f\"국어 = {self.korean}, 영어 = {self.english}, 수학 = {self.math}, 총점 = {self.add_All()}, 평균 = {self.ave()}\" \n"
      ],
      "metadata": {
        "id": "w8oYmAVryq57"
      },
      "execution_count": 924,
      "outputs": []
    },
    {
      "cell_type": "code",
      "source": [
        "class Student:\n",
        "    def __init__(self, stu_no,stu_name,Score):\n",
        "        self.stu_no = stu_no\n",
        "        self.stu_name = stu_name\n",
        "        self.Score = Score\n",
        "    def __repr__(self):\n",
        "        return f\"학생 번호 : {self.stu_no}, 학생 이름 : {self.stu_name}, 점수 : {self.Score}\" "
      ],
      "metadata": {
        "id": "6bYPuYqF0X8z"
      },
      "execution_count": 925,
      "outputs": []
    },
    {
      "cell_type": "code",
      "source": [
        "score1 = Score(100,100,100)\n",
        "score2 = Score(100,90,90)\n",
        "score3 = Score(70,70,70)"
      ],
      "metadata": {
        "id": "rA2pOFp61dQR"
      },
      "execution_count": 926,
      "outputs": []
    },
    {
      "cell_type": "code",
      "source": [
        "student1 = Student(1,'변주환',score1)\n",
        "student2 = Student(2,'채수빈',score2)"
      ],
      "metadata": {
        "id": "bdASayFp1TQE"
      },
      "execution_count": 927,
      "outputs": []
    },
    {
      "cell_type": "code",
      "source": [
        "print(score1 == score2)\n",
        "score1 == score3"
      ],
      "metadata": {
        "colab": {
          "base_uri": "https://localhost:8080/"
        },
        "id": "vTIaLy9o3_kQ",
        "outputId": "62a8fb99-89ed-4eee-a1ed-48449fbd88f3"
      },
      "execution_count": 928,
      "outputs": [
        {
          "output_type": "stream",
          "name": "stdout",
          "text": [
            "True\n"
          ]
        },
        {
          "output_type": "execute_result",
          "data": {
            "text/plain": [
              "False"
            ]
          },
          "metadata": {},
          "execution_count": 928
        }
      ]
    },
    {
      "cell_type": "code",
      "source": [
        "print(score1)\n",
        "print(score2)\n",
        "score3"
      ],
      "metadata": {
        "colab": {
          "base_uri": "https://localhost:8080/"
        },
        "id": "vMEY_ALw4Mov",
        "outputId": "b2208587-436b-4258-98db-67ca96086b2e"
      },
      "execution_count": 929,
      "outputs": [
        {
          "output_type": "stream",
          "name": "stdout",
          "text": [
            "국어 = 100, 영어 = 100, 수학 = 100, 총점 = 300, 평균 = 100.0\n",
            "국어 = 100, 영어 = 90, 수학 = 90, 총점 = 280, 평균 = 93.33333333333333\n"
          ]
        },
        {
          "output_type": "execute_result",
          "data": {
            "text/plain": [
              "국어 = 70, 영어 = 70, 수학 = 70, 총점 = 210, 평균 = 70.0"
            ]
          },
          "metadata": {},
          "execution_count": 929
        }
      ]
    },
    {
      "cell_type": "code",
      "source": [
        "print(student1)\n",
        "student2"
      ],
      "metadata": {
        "colab": {
          "base_uri": "https://localhost:8080/"
        },
        "id": "qN0Vet6y5I03",
        "outputId": "21304f82-cab1-4da2-985e-c6d12d67f659"
      },
      "execution_count": 930,
      "outputs": [
        {
          "output_type": "stream",
          "name": "stdout",
          "text": [
            "학생 번호 : 1, 학생 이름 : 변주환, 점수 : 국어 = 100, 영어 = 100, 수학 = 100, 총점 = 300, 평균 = 100.0\n"
          ]
        },
        {
          "output_type": "execute_result",
          "data": {
            "text/plain": [
              "학생 번호 : 2, 학생 이름 : 채수빈, 점수 : 국어 = 100, 영어 = 90, 수학 = 90, 총점 = 280, 평균 = 93.33333333333333"
            ]
          },
          "metadata": {},
          "execution_count": 930
        }
      ]
    }
  ]
}