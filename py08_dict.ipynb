{
  "nbformat": 4,
  "nbformat_minor": 0,
  "metadata": {
    "colab": {
      "provenance": [],
      "authorship_tag": "ABX9TyMwiQoEnQg/UnLYFHi78h3Z",
      "include_colab_link": true
    },
    "kernelspec": {
      "name": "python3",
      "display_name": "Python 3"
    },
    "language_info": {
      "name": "python"
    }
  },
  "cells": [
    {
      "cell_type": "markdown",
      "metadata": {
        "id": "view-in-github",
        "colab_type": "text"
      },
      "source": [
        "<a href=\"https://colab.research.google.com/github/ByeonJuHwan/PythonStudy/blob/main/py08_dict.ipynb\" target=\"_parent\"><img src=\"https://colab.research.google.com/assets/colab-badge.svg\" alt=\"Open In Colab\"/></a>"
      ]
    },
    {
      "cell_type": "markdown",
      "source": [
        "# dict\n",
        "\n",
        "* dictionary(사전) 형식의 데이터 타입.\n",
        "* 키(key)를 기바능로 값(value)를 저장하는 데이터 타입.\n",
        "    * list, tuple : 인덱스(index)를 기반으로 값을 저장하는 데이터 타입.\n",
        "    * dict에서 키(key)의 역할은 리스트나 튜플에서 인덱스와 비슷한 역할 : dict의 원소 1개를 참조하기 위한 용도."
      ],
      "metadata": {
        "id": "2Gpp6Idpi2hI"
      }
    },
    {
      "cell_type": "code",
      "execution_count": 1,
      "metadata": {
        "colab": {
          "base_uri": "https://localhost:8080/"
        },
        "id": "7M0l0AW2ixqm",
        "outputId": "525a61a4-da6e-4773-edeb-0cec536e0405"
      },
      "outputs": [
        {
          "output_type": "execute_result",
          "data": {
            "text/plain": [
              "{1: '홍길동', 2: '김범구', 3: '변주환'}"
            ]
          },
          "metadata": {},
          "execution_count": 1
        }
      ],
      "source": [
        "students = {1:'홍길동',2:'김범구', 3:'변주환'}\n",
        "students"
      ]
    },
    {
      "cell_type": "markdown",
      "source": [
        "dict에서 키를 사용하는 방법은 리스트나 튜플과 마찬가지로 인덱스 연산자(`[]`)를 사용."
      ],
      "metadata": {
        "id": "K0ahcLU3kiNI"
      }
    },
    {
      "cell_type": "code",
      "source": [
        "students[1]"
      ],
      "metadata": {
        "colab": {
          "base_uri": "https://localhost:8080/",
          "height": 35
        },
        "id": "nzxz-wUFkKFs",
        "outputId": "99542406-d478-4788-8dc3-17e3ef71b8b7"
      },
      "execution_count": 3,
      "outputs": [
        {
          "output_type": "execute_result",
          "data": {
            "text/plain": [
              "'홍길동'"
            ],
            "application/vnd.google.colaboratory.intrinsic+json": {
              "type": "string"
            }
          },
          "metadata": {},
          "execution_count": 3
        }
      ]
    },
    {
      "cell_type": "code",
      "source": [
        "students[10]='변' # 원소 추가 : dict[new_key] = new_value\n",
        "students"
      ],
      "metadata": {
        "colab": {
          "base_uri": "https://localhost:8080/"
        },
        "id": "bOjZ7pAqk5TW",
        "outputId": "5fbc2598-a0fd-422f-901d-82d8e38113d3"
      },
      "execution_count": 5,
      "outputs": [
        {
          "output_type": "execute_result",
          "data": {
            "text/plain": [
              "{1: '홍길동', 2: '김범구', 3: '변주환', 10: '변'}"
            ]
          },
          "metadata": {},
          "execution_count": 5
        }
      ]
    },
    {
      "cell_type": "code",
      "source": [
        "students[2] = '메시' # 원소 병경 : dict[old_key] = new_value\n",
        "students"
      ],
      "metadata": {
        "colab": {
          "base_uri": "https://localhost:8080/"
        },
        "id": "oh2Ai4dJlYhU",
        "outputId": "0e089632-c8dd-4ebc-9698-c5960e2071a9"
      },
      "execution_count": 7,
      "outputs": [
        {
          "output_type": "execute_result",
          "data": {
            "text/plain": [
              "{1: '홍길동', 2: '메시', 3: '변주환', 10: '변'}"
            ]
          },
          "metadata": {},
          "execution_count": 7
        }
      ]
    },
    {
      "cell_type": "code",
      "source": [
        "students.pop(3) # 원소 삭제 : dict.pop(key)\n",
        "students"
      ],
      "metadata": {
        "colab": {
          "base_uri": "https://localhost:8080/"
        },
        "id": "IJG-ExlPlzxI",
        "outputId": "69c3b5e4-8003-4c5d-da44-b1b9008a7ba7"
      },
      "execution_count": 8,
      "outputs": [
        {
          "output_type": "execute_result",
          "data": {
            "text/plain": [
              "{1: '홍길동', 2: '메시', 10: '변'}"
            ]
          },
          "metadata": {},
          "execution_count": 8
        }
      ]
    },
    {
      "cell_type": "markdown",
      "source": [
        "dict에서 key와 value는 다양한 타입의 자료들을 사용할 수 있음."
      ],
      "metadata": {
        "id": "qsNVRnqN2rIb"
      }
    },
    {
      "cell_type": "code",
      "source": [
        "contact = {\n",
        "    'no':1,\n",
        "    'name':'변주환',\n",
        "    'phone':['010-000-000','02-000-000'],\n",
        "    'email' : {'company':'byeon@test.com','personal':'byeon@test2.com'}\n",
        "}\n",
        "contact"
      ],
      "metadata": {
        "colab": {
          "base_uri": "https://localhost:8080/"
        },
        "id": "8YAzGnC62v70",
        "outputId": "21f1d405-77c0-4301-85cb-5cd1a6cb365e"
      },
      "execution_count": 10,
      "outputs": [
        {
          "output_type": "execute_result",
          "data": {
            "text/plain": [
              "{'no': 1,\n",
              " 'name': '변주환',\n",
              " 'phone': ['010-000-000', '02-000-000'],\n",
              " 'email': {'company': 'byeon@test.com', 'personal': 'byeon@test2.com'}}"
            ]
          },
          "metadata": {},
          "execution_count": 10
        }
      ]
    },
    {
      "cell_type": "code",
      "source": [
        "contact['no']"
      ],
      "metadata": {
        "colab": {
          "base_uri": "https://localhost:8080/"
        },
        "id": "DfMoAqAY3p0S",
        "outputId": "c41436fb-93c0-41ef-f85a-3265de952547"
      },
      "execution_count": 12,
      "outputs": [
        {
          "output_type": "execute_result",
          "data": {
            "text/plain": [
              "1"
            ]
          },
          "metadata": {},
          "execution_count": 12
        }
      ]
    },
    {
      "cell_type": "code",
      "source": [
        "contact['phone'][0]"
      ],
      "metadata": {
        "colab": {
          "base_uri": "https://localhost:8080/",
          "height": 35
        },
        "id": "uLph7Ppw3taR",
        "outputId": "b1f91284-3ce4-4790-d22c-bc6266d2a5af"
      },
      "execution_count": 15,
      "outputs": [
        {
          "output_type": "execute_result",
          "data": {
            "text/plain": [
              "'010-000-000'"
            ],
            "application/vnd.google.colaboratory.intrinsic+json": {
              "type": "string"
            }
          },
          "metadata": {},
          "execution_count": 15
        }
      ]
    },
    {
      "cell_type": "code",
      "source": [
        "contact['email']['company']"
      ],
      "metadata": {
        "colab": {
          "base_uri": "https://localhost:8080/",
          "height": 35
        },
        "id": "0b7J7SR94AYc",
        "outputId": "6b8be9bb-be8e-405c-ca3c-97e37a330ea6"
      },
      "execution_count": 19,
      "outputs": [
        {
          "output_type": "execute_result",
          "data": {
            "text/plain": [
              "'byeon@test.com'"
            ],
            "application/vnd.google.colaboratory.intrinsic+json": {
              "type": "string"
            }
          },
          "metadata": {},
          "execution_count": 19
        }
      ]
    },
    {
      "cell_type": "markdown",
      "source": [
        "# dict와 for 반복문\n",
        "\n",
        "for -in 구문에서 dict 타입 객체를 사용하면 key에 대해서 반복(iterate)함."
      ],
      "metadata": {
        "id": "hrHxuzdC4UfT"
      }
    },
    {
      "cell_type": "code",
      "source": [
        "for k in contact:\n",
        "    print(k)"
      ],
      "metadata": {
        "colab": {
          "base_uri": "https://localhost:8080/"
        },
        "id": "ukQbrFL14S1l",
        "outputId": "654fdada-0e14-4393-d45a-6ad884047d73"
      },
      "execution_count": 21,
      "outputs": [
        {
          "output_type": "stream",
          "name": "stdout",
          "text": [
            "no\n",
            "name\n",
            "phone\n",
            "email\n"
          ]
        }
      ]
    },
    {
      "cell_type": "code",
      "source": [
        "for k in contact:\n",
        "    print(k,contact[k], sep=' : ')"
      ],
      "metadata": {
        "colab": {
          "base_uri": "https://localhost:8080/"
        },
        "id": "fFUBPEa34mKS",
        "outputId": "8d13121f-97d7-4ffe-b887-88150476bc6e"
      },
      "execution_count": 24,
      "outputs": [
        {
          "output_type": "stream",
          "name": "stdout",
          "text": [
            "no : 1\n",
            "name : 변주환\n",
            "phone : ['010-000-000', '02-000-000']\n",
            "email : {'company': 'byeon@test.com', 'personal': 'byeon@test2.com'}\n"
          ]
        }
      ]
    },
    {
      "cell_type": "code",
      "source": [
        "contact.items() # (key, value) 튜플들의 리스트"
      ],
      "metadata": {
        "colab": {
          "base_uri": "https://localhost:8080/"
        },
        "id": "4emeUoLI4_ui",
        "outputId": "53085a46-d7ee-4168-a479-e60e2c151606"
      },
      "execution_count": 26,
      "outputs": [
        {
          "output_type": "execute_result",
          "data": {
            "text/plain": [
              "dict_items([('no', 1), ('name', '변주환'), ('phone', ['010-000-000', '02-000-000']), ('email', {'company': 'byeon@test.com', 'personal': 'byeon@test2.com'})])"
            ]
          },
          "metadata": {},
          "execution_count": 26
        }
      ]
    },
    {
      "cell_type": "code",
      "source": [
        "for k, v in contact.items():\n",
        "    print(k,v,sep=' : ')"
      ],
      "metadata": {
        "colab": {
          "base_uri": "https://localhost:8080/"
        },
        "id": "v9O3krWq5frG",
        "outputId": "66837f72-4023-4fdb-b71a-04b2d5e2f672"
      },
      "execution_count": 28,
      "outputs": [
        {
          "output_type": "stream",
          "name": "stdout",
          "text": [
            "no : 1\n",
            "name : 변주환\n",
            "phone : ['010-000-000', '02-000-000']\n",
            "email : {'company': 'byeon@test.com', 'personal': 'byeon@test2.com'}\n"
          ]
        }
      ]
    },
    {
      "cell_type": "markdown",
      "source": [
        "# Dictionary Comprehension"
      ],
      "metadata": {
        "id": "qMHI9XKa54BL"
      }
    },
    {
      "cell_type": "code",
      "source": [
        "emp_no = [1000,1001,2000,2001]\n",
        "emp_name = ['King','Scott','Allen','Tiger']\n",
        "\n",
        "emp={} # emp_no를 키로하고, emp_name을 값으로 하는 dict\n",
        "for k, v in zip(emp_no,emp_name):\n",
        "    emp[k]=v\n",
        "emp"
      ],
      "metadata": {
        "colab": {
          "base_uri": "https://localhost:8080/"
        },
        "id": "GtvvvIIZ53eZ",
        "outputId": "c114000d-0a9c-47e6-85a4-fddcda42e220"
      },
      "execution_count": 31,
      "outputs": [
        {
          "output_type": "execute_result",
          "data": {
            "text/plain": [
              "{1000: 'King', 1001: 'Scott', 2000: 'Allen', 2001: 'Tiger'}"
            ]
          },
          "metadata": {},
          "execution_count": 31
        }
      ]
    },
    {
      "cell_type": "code",
      "source": [
        "emp2 = {k:v for k,v in zip(emp_no,emp_name)}\n",
        "emp2"
      ],
      "metadata": {
        "colab": {
          "base_uri": "https://localhost:8080/"
        },
        "id": "zFeG1Aw-7_6D",
        "outputId": "93f9d351-f92a-49ec-b622-7ff23b19b9ad"
      },
      "execution_count": 33,
      "outputs": [
        {
          "output_type": "execute_result",
          "data": {
            "text/plain": [
              "{1000: 'King', 1001: 'Scott', 2000: 'Allen', 2001: 'Tiger'}"
            ]
          },
          "metadata": {},
          "execution_count": 33
        }
      ]
    },
    {
      "cell_type": "code",
      "source": [
        "messages = ['Marry, Christmas!','Happy New Year!','새해복 많이 받으세요.']\n",
        "\n",
        "# messages의 문자열을 키로 하고, 그 문자열의 길이를 값으로 하는 dict\n",
        "message_lengths={}\n",
        "for i in messages:\n",
        "    message_lengths[i]=len(i)\n",
        "message_lengths"
      ],
      "metadata": {
        "colab": {
          "base_uri": "https://localhost:8080/"
        },
        "id": "zvG1V1Ic8SRL",
        "outputId": "c4f2995b-b344-4317-8eb0-c85bbfa63e43"
      },
      "execution_count": 37,
      "outputs": [
        {
          "output_type": "execute_result",
          "data": {
            "text/plain": [
              "{'Marry, Christmas!': 17, 'Happy New Year!': 15, '새해복 많이 받으세요.': 12}"
            ]
          },
          "metadata": {},
          "execution_count": 37
        }
      ]
    },
    {
      "cell_type": "code",
      "source": [
        "{m:len(m) for m in messages}"
      ],
      "metadata": {
        "colab": {
          "base_uri": "https://localhost:8080/"
        },
        "id": "EZNySgjA-OKC",
        "outputId": "225a8960-cdbf-41f4-83ee-cde747bafb1e"
      },
      "execution_count": 38,
      "outputs": [
        {
          "output_type": "execute_result",
          "data": {
            "text/plain": [
              "{'Marry, Christmas!': 17, 'Happy New Year!': 15, '새해복 많이 받으세요.': 12}"
            ]
          },
          "metadata": {},
          "execution_count": 38
        }
      ]
    }
  ]
}