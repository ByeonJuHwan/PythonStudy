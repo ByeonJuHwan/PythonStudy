{
  "nbformat": 4,
  "nbformat_minor": 0,
  "metadata": {
    "colab": {
      "provenance": [],
      "authorship_tag": "ABX9TyPUySrM53gY5q8wxe36BSo5",
      "include_colab_link": true
    },
    "kernelspec": {
      "name": "python3",
      "display_name": "Python 3"
    },
    "language_info": {
      "name": "python"
    }
  },
  "cells": [
    {
      "cell_type": "markdown",
      "metadata": {
        "id": "view-in-github",
        "colab_type": "text"
      },
      "source": [
        "<a href=\"https://colab.research.google.com/github/ByeonJuHwan/PythonStudy/blob/main/ml01_numpy.ipynb\" target=\"_parent\"><img src=\"https://colab.research.google.com/assets/colab-badge.svg\" alt=\"Open In Colab\"/></a>"
      ]
    },
    {
      "cell_type": "code",
      "execution_count": 1,
      "metadata": {
        "id": "5laH3skdPCXx"
      },
      "outputs": [],
      "source": [
        "import numpy as np\n",
        "import pandas as pd\n",
        "import matplotlib.pyplot as plt\n",
        "import seaborn as sns"
      ]
    },
    {
      "cell_type": "markdown",
      "source": [
        "# `np.ndarray` 속성들"
      ],
      "metadata": {
        "id": "b_w7LFAkPSQX"
      }
    },
    {
      "cell_type": "code",
      "source": [
        "arr = np.ones(shape=(2,3)) # 모든 원소가 1.0인 (2,3) 모양의 배열을 생성.\n",
        "arr1 = np.ones(shape=3)"
      ],
      "metadata": {
        "id": "bf99FjuiPRp6"
      },
      "execution_count": 8,
      "outputs": []
    },
    {
      "cell_type": "code",
      "source": [
        "print(arr) \n",
        "print(arr1)"
      ],
      "metadata": {
        "colab": {
          "base_uri": "https://localhost:8080/"
        },
        "id": "ZD9Ten7EPnuu",
        "outputId": "c63b718d-4c67-4ba5-ee78-1d65eccceb47"
      },
      "execution_count": 9,
      "outputs": [
        {
          "output_type": "stream",
          "name": "stdout",
          "text": [
            "[[1. 1. 1.]\n",
            " [1. 1. 1.]]\n",
            "[1. 1. 1.]\n"
          ]
        }
      ]
    },
    {
      "cell_type": "code",
      "source": [
        "arr.dtype # 배열 원소의 데이터 타입"
      ],
      "metadata": {
        "colab": {
          "base_uri": "https://localhost:8080/"
        },
        "id": "--CtLcIeQDCT",
        "outputId": "c5fdb1db-5820-4813-9411-baafe43d0082"
      },
      "execution_count": 11,
      "outputs": [
        {
          "output_type": "execute_result",
          "data": {
            "text/plain": [
              "dtype('float64')"
            ]
          },
          "metadata": {},
          "execution_count": 11
        }
      ]
    },
    {
      "cell_type": "code",
      "source": [
        "arr.shape # 배열의 모양: 배열의 각 축(axis)을 따라서 있는 원소의 개수"
      ],
      "metadata": {
        "colab": {
          "base_uri": "https://localhost:8080/"
        },
        "id": "8dfBkOTOQSXv",
        "outputId": "1a0a0c55-b01b-461b-c8f9-1390d6ddf19d"
      },
      "execution_count": 12,
      "outputs": [
        {
          "output_type": "execute_result",
          "data": {
            "text/plain": [
              "(2, 3)"
            ]
          },
          "metadata": {},
          "execution_count": 12
        }
      ]
    },
    {
      "cell_type": "code",
      "source": [
        "arr1.shape"
      ],
      "metadata": {
        "colab": {
          "base_uri": "https://localhost:8080/"
        },
        "id": "zALbGJcKQYJe",
        "outputId": "84b009ef-e773-4289-c437-ab72113dbb99"
      },
      "execution_count": 14,
      "outputs": [
        {
          "output_type": "execute_result",
          "data": {
            "text/plain": [
              "(3,)"
            ]
          },
          "metadata": {},
          "execution_count": 14
        }
      ]
    },
    {
      "cell_type": "code",
      "source": [
        "arr.ndim # 배열의 차원 (dimension) : 배열에서 축의 개수"
      ],
      "metadata": {
        "colab": {
          "base_uri": "https://localhost:8080/"
        },
        "id": "RnamQMFfQzZW",
        "outputId": "e3c61b0a-2d8d-4e9e-a079-bdf63f4a9101"
      },
      "execution_count": 16,
      "outputs": [
        {
          "output_type": "execute_result",
          "data": {
            "text/plain": [
              "2"
            ]
          },
          "metadata": {},
          "execution_count": 16
        }
      ]
    },
    {
      "cell_type": "code",
      "source": [
        "arr1.ndim"
      ],
      "metadata": {
        "colab": {
          "base_uri": "https://localhost:8080/"
        },
        "id": "YSOMIUYERMjC",
        "outputId": "bcbefbbc-3c68-4584-f648-c644c5e4acd8"
      },
      "execution_count": 18,
      "outputs": [
        {
          "output_type": "execute_result",
          "data": {
            "text/plain": [
              "1"
            ]
          },
          "metadata": {},
          "execution_count": 18
        }
      ]
    },
    {
      "cell_type": "code",
      "source": [
        "arr.size # 크기 : 배열의 원소 전체 개수"
      ],
      "metadata": {
        "colab": {
          "base_uri": "https://localhost:8080/"
        },
        "id": "QEqeMQWKRP73",
        "outputId": "e262abbc-cb2a-4dff-ec60-00a5acf51cf9"
      },
      "execution_count": 20,
      "outputs": [
        {
          "output_type": "execute_result",
          "data": {
            "text/plain": [
              "6"
            ]
          },
          "metadata": {},
          "execution_count": 20
        }
      ]
    },
    {
      "cell_type": "code",
      "source": [
        "arr = np.arange(10)\n",
        "print(arr)\n",
        "print('dtype:', arr.dtype)\n",
        "print('shape:', arr.shape)\n",
        "print('ndim:', arr.ndim)\n",
        "print('size:', arr.size)"
      ],
      "metadata": {
        "colab": {
          "base_uri": "https://localhost:8080/"
        },
        "id": "ZQe_0QqZRYN0",
        "outputId": "47b7b36f-724c-48d1-975e-bf0a83245693"
      },
      "execution_count": 24,
      "outputs": [
        {
          "output_type": "stream",
          "name": "stdout",
          "text": [
            "[0 1 2 3 4 5 6 7 8 9]\n",
            "dtype: int64\n",
            "shape: (10,)\n",
            "ndim: 1\n",
            "size: 10\n"
          ]
        }
      ]
    },
    {
      "cell_type": "markdown",
      "source": [
        "# indexing\n",
        "\n",
        "* python list : `list[i]. list[i][j], list[i][j][k], ...`\n",
        "* numpy ndarray\n",
        "    * arr[i], arr[i][j], arr[i][j][k]\n",
        "    * arr[i], arr[i,j], arr[i,j,k]"
      ],
      "metadata": {
        "id": "b6oBcy1UR-qe"
      }
    },
    {
      "cell_type": "code",
      "source": [
        "arr = np.arange(1,13).reshape((3,4))\n",
        "print(arr)"
      ],
      "metadata": {
        "colab": {
          "base_uri": "https://localhost:8080/"
        },
        "id": "81ZwvKgOSAim",
        "outputId": "34d38f0a-43b0-4cdf-d0e7-6b5d8de86bf7"
      },
      "execution_count": 27,
      "outputs": [
        {
          "output_type": "stream",
          "name": "stdout",
          "text": [
            "[[ 1  2  3  4]\n",
            " [ 5  6  7  8]\n",
            " [ 9 10 11 12]]\n"
          ]
        }
      ]
    },
    {
      "cell_type": "code",
      "source": [
        "arr[0]"
      ],
      "metadata": {
        "colab": {
          "base_uri": "https://localhost:8080/"
        },
        "id": "EIDMxSYKSy0A",
        "outputId": "2eb5e403-b436-493b-efd5-9b35d455d3c4"
      },
      "execution_count": 29,
      "outputs": [
        {
          "output_type": "execute_result",
          "data": {
            "text/plain": [
              "array([1, 2, 3, 4])"
            ]
          },
          "metadata": {},
          "execution_count": 29
        }
      ]
    },
    {
      "cell_type": "code",
      "source": [
        "arr[0,0]"
      ],
      "metadata": {
        "colab": {
          "base_uri": "https://localhost:8080/"
        },
        "id": "He1IxNG1S0T6",
        "outputId": "b3080ff5-065f-48d8-cfb0-8090786b108b"
      },
      "execution_count": 31,
      "outputs": [
        {
          "output_type": "execute_result",
          "data": {
            "text/plain": [
              "1"
            ]
          },
          "metadata": {},
          "execution_count": 31
        }
      ]
    },
    {
      "cell_type": "code",
      "source": [
        "arr[0][0]"
      ],
      "metadata": {
        "colab": {
          "base_uri": "https://localhost:8080/"
        },
        "id": "Dy-ckIKiS2Ia",
        "outputId": "e59f4d1a-0b32-425c-c413-ce4bf64de9b4"
      },
      "execution_count": 32,
      "outputs": [
        {
          "output_type": "execute_result",
          "data": {
            "text/plain": [
              "1"
            ]
          },
          "metadata": {},
          "execution_count": 32
        }
      ]
    },
    {
      "cell_type": "markdown",
      "source": [
        "# slicing"
      ],
      "metadata": {
        "id": "O6BgpqZjTCvt"
      }
    },
    {
      "cell_type": "markdown",
      "source": [
        "## 1차원 배열 slicing"
      ],
      "metadata": {
        "id": "TzAzz05kTEhV"
      }
    },
    {
      "cell_type": "code",
      "source": [
        "np.random.seed(1)\n",
        "arr = np.random.randint(100, size=10)\n",
        "print(arr)"
      ],
      "metadata": {
        "colab": {
          "base_uri": "https://localhost:8080/"
        },
        "id": "TXWc4JetTD9F",
        "outputId": "6b7d21db-3326-4346-fc79-20682dbef477"
      },
      "execution_count": 36,
      "outputs": [
        {
          "output_type": "stream",
          "name": "stdout",
          "text": [
            "[37 12 72  9 75  5 79 64 16  1]\n"
          ]
        }
      ]
    },
    {
      "cell_type": "code",
      "source": [
        "arr[2:6] # [2,6) 범위의 원소드로 이루어진 부분집합(ndarray)"
      ],
      "metadata": {
        "colab": {
          "base_uri": "https://localhost:8080/"
        },
        "id": "-v4LMrV5TdZj",
        "outputId": "74d99640-43d3-4918-bfd3-d2c7f38b0deb"
      },
      "execution_count": 39,
      "outputs": [
        {
          "output_type": "execute_result",
          "data": {
            "text/plain": [
              "array([72,  9, 75,  5])"
            ]
          },
          "metadata": {},
          "execution_count": 39
        }
      ]
    },
    {
      "cell_type": "code",
      "source": [
        "arr[:3] # 첫 3개 원소 자르기"
      ],
      "metadata": {
        "colab": {
          "base_uri": "https://localhost:8080/"
        },
        "id": "OB_wXMSbTv-C",
        "outputId": "74fd421c-ff05-4bed-fe76-603e0e750054"
      },
      "execution_count": 40,
      "outputs": [
        {
          "output_type": "execute_result",
          "data": {
            "text/plain": [
              "array([37, 12, 72])"
            ]
          },
          "metadata": {},
          "execution_count": 40
        }
      ]
    },
    {
      "cell_type": "code",
      "source": [
        "arr[-3:] # 마지막 3개 원소 자르기"
      ],
      "metadata": {
        "colab": {
          "base_uri": "https://localhost:8080/"
        },
        "id": "U0JLoN-rTzKO",
        "outputId": "10f7b71d-cbaa-4f1c-d3f4-62fa32687920"
      },
      "execution_count": 41,
      "outputs": [
        {
          "output_type": "execute_result",
          "data": {
            "text/plain": [
              "array([64, 16,  1])"
            ]
          },
          "metadata": {},
          "execution_count": 41
        }
      ]
    },
    {
      "cell_type": "markdown",
      "source": [
        "## 2차원 배열 slicing"
      ],
      "metadata": {
        "id": "vd1HzP-eUDTo"
      }
    },
    {
      "cell_type": "code",
      "source": [
        "arr = np.random.randint(100,size=(4,5))\n",
        "print(arr)"
      ],
      "metadata": {
        "colab": {
          "base_uri": "https://localhost:8080/"
        },
        "id": "maH-lcLYUM8K",
        "outputId": "0a01be7c-4c7f-4faf-bab5-405e60c43bad"
      },
      "execution_count": 44,
      "outputs": [
        {
          "output_type": "stream",
          "name": "stdout",
          "text": [
            "[[49 57  3 68 24]\n",
            " [43 76 26 52 80]\n",
            " [41 82 15 64 68]\n",
            " [25 98 87  7 26]]\n"
          ]
        }
      ]
    },
    {
      "cell_type": "code",
      "source": [
        "# 첫 2개의 row를 선택, 모든 column을 선택\n",
        "arr[:2,:]"
      ],
      "metadata": {
        "colab": {
          "base_uri": "https://localhost:8080/"
        },
        "id": "zPJ92cguUkPb",
        "outputId": "a62d8bf7-3990-4e03-ee88-a5904dfbef53"
      },
      "execution_count": 46,
      "outputs": [
        {
          "output_type": "execute_result",
          "data": {
            "text/plain": [
              "array([[49, 57,  3, 68, 24],\n",
              "       [43, 76, 26, 52, 80]])"
            ]
          },
          "metadata": {},
          "execution_count": 46
        }
      ]
    },
    {
      "cell_type": "code",
      "source": [
        "# 첫 2개 row을 선택, 첫 3개 column 선택\n",
        "arr[:2,:3]"
      ],
      "metadata": {
        "colab": {
          "base_uri": "https://localhost:8080/"
        },
        "id": "wrJYPlx2VRef",
        "outputId": "7614a1d6-cbb3-4900-9bfd-d77d18bccc43"
      },
      "execution_count": 48,
      "outputs": [
        {
          "output_type": "execute_result",
          "data": {
            "text/plain": [
              "array([[49, 57,  3],\n",
              "       [43, 76, 26]])"
            ]
          },
          "metadata": {},
          "execution_count": 48
        }
      ]
    },
    {
      "cell_type": "code",
      "source": [
        "arr[:1,:1]"
      ],
      "metadata": {
        "colab": {
          "base_uri": "https://localhost:8080/"
        },
        "id": "GRaZO0BWVw1C",
        "outputId": "a680eb90-0286-4428-d76c-a19be51c9ed1"
      },
      "execution_count": 49,
      "outputs": [
        {
          "output_type": "execute_result",
          "data": {
            "text/plain": [
              "array([[49]])"
            ]
          },
          "metadata": {},
          "execution_count": 49
        }
      ]
    },
    {
      "cell_type": "markdown",
      "source": [
        "# Shape 변경\n",
        "\n",
        "* `np.ndarray.reshape(shape)`\n",
        "* `np.ndarray.ravel()`\n",
        "* `np.ndarray.flatten()`\n",
        "* `np.newaxis` 속성 이용\n"
      ],
      "metadata": {
        "id": "K-PZQHd4ZpO_"
      }
    },
    {
      "cell_type": "markdown",
      "source": [
        "## reshape"
      ],
      "metadata": {
        "id": "JmfHIOU8aPV3"
      }
    },
    {
      "cell_type": "code",
      "source": [
        "arr_1d = np.arange(12)\n",
        "print(arr_1d)"
      ],
      "metadata": {
        "colab": {
          "base_uri": "https://localhost:8080/"
        },
        "id": "o9X72imiaJOb",
        "outputId": "5026bc34-0e8c-4ebd-ef60-d4b71d5663a6"
      },
      "execution_count": 51,
      "outputs": [
        {
          "output_type": "stream",
          "name": "stdout",
          "text": [
            "[ 0  1  2  3  4  5  6  7  8  9 10 11]\n"
          ]
        }
      ]
    },
    {
      "cell_type": "code",
      "source": [
        "# arr_1d 배열을(4,3) shape의 2차원 배열로 변환 -> 모양이 변환된 새로운 배열이 리턴.\n",
        "arr_2d = arr_1d.reshape((4,3))\n",
        "print(arr_2d)"
      ],
      "metadata": {
        "colab": {
          "base_uri": "https://localhost:8080/"
        },
        "id": "UqBITSEXacBX",
        "outputId": "eceec34a-b44e-455f-dbee-6125e771e1fb"
      },
      "execution_count": 53,
      "outputs": [
        {
          "output_type": "stream",
          "name": "stdout",
          "text": [
            "[[ 0  1  2]\n",
            " [ 3  4  5]\n",
            " [ 6  7  8]\n",
            " [ 9 10 11]]\n"
          ]
        }
      ]
    },
    {
      "cell_type": "code",
      "source": [
        "np.reshape(arr_1d,(4,3))"
      ],
      "metadata": {
        "colab": {
          "base_uri": "https://localhost:8080/"
        },
        "id": "IA2XKiFOa68O",
        "outputId": "15e2eedd-c310-49bf-a919-fc8b963f9fb2"
      },
      "execution_count": 56,
      "outputs": [
        {
          "output_type": "execute_result",
          "data": {
            "text/plain": [
              "array([[ 0,  1,  2],\n",
              "       [ 3,  4,  5],\n",
              "       [ 6,  7,  8],\n",
              "       [ 9, 10, 11]])"
            ]
          },
          "metadata": {},
          "execution_count": 56
        }
      ]
    },
    {
      "cell_type": "code",
      "source": [
        "# reshape을 할 때 자동으로 계산될 수 있는 차원 값에는 -1을 사용할 수 있음.\n",
        "arr_2d = arr_1d.reshape((3,-1))\n",
        "arr_2d"
      ],
      "metadata": {
        "colab": {
          "base_uri": "https://localhost:8080/"
        },
        "id": "QkdTBj0FdF_t",
        "outputId": "afb00d89-8c9c-40ec-acbe-d168e424228d"
      },
      "execution_count": 58,
      "outputs": [
        {
          "output_type": "execute_result",
          "data": {
            "text/plain": [
              "array([[ 0,  1,  2,  3],\n",
              "       [ 4,  5,  6,  7],\n",
              "       [ 8,  9, 10, 11]])"
            ]
          },
          "metadata": {},
          "execution_count": 58
        }
      ]
    },
    {
      "cell_type": "code",
      "source": [
        "arr_2d = arr_1d.reshape((-1,4))\n",
        "arr_2d"
      ],
      "metadata": {
        "colab": {
          "base_uri": "https://localhost:8080/"
        },
        "id": "5F-sTiYrdu2H",
        "outputId": "c0f74101-d557-488c-c3dd-9e96be2e91e8"
      },
      "execution_count": 60,
      "outputs": [
        {
          "output_type": "execute_result",
          "data": {
            "text/plain": [
              "array([[ 0,  1,  2,  3],\n",
              "       [ 4,  5,  6,  7],\n",
              "       [ 8,  9, 10, 11]])"
            ]
          },
          "metadata": {},
          "execution_count": 60
        }
      ]
    },
    {
      "cell_type": "code",
      "source": [
        "arr_2d.reshape(3*4,) # reshape(3,4)"
      ],
      "metadata": {
        "colab": {
          "base_uri": "https://localhost:8080/"
        },
        "id": "BHyXv9oPeCt3",
        "outputId": "4791cf04-6423-4b6c-a98c-c9949c963e83"
      },
      "execution_count": 63,
      "outputs": [
        {
          "output_type": "execute_result",
          "data": {
            "text/plain": [
              "array([ 0,  1,  2,  3,  4,  5,  6,  7,  8,  9, 10, 11])"
            ]
          },
          "metadata": {},
          "execution_count": 63
        }
      ]
    },
    {
      "cell_type": "code",
      "source": [
        "arr_2d.reshape((-1,))"
      ],
      "metadata": {
        "colab": {
          "base_uri": "https://localhost:8080/"
        },
        "id": "Dn6L2o0Cepce",
        "outputId": "ab4210ae-035a-4167-bfa9-2e637f1f7e1a"
      },
      "execution_count": 65,
      "outputs": [
        {
          "output_type": "execute_result",
          "data": {
            "text/plain": [
              "array([ 0,  1,  2,  3,  4,  5,  6,  7,  8,  9, 10, 11])"
            ]
          },
          "metadata": {},
          "execution_count": 65
        }
      ]
    },
    {
      "cell_type": "markdown",
      "source": [
        "## `ravel` vs `flatten`\n",
        "\n",
        "* `ravel` : 1차원으로 변환된 배열의 **\"view\"**를 리턴. 배열을 1개이고, 단지 모양만 다르게 보여주는 것.\n",
        "* `flatten` : 1차원으로 변환된 배열의 **복사본**을 리턴. 원본 배열과는 다른 배열 생성."
      ],
      "metadata": {
        "id": "a6IoBCo6fJNS"
      }
    },
    {
      "cell_type": "code",
      "source": [
        "print(arr_2d)"
      ],
      "metadata": {
        "colab": {
          "base_uri": "https://localhost:8080/"
        },
        "id": "dvy9SKBxfrvz",
        "outputId": "bbbb659c-c8f5-4305-9946-ba54eb4cae8b"
      },
      "execution_count": 67,
      "outputs": [
        {
          "output_type": "stream",
          "name": "stdout",
          "text": [
            "[[ 0  1  2  3]\n",
            " [ 4  5  6  7]\n",
            " [ 8  9 10 11]]\n"
          ]
        }
      ]
    },
    {
      "cell_type": "code",
      "source": [
        "flattened = arr_2d.flatten()\n",
        "flattened"
      ],
      "metadata": {
        "colab": {
          "base_uri": "https://localhost:8080/"
        },
        "id": "F_1UeXRzfzwY",
        "outputId": "e24e543a-f33b-4564-cbc6-83cde4d1dbd9"
      },
      "execution_count": 73,
      "outputs": [
        {
          "output_type": "execute_result",
          "data": {
            "text/plain": [
              "array([ 0,  1,  2,  3,  4,  5,  6,  7,  8,  9, 10, 11])"
            ]
          },
          "metadata": {},
          "execution_count": 73
        }
      ]
    },
    {
      "cell_type": "code",
      "source": [
        "flattened[0]=100\n",
        "print(flattened)\n",
        "print(arr_2d) # 1차원으로 변환된 배열의 우너소를 변경하는 것이 2차원 배열에 영향을 미치지 않음."
      ],
      "metadata": {
        "colab": {
          "base_uri": "https://localhost:8080/"
        },
        "id": "XmrR_BfsgS08",
        "outputId": "4a284fd5-23af-4c5e-fb37-056b4b604bb6"
      },
      "execution_count": 76,
      "outputs": [
        {
          "output_type": "stream",
          "name": "stdout",
          "text": [
            "[100   1   2   3   4   5   6   7   8   9  10  11]\n",
            "[[ 0  1  2  3]\n",
            " [ 4  5  6  7]\n",
            " [ 8  9 10 11]]\n"
          ]
        }
      ]
    },
    {
      "cell_type": "code",
      "source": [
        "raveled = arr_2d.ravel()\n",
        "print(raveled)\n",
        "print(arr_2d)"
      ],
      "metadata": {
        "colab": {
          "base_uri": "https://localhost:8080/"
        },
        "id": "SAZAsNteg7Ho",
        "outputId": "ec8a82af-6631-41a5-8904-c1a43120cfea"
      },
      "execution_count": 78,
      "outputs": [
        {
          "output_type": "stream",
          "name": "stdout",
          "text": [
            "[ 0  1  2  3  4  5  6  7  8  9 10 11]\n",
            "[[ 0  1  2  3]\n",
            " [ 4  5  6  7]\n",
            " [ 8  9 10 11]]\n"
          ]
        }
      ]
    },
    {
      "cell_type": "code",
      "source": [
        "raveled[0]=100\n",
        "print(raveled)\n",
        "print(arr_2d) # 1차원 배열의 수정 내용은 원본 2차원 배열에도 적용. "
      ],
      "metadata": {
        "colab": {
          "base_uri": "https://localhost:8080/"
        },
        "id": "aLvXd0gwhBsJ",
        "outputId": "fead0e07-c375-4566-d77e-5ff4045e588b"
      },
      "execution_count": 79,
      "outputs": [
        {
          "output_type": "stream",
          "name": "stdout",
          "text": [
            "[100   1   2   3   4   5   6   7   8   9  10  11]\n",
            "[[100   1   2   3]\n",
            " [  4   5   6   7]\n",
            " [  8   9  10  11]]\n"
          ]
        }
      ]
    },
    {
      "cell_type": "markdown",
      "source": [
        "## np.newaxis 속성을 사용한 차원 늘리기"
      ],
      "metadata": {
        "id": "DedePYen0NUS"
      }
    },
    {
      "cell_type": "code",
      "source": [
        "arr = np.arange(5) # (5,) shape의 1차원 배열\n",
        "print(arr)\n",
        "print(arr.ndim)\n",
        "print(arr.shape)"
      ],
      "metadata": {
        "colab": {
          "base_uri": "https://localhost:8080/"
        },
        "id": "h7XILSjC0QYA",
        "outputId": "4eb4903c-5877-431f-8bd9-31f164bf76c7"
      },
      "execution_count": 81,
      "outputs": [
        {
          "output_type": "stream",
          "name": "stdout",
          "text": [
            "[0 1 2 3 4]\n",
            "1\n",
            "(5,)\n"
          ]
        }
      ]
    },
    {
      "cell_type": "code",
      "source": [
        "# 배열 arr을 (1,5) shape의 2차원 배열로 전환\n",
        "result = arr.reshape(1,-1) # (1,5)\n",
        "result"
      ],
      "metadata": {
        "colab": {
          "base_uri": "https://localhost:8080/"
        },
        "id": "jTZKV5gf0qEE",
        "outputId": "9e8a8ae3-1ed9-493b-feb9-3340155475f6"
      },
      "execution_count": 84,
      "outputs": [
        {
          "output_type": "execute_result",
          "data": {
            "text/plain": [
              "array([[0, 1, 2, 3, 4]])"
            ]
          },
          "metadata": {},
          "execution_count": 84
        }
      ]
    },
    {
      "cell_type": "code",
      "source": [
        "result = arr[np.newaxis, :]\n",
        "result"
      ],
      "metadata": {
        "colab": {
          "base_uri": "https://localhost:8080/"
        },
        "id": "NcHrfSDS1Rn-",
        "outputId": "6672588a-196a-415f-951d-c4e8a7bff676"
      },
      "execution_count": 86,
      "outputs": [
        {
          "output_type": "execute_result",
          "data": {
            "text/plain": [
              "array([[0, 1, 2, 3, 4]])"
            ]
          },
          "metadata": {},
          "execution_count": 86
        }
      ]
    },
    {
      "cell_type": "code",
      "source": [
        "# 배열 arr을 (5,1) shape의 2차원 배열 변환\n",
        "result = arr.reshape((5,1))\n",
        "result"
      ],
      "metadata": {
        "colab": {
          "base_uri": "https://localhost:8080/"
        },
        "id": "Mbso05kh1sE7",
        "outputId": "e619783e-b002-43a6-f6a4-bcd446f64185"
      },
      "execution_count": 89,
      "outputs": [
        {
          "output_type": "execute_result",
          "data": {
            "text/plain": [
              "array([[0],\n",
              "       [1],\n",
              "       [2],\n",
              "       [3],\n",
              "       [4]])"
            ]
          },
          "metadata": {},
          "execution_count": 89
        }
      ]
    },
    {
      "cell_type": "code",
      "source": [
        "result = arr.reshape((-1,1)) # (5,1)\n",
        "result"
      ],
      "metadata": {
        "colab": {
          "base_uri": "https://localhost:8080/"
        },
        "id": "n1otlOvl16it",
        "outputId": "d2766383-e66d-4281-e442-b0ed9e65d81a"
      },
      "execution_count": 92,
      "outputs": [
        {
          "output_type": "execute_result",
          "data": {
            "text/plain": [
              "array([[0],\n",
              "       [1],\n",
              "       [2],\n",
              "       [3],\n",
              "       [4]])"
            ]
          },
          "metadata": {},
          "execution_count": 92
        }
      ]
    },
    {
      "cell_type": "code",
      "source": [
        "result = arr[1:3,np.newaxis]\n",
        "result"
      ],
      "metadata": {
        "colab": {
          "base_uri": "https://localhost:8080/"
        },
        "id": "ZGiQy0kq2a6L",
        "outputId": "72ba0adf-d493-48aa-ee38-7be43fd1a4e1"
      },
      "execution_count": 100,
      "outputs": [
        {
          "output_type": "execute_result",
          "data": {
            "text/plain": [
              "array([[1],\n",
              "       [2]])"
            ]
          },
          "metadata": {},
          "execution_count": 100
        }
      ]
    },
    {
      "cell_type": "markdown",
      "source": [
        "# concatenate\n",
        " \n",
        "* `np.concatenate([array1,arry2,...], axis=0)` : 특정 축(axis) 방향으로 이어 붙이가.\n",
        "* `np.r_[array1,array2]` : 행(row)을 이어 붙이기.\n",
        "* `np.c_[array1,array2]` : 열(column) 이어 붙이기."
      ],
      "metadata": {
        "id": "-X06ZX0x3Apz"
      }
    },
    {
      "cell_type": "code",
      "source": [
        "a1 = np.arange(6).reshape((2,3))\n",
        "print(a1)"
      ],
      "metadata": {
        "colab": {
          "base_uri": "https://localhost:8080/"
        },
        "id": "-SF8fiOE3t2Y",
        "outputId": "91f0288b-e007-449b-b69e-c7154a8fa7cb"
      },
      "execution_count": 101,
      "outputs": [
        {
          "output_type": "stream",
          "name": "stdout",
          "text": [
            "[[0 1 2]\n",
            " [3 4 5]]\n"
          ]
        }
      ]
    },
    {
      "cell_type": "code",
      "source": [
        "a2 = np.array([[10,20,30]]) # (1,3) shape\n",
        "print(a2)"
      ],
      "metadata": {
        "colab": {
          "base_uri": "https://localhost:8080/"
        },
        "id": "4WyKBzqi34u1",
        "outputId": "7a34ecb6-678b-4e75-a2ca-c8d17767ede2"
      },
      "execution_count": 105,
      "outputs": [
        {
          "output_type": "stream",
          "name": "stdout",
          "text": [
            "[[10 20 30]]\n"
          ]
        }
      ]
    },
    {
      "cell_type": "code",
      "source": [
        "result = np.concatenate([a1,a2])\n",
        "result"
      ],
      "metadata": {
        "colab": {
          "base_uri": "https://localhost:8080/"
        },
        "id": "NUQJASeJ4LcK",
        "outputId": "0c5b1ef0-a27a-4961-f506-7f2f71f9c0b7"
      },
      "execution_count": 108,
      "outputs": [
        {
          "output_type": "execute_result",
          "data": {
            "text/plain": [
              "array([[ 0,  1,  2],\n",
              "       [ 3,  4,  5],\n",
              "       [10, 20, 30]])"
            ]
          },
          "metadata": {},
          "execution_count": 108
        }
      ]
    },
    {
      "cell_type": "code",
      "source": [
        "a3 = np.array([[100],[200]])#(2,1) shape\n",
        "print(a3)"
      ],
      "metadata": {
        "colab": {
          "base_uri": "https://localhost:8080/"
        },
        "id": "ARiWokRX416k",
        "outputId": "247d4aa3-dea9-4352-b261-2cde075dfbd2"
      },
      "execution_count": 113,
      "outputs": [
        {
          "output_type": "stream",
          "name": "stdout",
          "text": [
            "[[100]\n",
            " [200]]\n"
          ]
        }
      ]
    },
    {
      "cell_type": "code",
      "source": [
        "result = np.concatenate([a1,a3], axis=1)\n",
        "result"
      ],
      "metadata": {
        "colab": {
          "base_uri": "https://localhost:8080/"
        },
        "id": "L2P29o035Irj",
        "outputId": "d43eaa64-70a8-4b45-f752-8618f29b6971"
      },
      "execution_count": 116,
      "outputs": [
        {
          "output_type": "execute_result",
          "data": {
            "text/plain": [
              "array([[  0,   1,   2, 100],\n",
              "       [  3,   4,   5, 200]])"
            ]
          },
          "metadata": {},
          "execution_count": 116
        }
      ]
    },
    {
      "cell_type": "code",
      "source": [
        "np.r_[a1,a2]"
      ],
      "metadata": {
        "colab": {
          "base_uri": "https://localhost:8080/"
        },
        "id": "-2G8yVD35pFV",
        "outputId": "27e6b21a-bc98-4175-bd4b-be4c30642ea0"
      },
      "execution_count": 117,
      "outputs": [
        {
          "output_type": "execute_result",
          "data": {
            "text/plain": [
              "array([[ 0,  1,  2],\n",
              "       [ 3,  4,  5],\n",
              "       [10, 20, 30]])"
            ]
          },
          "metadata": {},
          "execution_count": 117
        }
      ]
    },
    {
      "cell_type": "code",
      "source": [
        "np.c_[a1,a3]"
      ],
      "metadata": {
        "colab": {
          "base_uri": "https://localhost:8080/"
        },
        "id": "MUj2NwS16BKW",
        "outputId": "dde1f472-6ef5-4b45-98c9-639cff727b44"
      },
      "execution_count": 118,
      "outputs": [
        {
          "output_type": "execute_result",
          "data": {
            "text/plain": [
              "array([[  0,   1,   2, 100],\n",
              "       [  3,   4,   5, 200]])"
            ]
          },
          "metadata": {},
          "execution_count": 118
        }
      ]
    },
    {
      "cell_type": "markdown",
      "source": [
        "# Broadcasting\n",
        "\n",
        "* `np.ndarray` 의 산술연산(`+,*,-,/`)읜 같은 위치(인덱스)의 원소들기리 (element-wise) 연산이 수행됨\n",
        "* 서로 다른 shape을 갖는 배열들끼리 산술 연산이 가능한 경우가 있음.\n",
        "    * broadcast\n",
        "    "
      ],
      "metadata": {
        "id": "XfMqxjt26P44"
      }
    },
    {
      "cell_type": "code",
      "source": [
        "a1 = np.array([1,2]) # (2,)  shape의 1차원 배열\n",
        "a2 = np.array([3,4,5]) # (3,) shape의 1차워 배열\n",
        "# a1+a2 valueError 발생"
      ],
      "metadata": {
        "id": "5QcgBxqx7h36"
      },
      "execution_count": 121,
      "outputs": []
    },
    {
      "cell_type": "markdown",
      "source": [
        "## ndarray와 scalar의 연산"
      ],
      "metadata": {
        "id": "UNzgPMjQ8MLQ"
      }
    },
    {
      "cell_type": "code",
      "source": [
        "a1+10"
      ],
      "metadata": {
        "colab": {
          "base_uri": "https://localhost:8080/"
        },
        "id": "WTTpdH5d8T50",
        "outputId": "ddc16a40-28ef-4159-9402-82f12243c63f"
      },
      "execution_count": 124,
      "outputs": [
        {
          "output_type": "execute_result",
          "data": {
            "text/plain": [
              "array([11, 12])"
            ]
          },
          "metadata": {},
          "execution_count": 124
        }
      ]
    },
    {
      "cell_type": "code",
      "source": [
        "a1 = np.array([[1],[2],[3]])\n",
        "print(a1)"
      ],
      "metadata": {
        "colab": {
          "base_uri": "https://localhost:8080/"
        },
        "id": "k0WoN6mb9Kg4",
        "outputId": "da3d87d5-91ea-4613-da4b-6fc4fcc3eb33"
      },
      "execution_count": 125,
      "outputs": [
        {
          "output_type": "stream",
          "name": "stdout",
          "text": [
            "[[1]\n",
            " [2]\n",
            " [3]]\n"
          ]
        }
      ]
    },
    {
      "cell_type": "code",
      "source": [
        "a1+10"
      ],
      "metadata": {
        "colab": {
          "base_uri": "https://localhost:8080/"
        },
        "id": "7bqu8s7h9RJ3",
        "outputId": "c88370bf-1709-445c-ae32-585af95cfece"
      },
      "execution_count": 126,
      "outputs": [
        {
          "output_type": "execute_result",
          "data": {
            "text/plain": [
              "array([[11],\n",
              "       [12],\n",
              "       [13]])"
            ]
          },
          "metadata": {},
          "execution_count": 126
        }
      ]
    },
    {
      "cell_type": "markdown",
      "source": [
        "## 2차원 배열과 1차원배열 또는 2차원 배열에서의 broadcast"
      ],
      "metadata": {
        "id": "UOww889P-Crk"
      }
    },
    {
      "cell_type": "code",
      "source": [
        "a1 = np.arange(6).reshape((2,-1))\n",
        "a1"
      ],
      "metadata": {
        "colab": {
          "base_uri": "https://localhost:8080/"
        },
        "id": "zNCclHyK-HJA",
        "outputId": "ebff2845-79fb-4630-99b3-0b94bfa3f756"
      },
      "execution_count": 130,
      "outputs": [
        {
          "output_type": "execute_result",
          "data": {
            "text/plain": [
              "array([[0, 1, 2],\n",
              "       [3, 4, 5]])"
            ]
          },
          "metadata": {},
          "execution_count": 130
        }
      ]
    },
    {
      "cell_type": "code",
      "source": [
        "a2 = np.arange(10,40,10) # (3,)\n",
        "a2"
      ],
      "metadata": {
        "colab": {
          "base_uri": "https://localhost:8080/"
        },
        "id": "rlyk9hguCa0B",
        "outputId": "74180861-e078-4ef4-e1b1-5f5c71a7bc0a"
      },
      "execution_count": 132,
      "outputs": [
        {
          "output_type": "execute_result",
          "data": {
            "text/plain": [
              "array([10, 20, 30])"
            ]
          },
          "metadata": {},
          "execution_count": 132
        }
      ]
    },
    {
      "cell_type": "code",
      "source": [
        "a1+a2\n",
        "# (3,) 1d array -->(1,3)2d array - >(2,3) 2d array broadcast"
      ],
      "metadata": {
        "colab": {
          "base_uri": "https://localhost:8080/"
        },
        "id": "Jier_VEwCs1-",
        "outputId": "8cc1b678-6228-46b3-f7e6-d1e76387b1a4"
      },
      "execution_count": 134,
      "outputs": [
        {
          "output_type": "execute_result",
          "data": {
            "text/plain": [
              "array([[10, 21, 32],\n",
              "       [13, 24, 35]])"
            ]
          },
          "metadata": {},
          "execution_count": 134
        }
      ]
    },
    {
      "cell_type": "code",
      "source": [
        "a3=np.array([[10],[20]])\n",
        "a1+a3"
      ],
      "metadata": {
        "colab": {
          "base_uri": "https://localhost:8080/"
        },
        "id": "ue392LWADrfz",
        "outputId": "874d864a-a5a2-4995-b540-286e1a9ef498"
      },
      "execution_count": 138,
      "outputs": [
        {
          "output_type": "execute_result",
          "data": {
            "text/plain": [
              "array([[10, 11, 12],\n",
              "       [23, 24, 25]])"
            ]
          },
          "metadata": {},
          "execution_count": 138
        }
      ]
    },
    {
      "cell_type": "markdown",
      "source": [
        "## broadcast 활용\n",
        "\n",
        "* 표준화 (standardization) : 평균이 0이 되고, 표준편차가 1이 되도록 변수들의 스케일을 변환하는 것.\n",
        "* 정규화 (normalization) : 최솟값이 0이 되고, 최댓값이 1이 되도록 변수들의 스케일을 변환하는 것. min-max scaling"
      ],
      "metadata": {
        "id": "lRvAS4FdE5sM"
      }
    },
    {
      "cell_type": "markdown",
      "source": [
        "### 표준화"
      ],
      "metadata": {
        "id": "ZDvJhVoqFjrF"
      }
    },
    {
      "cell_type": "code",
      "source": [
        "x = np.arange(1,6)\n",
        "x"
      ],
      "metadata": {
        "colab": {
          "base_uri": "https://localhost:8080/"
        },
        "id": "xbEhdzCXFcu8",
        "outputId": "92e08476-3e72-44c8-d51f-d5d6743b9b1c"
      },
      "execution_count": 140,
      "outputs": [
        {
          "output_type": "execute_result",
          "data": {
            "text/plain": [
              "array([1, 2, 3, 4, 5])"
            ]
          },
          "metadata": {},
          "execution_count": 140
        }
      ]
    },
    {
      "cell_type": "code",
      "source": [
        "mu = np.mean(x) # 1d-array 평균\n",
        "mu"
      ],
      "metadata": {
        "colab": {
          "base_uri": "https://localhost:8080/"
        },
        "id": "XcM741CVFyA9",
        "outputId": "e5a56962-be56-42a4-a03d-93f3e3c9957d"
      },
      "execution_count": 142,
      "outputs": [
        {
          "output_type": "execute_result",
          "data": {
            "text/plain": [
              "3.0"
            ]
          },
          "metadata": {},
          "execution_count": 142
        }
      ]
    },
    {
      "cell_type": "code",
      "source": [
        "sigma = np.std(x) # 1d-array 표준편차\n",
        "sigma"
      ],
      "metadata": {
        "colab": {
          "base_uri": "https://localhost:8080/"
        },
        "id": "sRD92AsmF3dv",
        "outputId": "5f2bc187-9df5-4e67-b738-2f473bf98c32"
      },
      "execution_count": 144,
      "outputs": [
        {
          "output_type": "execute_result",
          "data": {
            "text/plain": [
              "1.4142135623730951"
            ]
          },
          "metadata": {},
          "execution_count": 144
        }
      ]
    },
    {
      "cell_type": "code",
      "source": [
        "x_scaled = (x-mu) / sigma\n",
        "x_scaled"
      ],
      "metadata": {
        "colab": {
          "base_uri": "https://localhost:8080/"
        },
        "id": "T1s-v5huF8pX",
        "outputId": "3aaf38ca-487d-4284-8e13-f0348dd3ec6b"
      },
      "execution_count": 146,
      "outputs": [
        {
          "output_type": "execute_result",
          "data": {
            "text/plain": [
              "array([-1.41421356, -0.70710678,  0.        ,  0.70710678,  1.41421356])"
            ]
          },
          "metadata": {},
          "execution_count": 146
        }
      ]
    },
    {
      "cell_type": "code",
      "source": [
        "np.mean(x_scaled)"
      ],
      "metadata": {
        "colab": {
          "base_uri": "https://localhost:8080/"
        },
        "id": "6kYX77A-G9fS",
        "outputId": "ec5dcd0f-7ff6-46ec-f706-46924237a43c"
      },
      "execution_count": 148,
      "outputs": [
        {
          "output_type": "execute_result",
          "data": {
            "text/plain": [
              "0.0"
            ]
          },
          "metadata": {},
          "execution_count": 148
        }
      ]
    },
    {
      "cell_type": "code",
      "source": [
        "np.std(x_scaled)"
      ],
      "metadata": {
        "colab": {
          "base_uri": "https://localhost:8080/"
        },
        "id": "shpWDazpHANd",
        "outputId": "7f33c549-a348-45d4-b6de-24eac35afdc7"
      },
      "execution_count": 149,
      "outputs": [
        {
          "output_type": "execute_result",
          "data": {
            "text/plain": [
              "0.9999999999999999"
            ]
          },
          "metadata": {},
          "execution_count": 149
        }
      ]
    },
    {
      "cell_type": "markdown",
      "source": [
        "### 정규화"
      ],
      "metadata": {
        "id": "A9zwOhXeI_0n"
      }
    },
    {
      "cell_type": "code",
      "source": [
        "xmin = np.min(x)\n",
        "xmax = np.max(x)\n",
        "print(xmin)\n",
        "print(xmax)"
      ],
      "metadata": {
        "colab": {
          "base_uri": "https://localhost:8080/"
        },
        "id": "jevmuUXRJGEj",
        "outputId": "f71d8d73-e123-45d2-d46d-3082275e64c7"
      },
      "execution_count": 152,
      "outputs": [
        {
          "output_type": "stream",
          "name": "stdout",
          "text": [
            "1\n",
            "5\n"
          ]
        }
      ]
    },
    {
      "cell_type": "code",
      "source": [
        "x_normalized = (x-xmin) /(xmax - xmin) # 정규화\n",
        "print(x_normalized) "
      ],
      "metadata": {
        "colab": {
          "base_uri": "https://localhost:8080/"
        },
        "id": "T0cpbjZDJZSN",
        "outputId": "eabef3d0-ec7b-4d10-f150-65643b655c88"
      },
      "execution_count": 154,
      "outputs": [
        {
          "output_type": "stream",
          "name": "stdout",
          "text": [
            "[0.   0.25 0.5  0.75 1.  ]\n"
          ]
        }
      ]
    },
    {
      "cell_type": "code",
      "source": [
        "### 2차원 배열의 표준화 ,정규화"
      ],
      "metadata": {
        "id": "Ov-84wIkLDLy"
      },
      "execution_count": 155,
      "outputs": []
    },
    {
      "cell_type": "code",
      "source": [
        "x = np.arange(1,7).reshape((3,-1))\n",
        "x"
      ],
      "metadata": {
        "colab": {
          "base_uri": "https://localhost:8080/"
        },
        "id": "xUrTnCf1LFdR",
        "outputId": "ebd46856-1f4e-4ad5-8661-982956437b46"
      },
      "execution_count": 158,
      "outputs": [
        {
          "output_type": "execute_result",
          "data": {
            "text/plain": [
              "array([[1, 2],\n",
              "       [3, 4],\n",
              "       [5, 6]])"
            ]
          },
          "metadata": {},
          "execution_count": 158
        }
      ]
    },
    {
      "cell_type": "markdown",
      "source": [
        "2차원 배열 x를 axis = 0 방향으로 표쥰화, 정규화"
      ],
      "metadata": {
        "id": "KIK2WRAFLuBO"
      }
    },
    {
      "cell_type": "code",
      "source": [
        "mu = np.mean(x,axis=0)\n",
        "print(mu)\n",
        "sigma = np.std(x,axis=0)\n",
        "print(sigma)"
      ],
      "metadata": {
        "colab": {
          "base_uri": "https://localhost:8080/"
        },
        "id": "YsHoeN-JRux5",
        "outputId": "6b1624ee-8272-4579-be5b-50b57679c184"
      },
      "execution_count": 177,
      "outputs": [
        {
          "output_type": "stream",
          "name": "stdout",
          "text": [
            "[3. 4.]\n",
            "[1.63299316 1.63299316]\n"
          ]
        }
      ]
    },
    {
      "cell_type": "code",
      "source": [
        "x_scaled = (x-mu)/sigma\n",
        "print(x_scaled)"
      ],
      "metadata": {
        "colab": {
          "base_uri": "https://localhost:8080/"
        },
        "id": "ujIZscJsR3e7",
        "outputId": "1ac506f3-937b-4ba3-d56b-8198ff28efac"
      },
      "execution_count": 178,
      "outputs": [
        {
          "output_type": "stream",
          "name": "stdout",
          "text": [
            "[[-1.22474487 -1.22474487]\n",
            " [ 0.          0.        ]\n",
            " [ 1.22474487  1.22474487]]\n"
          ]
        }
      ]
    },
    {
      "cell_type": "code",
      "source": [
        "xmax = np.max(x,axis=0)\n",
        "print(xmax)"
      ],
      "metadata": {
        "colab": {
          "base_uri": "https://localhost:8080/"
        },
        "id": "oNFKyQ67T9QP",
        "outputId": "99cccfd5-88cc-4206-e146-b798453a54cc"
      },
      "execution_count": 181,
      "outputs": [
        {
          "output_type": "stream",
          "name": "stdout",
          "text": [
            "[5 6]\n"
          ]
        }
      ]
    },
    {
      "cell_type": "code",
      "source": [
        "xmin = np.min(x,axis=0)\n",
        "print(xmin)"
      ],
      "metadata": {
        "colab": {
          "base_uri": "https://localhost:8080/"
        },
        "id": "Y3JwrEs8UDFd",
        "outputId": "8a55a017-786c-4d78-8840-05784d6cea04"
      },
      "execution_count": 183,
      "outputs": [
        {
          "output_type": "stream",
          "name": "stdout",
          "text": [
            "[1 2]\n"
          ]
        }
      ]
    },
    {
      "cell_type": "code",
      "source": [
        "x_normalized = (x-xmin)/(xmax-xmin)\n",
        "print(x_normalized)"
      ],
      "metadata": {
        "colab": {
          "base_uri": "https://localhost:8080/"
        },
        "id": "1keb7m6fUG8d",
        "outputId": "2bdd8215-b1cf-4aa8-9d77-c919c4db2225"
      },
      "execution_count": 185,
      "outputs": [
        {
          "output_type": "stream",
          "name": "stdout",
          "text": [
            "[[0.  0. ]\n",
            " [0.5 0.5]\n",
            " [1.  1. ]]\n"
          ]
        }
      ]
    },
    {
      "cell_type": "markdown",
      "source": [
        "배열 x를 axis=1 방향으로 표준화 , 정규화"
      ],
      "metadata": {
        "id": "hrHoQ1X4VrwK"
      }
    },
    {
      "cell_type": "code",
      "source": [
        "mu = np.mean(x,axis=1, keepdims=True)\n",
        "print(mu)"
      ],
      "metadata": {
        "colab": {
          "base_uri": "https://localhost:8080/"
        },
        "id": "xPD5xPw5VmWW",
        "outputId": "531d902a-9409-455e-a90b-33844ba4f325"
      },
      "execution_count": 193,
      "outputs": [
        {
          "output_type": "stream",
          "name": "stdout",
          "text": [
            "[[1.5]\n",
            " [3.5]\n",
            " [5.5]]\n"
          ]
        }
      ]
    },
    {
      "cell_type": "code",
      "source": [
        "sigma = np.std(x,axis=1,keepdims=True)\n",
        "print(sigma)"
      ],
      "metadata": {
        "colab": {
          "base_uri": "https://localhost:8080/"
        },
        "id": "L9Kk86QwVqX5",
        "outputId": "b9075f3e-90d8-4197-910d-185eeeddb890"
      },
      "execution_count": 195,
      "outputs": [
        {
          "output_type": "stream",
          "name": "stdout",
          "text": [
            "[[0.5]\n",
            " [0.5]\n",
            " [0.5]]\n"
          ]
        }
      ]
    },
    {
      "cell_type": "code",
      "source": [
        "x_scaled = (x-mu)/sigma\n",
        "print(x_scaled)"
      ],
      "metadata": {
        "colab": {
          "base_uri": "https://localhost:8080/"
        },
        "id": "oxskp7iDY23I",
        "outputId": "f88b156c-f168-4dde-e47d-a4578b47ec4e"
      },
      "execution_count": 194,
      "outputs": [
        {
          "output_type": "stream",
          "name": "stdout",
          "text": [
            "[[-1.  1.]\n",
            " [-1.  1.]\n",
            " [-1.  1.]]\n"
          ]
        }
      ]
    }
  ]
}